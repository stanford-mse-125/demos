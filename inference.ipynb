{
 "cells": [
  {
   "cell_type": "code",
   "execution_count": 1,
   "metadata": {},
   "outputs": [],
   "source": [
    "import pandas as pd\n",
    "import numpy as np\n",
    "import matplotlib.pyplot as plt\n",
    "import seaborn as sns\n",
    "import scipy.stats as stats"
   ]
  },
  {
   "cell_type": "code",
   "execution_count": 2,
   "metadata": {},
   "outputs": [
    {
     "data": {
      "text/html": [
       "<div>\n",
       "<style scoped>\n",
       "    .dataframe tbody tr th:only-of-type {\n",
       "        vertical-align: middle;\n",
       "    }\n",
       "\n",
       "    .dataframe tbody tr th {\n",
       "        vertical-align: top;\n",
       "    }\n",
       "\n",
       "    .dataframe thead th {\n",
       "        text-align: right;\n",
       "    }\n",
       "</style>\n",
       "<table border=\"1\" class=\"dataframe\">\n",
       "  <thead>\n",
       "    <tr style=\"text-align: right;\">\n",
       "      <th></th>\n",
       "      <th>side</th>\n",
       "      <th>prob</th>\n",
       "    </tr>\n",
       "  </thead>\n",
       "  <tbody>\n",
       "    <tr>\n",
       "      <th>0</th>\n",
       "      <td>heads</td>\n",
       "      <td>0.4</td>\n",
       "    </tr>\n",
       "    <tr>\n",
       "      <th>1</th>\n",
       "      <td>tails</td>\n",
       "      <td>0.6</td>\n",
       "    </tr>\n",
       "  </tbody>\n",
       "</table>\n",
       "</div>"
      ],
      "text/plain": [
       "    side  prob\n",
       "0  heads   0.4\n",
       "1  tails   0.6"
      ]
     },
     "execution_count": 2,
     "metadata": {},
     "output_type": "execute_result"
    }
   ],
   "source": [
    "# generate a distribution: a coin flip \n",
    "theta = 0.4\n",
    "coin = pd.DataFrame({'side': ['heads', 'tails'], 'prob': [theta, 1 - theta]})\n",
    "coin"
   ]
  },
  {
   "cell_type": "code",
   "execution_count": 3,
   "metadata": {},
   "outputs": [
    {
     "data": {
      "text/html": [
       "<div>\n",
       "<style scoped>\n",
       "    .dataframe tbody tr th:only-of-type {\n",
       "        vertical-align: middle;\n",
       "    }\n",
       "\n",
       "    .dataframe tbody tr th {\n",
       "        vertical-align: top;\n",
       "    }\n",
       "\n",
       "    .dataframe thead th {\n",
       "        text-align: right;\n",
       "    }\n",
       "</style>\n",
       "<table border=\"1\" class=\"dataframe\">\n",
       "  <thead>\n",
       "    <tr style=\"text-align: right;\">\n",
       "      <th></th>\n",
       "      <th>side</th>\n",
       "      <th>prob</th>\n",
       "    </tr>\n",
       "  </thead>\n",
       "  <tbody>\n",
       "    <tr>\n",
       "      <th>0</th>\n",
       "      <td>heads</td>\n",
       "      <td>0.4</td>\n",
       "    </tr>\n",
       "    <tr>\n",
       "      <th>0</th>\n",
       "      <td>heads</td>\n",
       "      <td>0.4</td>\n",
       "    </tr>\n",
       "    <tr>\n",
       "      <th>0</th>\n",
       "      <td>heads</td>\n",
       "      <td>0.4</td>\n",
       "    </tr>\n",
       "    <tr>\n",
       "      <th>1</th>\n",
       "      <td>tails</td>\n",
       "      <td>0.6</td>\n",
       "    </tr>\n",
       "    <tr>\n",
       "      <th>1</th>\n",
       "      <td>tails</td>\n",
       "      <td>0.6</td>\n",
       "    </tr>\n",
       "    <tr>\n",
       "      <th>0</th>\n",
       "      <td>heads</td>\n",
       "      <td>0.4</td>\n",
       "    </tr>\n",
       "    <tr>\n",
       "      <th>1</th>\n",
       "      <td>tails</td>\n",
       "      <td>0.6</td>\n",
       "    </tr>\n",
       "    <tr>\n",
       "      <th>0</th>\n",
       "      <td>heads</td>\n",
       "      <td>0.4</td>\n",
       "    </tr>\n",
       "    <tr>\n",
       "      <th>0</th>\n",
       "      <td>heads</td>\n",
       "      <td>0.4</td>\n",
       "    </tr>\n",
       "    <tr>\n",
       "      <th>0</th>\n",
       "      <td>heads</td>\n",
       "      <td>0.4</td>\n",
       "    </tr>\n",
       "  </tbody>\n",
       "</table>\n",
       "</div>"
      ],
      "text/plain": [
       "    side  prob\n",
       "0  heads   0.4\n",
       "0  heads   0.4\n",
       "0  heads   0.4\n",
       "1  tails   0.6\n",
       "1  tails   0.6\n",
       "0  heads   0.4\n",
       "1  tails   0.6\n",
       "0  heads   0.4\n",
       "0  heads   0.4\n",
       "0  heads   0.4"
      ]
     },
     "execution_count": 3,
     "metadata": {},
     "output_type": "execute_result"
    }
   ],
   "source": [
    "# sample with replacement \n",
    "n = 10\n",
    "coin.sample(n=n, weights='prob', replace=True)"
   ]
  },
  {
   "cell_type": "code",
   "execution_count": 4,
   "metadata": {},
   "outputs": [
    {
     "data": {
      "text/plain": [
       "side\n",
       "heads    0.3\n",
       "tails    0.7\n",
       "dtype: float64"
      ]
     },
     "execution_count": 4,
     "metadata": {},
     "output_type": "execute_result"
    }
   ],
   "source": [
    "# estimate theta\n",
    "# every time we sample from the data, we get a different estimate for theta\n",
    "coin.sample(n=10, weights='prob', replace=True).groupby('side').size() / n"
   ]
  },
  {
   "cell_type": "code",
   "execution_count": 5,
   "metadata": {},
   "outputs": [
    {
     "data": {
      "text/plain": [
       "<AxesSubplot:ylabel='Count'>"
      ]
     },
     "execution_count": 5,
     "metadata": {},
     "output_type": "execute_result"
    },
    {
     "data": {
      "image/png": "[encoded data removed]",
      "text/plain": [
       "<Figure size 432x288 with 1 Axes>"
      ]
     },
     "metadata": {
      "needs_background": "light"
     },
     "output_type": "display_data"
    }
   ],
   "source": [
    "# how would our estimate be different on different samples?\n",
    "trials = 1000\n",
    "theta_hats = np.zeros(trials)\n",
    "for t in range(trials):\n",
    "    try:\n",
    "        theta_hats[t] = coin.sample(n=n, weights='prob', replace=True).groupby('side').size()['heads'] / n\n",
    "    except:\n",
    "        theta_hats[t] = 0\n",
    "\n",
    "sns.histplot(theta_hats, bins=10)"
   ]
  },
  {
   "cell_type": "code",
   "execution_count": 6,
   "metadata": {},
   "outputs": [
    {
     "data": {
      "text/plain": [
       "(0.4034, 0.023088440000000002)"
      ]
     },
     "execution_count": 6,
     "metadata": {},
     "output_type": "execute_result"
    }
   ],
   "source": [
    "# compute the mean and variance of the estimates\n",
    "theta_hats.mean(), theta_hats.var()"
   ]
  },
  {
   "cell_type": "code",
   "execution_count": 7,
   "metadata": {},
   "outputs": [
    {
     "name": "stdout",
     "output_type": "stream",
     "text": [
      "empirical variance: 0.023088440000000002\n",
      "analytical variance: 0.024\n"
     ]
    }
   ],
   "source": [
    "# how does this compare to our analytical result?\n",
    "print(\"empirical variance:\", theta_hats.var())\n",
    "print(\"analytical variance:\", theta * (1 - theta) / n)"
   ]
  },
  {
   "attachments": {},
   "cell_type": "markdown",
   "metadata": {},
   "source": [
    "# Normal approximation"
   ]
  },
  {
   "cell_type": "code",
   "execution_count": 56,
   "metadata": {},
   "outputs": [
    {
     "data": {
      "text/plain": [
       "[<matplotlib.lines.Line2D at 0x7f803893a160>]"
      ]
     },
     "execution_count": 56,
     "metadata": {},
     "output_type": "execute_result"
    },
    {
     "data": {
      "image/png": "[encoded data removed]",
      "text/plain": [
       "<Figure size 432x288 with 1 Axes>"
      ]
     },
     "metadata": {
      "needs_background": "light"
     },
     "output_type": "display_data"
    }
   ],
   "source": [
    "# as the number of samples increases, the variance decreases and the distribution looks more normal\n",
    "n = 50\n",
    "trials = 1000\n",
    "theta_hats = np.zeros(trials)\n",
    "for t in range(trials):\n",
    "    try:\n",
    "        theta_hats[t] = coin.sample(n=n, weights='prob', replace=True).groupby('side').size()['heads'] / n\n",
    "    except:\n",
    "        theta_hats[t] = 0\n",
    "\n",
    "sns.histplot(theta_hats, bins=20, stat='density')\n",
    "\n",
    "# plot a normal distribution with the same mean and variance\n",
    "x = np.linspace(0, 1, 100)\n",
    "y = stats.norm.pdf(x, loc=theta_hats.mean(), scale=np.sqrt(theta_hats.var()))\n",
    "plt.plot(x, y, color='red')"
   ]
  },
  {
   "cell_type": "code",
   "execution_count": null,
   "metadata": {},
   "outputs": [],
   "source": [
    "# plot a figure to define the z score of a standard normal distribution\n",
    "x = np.linspace(-5, 5, 100)\n",
    "y = stats.norm.pdf(x)\n",
    "plt.plot(x, y)\n",
    "plt.fill_between(x, y, where=(x > -1.96) & (x < 1.96), color='red', alpha=0.5)\n",
    "plt.xlabel('z score')"
   ]
  },
  {
   "cell_type": "code",
   "execution_count": 60,
   "metadata": {},
   "outputs": [
    {
     "data": {
      "text/plain": [
       "0.950004209703559"
      ]
     },
     "execution_count": 60,
     "metadata": {},
     "output_type": "execute_result"
    }
   ],
   "source": [
    "# the interval (-1.96, 1.96) contains 95% of the probability mass of the standard normal distribution\n",
    "stats.norm.cdf(1.96) - stats.norm.cdf(-1.96)"
   ]
  },
  {
   "cell_type": "code",
   "execution_count": 63,
   "metadata": {},
   "outputs": [
    {
     "data": {
      "text/plain": [
       "(-1.6448536269514729, 1.6448536269514722)"
      ]
     },
     "execution_count": 63,
     "metadata": {},
     "output_type": "execute_result"
    }
   ],
   "source": [
    "# can get other confidence levels (1-alpha) using the inverse cdf\n",
    "alpha = .1\n",
    "stats.norm.ppf(alpha/2), stats.norm.ppf(1-alpha/2)"
   ]
  },
  {
   "cell_type": "code",
   "execution_count": 76,
   "metadata": {},
   "outputs": [
    {
     "data": {
      "text/plain": [
       "Text(-0.5, 0.2, '0.95 CI')"
      ]
     },
     "execution_count": 76,
     "metadata": {},
     "output_type": "execute_result"
    },
    {
     "data": {
      "image/png": "[encoded data removed]",
      "text/plain": [
       "<Figure size 432x288 with 1 Axes>"
      ]
     },
     "metadata": {
      "needs_background": "light"
     },
     "output_type": "display_data"
    }
   ],
   "source": [
    "# the interval [-1.96, 1.96] contains 95% of the area under the standard normal curve\n",
    "alpha = .05\n",
    "x = np.linspace(-5, 5, 100)\n",
    "y = stats.norm.pdf(x)\n",
    "plt.plot(x, y)\n",
    "plt.fill_between(x, y, where=(x > stats.norm.ppf(alpha/2)) & (x < stats.norm.ppf(1-alpha/2)), color='red', alpha=0.5)\n",
    "plt.xlabel('z score')\n",
    "# label the red region as the (1-alpha) confidence interval\n",
    "plt.text(-.5, 0.2, f'{1-alpha} CI', color='black')"
   ]
  },
  {
   "attachments": {},
   "cell_type": "markdown",
   "metadata": {},
   "source": [
    "# Confidence intervals"
   ]
  },
  {
   "cell_type": "code",
   "execution_count": 8,
   "metadata": {},
   "outputs": [
    {
     "name": "stdout",
     "output_type": "stream",
     "text": [
      "95% confidence interval: (0.015974234910674623, 0.5840257650893254)\n"
     ]
    }
   ],
   "source": [
    "# confidence interval for a single sample \n",
    "samples = coin.sample(n=n, weights='prob', replace=True)\n",
    "theta_hat = samples.groupby('side').size()['heads'] / n\n",
    "se_hat = np.sqrt(theta_hat * (1 - theta_hat) / n)\n",
    "print(\"95% confidence interval:\", stats.norm.interval(0.95, loc=theta_hat, scale=se_hat))"
   ]
  },
  {
   "cell_type": "code",
   "execution_count": 24,
   "metadata": {},
   "outputs": [
    {
     "data": {
      "text/plain": [
       "0.906"
      ]
     },
     "execution_count": 24,
     "metadata": {},
     "output_type": "execute_result"
    }
   ],
   "source": [
    "# of course, for each sample, \n",
    "# we would compute the standard error of the estimate\n",
    "# and use this to compute a confidence interval\n",
    "# here we use a 95% confidence interval\n",
    "intervals = pd.DataFrame({'theta_hat': theta_hats}).sort_values('theta_hat')\n",
    "\n",
    "intervals['se'] = np.sqrt(intervals['theta_hat'] * (1 - intervals['theta_hat']) / n)\n",
    "intervals['lower'] = intervals['theta_hat'] - 1.96 * intervals['se']\n",
    "intervals['upper'] = intervals['theta_hat'] + 1.96 * intervals['se']\n",
    "\n",
    "# how many of the intervals contain the true value of theta?\n",
    "intervals['trap theta'] = (intervals['lower'] < theta) & (intervals['upper'] > theta)\n",
    "intervals['trap theta'].mean()"
   ]
  },
  {
   "cell_type": "code",
   "execution_count": 43,
   "metadata": {},
   "outputs": [
    {
     "data": {
      "text/plain": [
       "Text(0, 0.5, 'theta_hat')"
      ]
     },
     "execution_count": 43,
     "metadata": {},
     "output_type": "execute_result"
    },
    {
     "data": {
      "image/png": "[encoded data removed]",
      "text/plain": [
       "<Figure size 720x360 with 1 Axes>"
      ]
     },
     "metadata": {
      "needs_background": "light"
     },
     "output_type": "display_data"
    }
   ],
   "source": [
    "plt.figure(figsize=(10, 5))\n",
    "plt.plot([0, T], [theta, theta], 'k--')\n",
    "plt.plot([0, T], [theta - 1.96 * np.sqrt(theta * (1 - theta) / n), theta - 1.96 * np.sqrt(theta * (1 - theta) / n)], 'k:')\n",
    "plt.plot([0, T], [theta + 1.96 * np.sqrt(theta * (1 - theta) / n), theta + 1.96 * np.sqrt(theta * (1 - theta) / n)], 'k:')\n",
    "plt.scatter(range(trials), intervals['theta_hat'], marker='o', alpha = .1)\n",
    "plt.scatter(range(trials), intervals['lower'], color='red', marker='o', alpha = .1)\n",
    "plt.scatter(range(trials), intervals['upper'], color='red', marker='o', alpha = .1)\n",
    "plt.xlabel('trial')\n",
    "plt.ylabel('theta_hat')"
   ]
  },
  {
   "attachments": {},
   "cell_type": "markdown",
   "metadata": {},
   "source": [
    "Question: why do the estimates for theta cluster at a discrete set of levels?"
   ]
  },
  {
   "cell_type": "code",
   "execution_count": 13,
   "metadata": {},
   "outputs": [
    {
     "data": {
      "text/plain": [
       "(0.1, 0.7)"
      ]
     },
     "execution_count": 13,
     "metadata": {},
     "output_type": "execute_result"
    }
   ],
   "source": [
    "# compare the 95% interquantile interval for theta_hat to the 95% confidence interval for theta_hat\n",
    "intervals['theta_hat'].quantile(0.025), intervals['theta_hat'].quantile(0.975)\n"
   ]
  }
 ],
 "metadata": {
  "kernelspec": {
   "display_name": "base",
   "language": "python",
   "name": "python3"
  },
  "language_info": {
   "codemirror_mode": {
    "name": "ipython",
    "version": 3
   },
   "file_extension": ".py",
   "mimetype": "text/x-python",
   "name": "python",
   "nbconvert_exporter": "python",
   "pygments_lexer": "ipython3",
   "version": "3.9.12"
  },
  "orig_nbformat": 4,
  "vscode": {
   "interpreter": {
    "hash": "2e8b7f62927fe0753cae67d9a5877941773e0f948637a4bc940202eeb3c19f2e"
   }
  }
 },
 "nbformat": 4,
 "nbformat_minor": 2
}
