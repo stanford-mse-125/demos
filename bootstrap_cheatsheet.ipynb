{
 "cells": [
  {
   "cell_type": "code",
   "execution_count": 1,
   "metadata": {},
   "outputs": [],
   "source": [
    "import numpy as np\n",
    "import pandas as pd\n",
    "import matplotlib.pyplot as plt\n",
    "import seaborn as sns\n",
    "\n",
    "from scipy import stats"
   ]
  },
  {
   "attachments": {},
   "cell_type": "markdown",
   "metadata": {},
   "source": [
    "## Table of common statistical tests and their corresponding sampling versions\n",
    "\n",
    "| Test          | Null Hypothesis | Stat Test                      | What to Sample                                   |\n",
    "|---------------|-----------------|--------------------------------|--------------------------------------------------|\n",
    "| 1 mean        | $\\mu = \\mu_0$   | t-test                         | Bootstrap samples (use confidence interval)      |\n",
    "| 2 means       | $\\mu_1 = \\mu_2$ | 2 sample t-test                | Shuffle labels, i.e. permutation test            |\n",
    "| 1 proportion  | $p = p_0$       | proportions test               | Directly from $p_0$                              |\n",
    "| 2 proportions | $p_1 = p_2$     | Difference in proportions test | From $(p_1 + p_2) / 2$                           |"
   ]
  },
  {
   "attachments": {},
   "cell_type": "markdown",
   "metadata": {},
   "source": [
    "### 1 Mean test\n",
    "\n",
    "Your friend insists that the average height for males in the US is 72 inches. You have data for 50 males randomly sampled from the US population, with an average height of 70.41 inches. Can you conclude that your friend is wrong?"
   ]
  },
  {
   "cell_type": "code",
   "execution_count": 8,
   "metadata": {},
   "outputs": [
    {
     "name": "stdout",
     "output_type": "stream",
     "text": [
      "Mean of data: 70.41\n",
      "CI from t-test: ConfidenceInterval(low=69.37534638293424, high=71.44454337840453)\n",
      "CI from bootstrap: [69.40739916 71.41187632]\n"
     ]
    }
   ],
   "source": [
    "np.random.seed(10)\n",
    "data = np.random.normal(loc=70, scale=4, size=(50))\n",
    "print(f\"Mean of data: {np.round(np.mean(data), 2)}\")\n",
    "\n",
    "# Get results of one-sample t-test\n",
    "results = stats.ttest_1samp(data, popmean=72)\n",
    "print(f\"CI from t-test: {results.confidence_interval()}\")\n",
    "\n",
    "# Draw bootstrap samples\n",
    "B = 10000\n",
    "bootstrap_means = []\n",
    "for _ in range(B):\n",
    "    bootstrap_data = np.random.choice(data, size=50, replace=True)\n",
    "    bootstrap_means.append(np.mean(bootstrap_data))\n",
    "\n",
    "bootstrap_ci = np.quantile(bootstrap_means, [0.025, 0.975])\n",
    "print(f\"CI from bootstrap: {bootstrap_ci}\")\n"
   ]
  },
  {
   "attachments": {},
   "cell_type": "markdown",
   "metadata": {},
   "source": [
    "### 2 Means Test: Permutation Test\n",
    "\n",
    "Your friend now insists that black men are taller than white men on average. Of your 50 samples, 15 are black and 35 are white. Are their average heights significantly different?"
   ]
  },
  {
   "cell_type": "code",
   "execution_count": 36,
   "metadata": {},
   "outputs": [
    {
     "name": "stdout",
     "output_type": "stream",
     "text": [
      "Means from data\n",
      "[71.76811616 70.13872506]\n",
      "Difference in means: 1.6293911038630284\n",
      "p-value from t-test: 0.07981920313858169\n",
      "Permutation Test p value: 0.0626\n"
     ]
    }
   ],
   "source": [
    "np.random.seed(11)\n",
    "n_white = 75\n",
    "n_black = 25\n",
    "\n",
    "white_heights = np.random.normal(loc=70, scale=4, size=(n_white))\n",
    "black_heights = np.random.normal(loc=72, scale=4, size=(n_black))\n",
    "heights_df = pd.DataFrame({\n",
    "    \"race\": [\"white\"]*n_white + [\"black\"]*n_black,\n",
    "    \"height\": np.concatenate([white_heights, black_heights]),\n",
    "})\n",
    "\n",
    "means = heights_df.groupby(\"race\")[\"height\"].mean()\n",
    "obs_means_diff = means[\"black\"] - means[\"white\"]\n",
    "print(\"Means from data\")\n",
    "print(means.values)\n",
    "print(f\"Difference in means: {obs_means_diff}\")\n",
    "\n",
    "# Get results of two-sample t-test\n",
    "tstat, pval = stats.ttest_ind(white_heights, black_heights, equal_var=False)\n",
    "print(f\"p-value from t-test: {pval}\")\n",
    "\n",
    "# Draw random permutations, calculate difference in means for each permutation\n",
    "np.random.seed(11)\n",
    "B = 10000\n",
    "mean_diffs = []\n",
    "for _ in range(B):\n",
    "    heights_df[\"shuffled_race\"] = np.random.choice(heights_df[\"race\"], size=n_white+n_black, replace=False)\n",
    "    shuffled_means = heights_df.groupby(\"shuffled_race\")[\"height\"].mean()\n",
    "    mean_diffs.append(shuffled_means[\"black\"] - shuffled_means[\"white\"])\n",
    "\n",
    "\n",
    "empirical_pval = np.mean(np.logical_or(mean_diffs <= -np.abs(obs_means_diff), mean_diffs >= np.abs(obs_means_diff)))\n",
    "print(f\"Permutation Test p value: {empirical_pval}\")"
   ]
  },
  {
   "attachments": {},
   "cell_type": "markdown",
   "metadata": {},
   "source": [
    "### 1 Proportion Test\n",
    "\n",
    "From [Data8 Ch 11](https://inferentialthinking.com/chapters/11/1/Assessing_a_Model.html). Suppose that of a jury of 100 people, claimed to be selected randomly, only 16 were black, whereas 26\\% of the population in the area is black. Was the jury selection biased?"
   ]
  },
  {
   "cell_type": "code",
   "execution_count": 44,
   "metadata": {},
   "outputs": [
    {
     "name": "stdout",
     "output_type": "stream",
     "text": [
      "p-value from one-sample proportions test: 0.022247315521301575\n",
      "p-value from sampling: 0.0124\n"
     ]
    }
   ],
   "source": [
    "np.random.seed(10)\n",
    "obs_prop = 0.16\n",
    "\n",
    "# Get p value from one-sample proportions test\n",
    "result = stats.binomtest(k=int(obs_prop*100), n=100, p=0.26)\n",
    "print(f\"p-value from one-sample proportions test: {result.pvalue}\")\n",
    "\n",
    "# Sample races according to null hypothesis distribution\n",
    "races = [\"black\", \"not black\"]\n",
    "probs = [0.26, 1 - 0.26]\n",
    "B = 10000\n",
    "sample_props = np.array([None]*B)\n",
    "for i in range(B):\n",
    "    sample = np.random.choice(races, p=probs, size=100)\n",
    "    sample_props[i] = np.mean(sample == \"black\")\n",
    "empirical_pval = np.mean(sample_props <= obs_prop)\n",
    "print(f\"p-value from sampling: {empirical_pval}\")\n",
    "\n"
   ]
  },
  {
   "attachments": {},
   "cell_type": "markdown",
   "metadata": {},
   "source": [
    "### 2 Proportion Test\n",
    "\n",
    "A software company implements a new features and wants to test click through rate. 100 people are shown version A, with 62 clicking, and another 100 people are shown version B, with 74 clicking. Should the company go through with changing from layout A to layout B?"
   ]
  },
  {
   "cell_type": "code",
   "execution_count": 54,
   "metadata": {},
   "outputs": [
    {
     "name": "stdout",
     "output_type": "stream",
     "text": [
      "p-value from two-sample proportions test: 0.06890880788626995\n",
      "p-value from sampling: 0.0825\n"
     ]
    }
   ],
   "source": [
    "np.random.seed(10)\n",
    "p_A = 0.62\n",
    "p_B = 0.74\n",
    "p_pooled = 0.5*(p_A + p_B)\n",
    "obs_diff = p_B - p_A\n",
    "\n",
    "# Get p value from one-sample proportions test\n",
    "from statsmodels.stats.proportion import proportions_ztest\n",
    "zstat, pval = proportions_ztest(count=[62, 74], nobs=[100, 100])\n",
    "print(f\"p-value from two-sample proportions test: {pval}\")\n",
    "\n",
    "# Sample races according to null hypothesis distribution\n",
    "actions = [\"clicked\", \"did not click\"]\n",
    "B = 10000\n",
    "sample_diffs = np.array([None]*B)\n",
    "for i in range(B):\n",
    "    sample_1 = np.random.choice(actions, p=[p_pooled, 1-p_pooled], size=100)\n",
    "    sample_2 = np.random.choice(actions, p=[p_pooled, 1-p_pooled], size=100)\n",
    "    sample_diffs[i] = np.mean(sample_1 == \"clicked\") - np.mean(sample_2 == \"clicked\")\n",
    "\n",
    "empirical_pval = np.mean(np.abs(sample_diffs) >= obs_diff)\n",
    "print(f\"p-value from sampling: {empirical_pval}\")\n",
    "\n"
   ]
  }
 ],
 "metadata": {
  "kernelspec": {
   "display_name": "base",
   "language": "python",
   "name": "python3"
  },
  "language_info": {
   "codemirror_mode": {
    "name": "ipython",
    "version": 3
   },
   "file_extension": ".py",
   "mimetype": "text/x-python",
   "name": "python",
   "nbconvert_exporter": "python",
   "pygments_lexer": "ipython3",
   "version": "3.9.12"
  },
  "orig_nbformat": 4,
  "vscode": {
   "interpreter": {
    "hash": "2e8b7f62927fe0753cae67d9a5877941773e0f948637a4bc940202eeb3c19f2e"
   }
  }
 },
 "nbformat": 4,
 "nbformat_minor": 2
}
