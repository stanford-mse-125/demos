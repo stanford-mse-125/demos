{
  "cells": [
    {
      "attachments": {},
      "cell_type": "markdown",
      "id": "7a1d5df7",
      "metadata": {
        "id": "7a1d5df7"
      },
      "source": [
        "# Logistic Regression and Classification Error Metrics\n",
        "\n",
        "In this demo, we'll learn about logistic regression and classification error metrics using a database of spam emails.\n",
        "Our goal will be to build a model to predict whether a given email is spam. Then, we'll assess the performance of our model using different error metrics."
      ]
    },
    {
      "cell_type": "code",
      "execution_count": 31,
      "id": "k2rqcH2Xea4_",
      "metadata": {
        "id": "k2rqcH2Xea4_"
      },
      "outputs": [],
      "source": [
        "import pandas as pd\n",
        "import statsmodels.formula.api as smf\n",
        "import matplotlib.pyplot as plt \n",
        "import numpy as np\n",
        "import seaborn as sns"
      ]
    },
    {
      "attachments": {},
      "cell_type": "markdown",
      "id": "MWpKAaqxeXHn",
      "metadata": {
        "id": "MWpKAaqxeXHn"
      },
      "source": [
        "## Linear regression for binary outcomes"
      ]
    },
    {
      "cell_type": "code",
      "execution_count": 32,
      "id": "Lwxmv66ReTpo",
      "metadata": {
        "colab": {
          "base_uri": "https://localhost:8080/"
        },
        "id": "Lwxmv66ReTpo",
        "outputId": "ce7f5071-864f-483e-fc40-070e2abbea6b"
      },
      "outputs": [
        {
          "data": {
            "text/html": [
              "<div>\n",
              "<style scoped>\n",
              "    .dataframe tbody tr th:only-of-type {\n",
              "        vertical-align: middle;\n",
              "    }\n",
              "\n",
              "    .dataframe tbody tr th {\n",
              "        vertical-align: top;\n",
              "    }\n",
              "\n",
              "    .dataframe thead th {\n",
              "        text-align: right;\n",
              "    }\n",
              "</style>\n",
              "<table border=\"1\" class=\"dataframe\">\n",
              "  <thead>\n",
              "    <tr style=\"text-align: right;\">\n",
              "      <th></th>\n",
              "      <th>make</th>\n",
              "      <th>address</th>\n",
              "      <th>all</th>\n",
              "      <th>num3d</th>\n",
              "      <th>our</th>\n",
              "      <th>over</th>\n",
              "      <th>remove</th>\n",
              "      <th>internet</th>\n",
              "      <th>order</th>\n",
              "      <th>mail</th>\n",
              "      <th>...</th>\n",
              "      <th>char_semicolon</th>\n",
              "      <th>char_left_paren</th>\n",
              "      <th>char_left_bracket</th>\n",
              "      <th>char_exclamation</th>\n",
              "      <th>char_dollar</th>\n",
              "      <th>char_pound</th>\n",
              "      <th>capital_avg</th>\n",
              "      <th>capital_long</th>\n",
              "      <th>capital_total</th>\n",
              "      <th>is_spam</th>\n",
              "    </tr>\n",
              "  </thead>\n",
              "  <tbody>\n",
              "    <tr>\n",
              "      <th>0</th>\n",
              "      <td>0.00</td>\n",
              "      <td>0.64</td>\n",
              "      <td>0.64</td>\n",
              "      <td>0.0</td>\n",
              "      <td>0.32</td>\n",
              "      <td>0.00</td>\n",
              "      <td>0.00</td>\n",
              "      <td>0.00</td>\n",
              "      <td>0.00</td>\n",
              "      <td>0.00</td>\n",
              "      <td>...</td>\n",
              "      <td>0.00</td>\n",
              "      <td>0.000</td>\n",
              "      <td>0.0</td>\n",
              "      <td>0.778</td>\n",
              "      <td>0.000</td>\n",
              "      <td>0.000</td>\n",
              "      <td>3.756</td>\n",
              "      <td>61</td>\n",
              "      <td>278</td>\n",
              "      <td>1</td>\n",
              "    </tr>\n",
              "    <tr>\n",
              "      <th>1</th>\n",
              "      <td>0.21</td>\n",
              "      <td>0.28</td>\n",
              "      <td>0.50</td>\n",
              "      <td>0.0</td>\n",
              "      <td>0.14</td>\n",
              "      <td>0.28</td>\n",
              "      <td>0.21</td>\n",
              "      <td>0.07</td>\n",
              "      <td>0.00</td>\n",
              "      <td>0.94</td>\n",
              "      <td>...</td>\n",
              "      <td>0.00</td>\n",
              "      <td>0.132</td>\n",
              "      <td>0.0</td>\n",
              "      <td>0.372</td>\n",
              "      <td>0.180</td>\n",
              "      <td>0.048</td>\n",
              "      <td>5.114</td>\n",
              "      <td>101</td>\n",
              "      <td>1028</td>\n",
              "      <td>1</td>\n",
              "    </tr>\n",
              "    <tr>\n",
              "      <th>2</th>\n",
              "      <td>0.06</td>\n",
              "      <td>0.00</td>\n",
              "      <td>0.71</td>\n",
              "      <td>0.0</td>\n",
              "      <td>1.23</td>\n",
              "      <td>0.19</td>\n",
              "      <td>0.19</td>\n",
              "      <td>0.12</td>\n",
              "      <td>0.64</td>\n",
              "      <td>0.25</td>\n",
              "      <td>...</td>\n",
              "      <td>0.01</td>\n",
              "      <td>0.143</td>\n",
              "      <td>0.0</td>\n",
              "      <td>0.276</td>\n",
              "      <td>0.184</td>\n",
              "      <td>0.010</td>\n",
              "      <td>9.821</td>\n",
              "      <td>485</td>\n",
              "      <td>2259</td>\n",
              "      <td>1</td>\n",
              "    </tr>\n",
              "    <tr>\n",
              "      <th>3</th>\n",
              "      <td>0.00</td>\n",
              "      <td>0.00</td>\n",
              "      <td>0.00</td>\n",
              "      <td>0.0</td>\n",
              "      <td>0.63</td>\n",
              "      <td>0.00</td>\n",
              "      <td>0.31</td>\n",
              "      <td>0.63</td>\n",
              "      <td>0.31</td>\n",
              "      <td>0.63</td>\n",
              "      <td>...</td>\n",
              "      <td>0.00</td>\n",
              "      <td>0.137</td>\n",
              "      <td>0.0</td>\n",
              "      <td>0.137</td>\n",
              "      <td>0.000</td>\n",
              "      <td>0.000</td>\n",
              "      <td>3.537</td>\n",
              "      <td>40</td>\n",
              "      <td>191</td>\n",
              "      <td>1</td>\n",
              "    </tr>\n",
              "    <tr>\n",
              "      <th>4</th>\n",
              "      <td>0.00</td>\n",
              "      <td>0.00</td>\n",
              "      <td>0.00</td>\n",
              "      <td>0.0</td>\n",
              "      <td>0.63</td>\n",
              "      <td>0.00</td>\n",
              "      <td>0.31</td>\n",
              "      <td>0.63</td>\n",
              "      <td>0.31</td>\n",
              "      <td>0.63</td>\n",
              "      <td>...</td>\n",
              "      <td>0.00</td>\n",
              "      <td>0.135</td>\n",
              "      <td>0.0</td>\n",
              "      <td>0.135</td>\n",
              "      <td>0.000</td>\n",
              "      <td>0.000</td>\n",
              "      <td>3.537</td>\n",
              "      <td>40</td>\n",
              "      <td>191</td>\n",
              "      <td>1</td>\n",
              "    </tr>\n",
              "  </tbody>\n",
              "</table>\n",
              "<p>5 rows × 58 columns</p>\n",
              "</div>"
            ],
            "text/plain": [
              "   make  address   all  num3d   our  over  remove  internet  order  mail  ...  \\\n",
              "0  0.00     0.64  0.64    0.0  0.32  0.00    0.00      0.00   0.00  0.00  ...   \n",
              "1  0.21     0.28  0.50    0.0  0.14  0.28    0.21      0.07   0.00  0.94  ...   \n",
              "2  0.06     0.00  0.71    0.0  1.23  0.19    0.19      0.12   0.64  0.25  ...   \n",
              "3  0.00     0.00  0.00    0.0  0.63  0.00    0.31      0.63   0.31  0.63  ...   \n",
              "4  0.00     0.00  0.00    0.0  0.63  0.00    0.31      0.63   0.31  0.63  ...   \n",
              "\n",
              "   char_semicolon  char_left_paren  char_left_bracket  char_exclamation  \\\n",
              "0            0.00            0.000                0.0             0.778   \n",
              "1            0.00            0.132                0.0             0.372   \n",
              "2            0.01            0.143                0.0             0.276   \n",
              "3            0.00            0.137                0.0             0.137   \n",
              "4            0.00            0.135                0.0             0.135   \n",
              "\n",
              "   char_dollar  char_pound  capital_avg  capital_long  capital_total  is_spam  \n",
              "0        0.000       0.000        3.756            61            278        1  \n",
              "1        0.180       0.048        5.114           101           1028        1  \n",
              "2        0.184       0.010        9.821           485           2259        1  \n",
              "3        0.000       0.000        3.537            40            191        1  \n",
              "4        0.000       0.000        3.537            40            191        1  \n",
              "\n",
              "[5 rows x 58 columns]"
            ]
          },
          "execution_count": 32,
          "metadata": {},
          "output_type": "execute_result"
        }
      ],
      "source": [
        "# import the spam data located at\n",
        "# https://raw.githubusercontent.com/stanford-mse-125/demos/main/data/spambase.tsv\n",
        "# Data description: https://archive.ics.uci.edu/ml/datasets/spambase\n",
        "\n",
        "spam = pd.read_csv('https://raw.githubusercontent.com/stanford-mse-125/demos/main/data/spambase.tsv', sep='\\t')\n",
        "spam.head()"
      ]
    },
    {
      "cell_type": "code",
      "execution_count": 33,
      "id": "9651c3e4",
      "metadata": {},
      "outputs": [
        {
          "name": "stdout",
          "output_type": "stream",
          "text": [
            "Index(['make', 'address', 'all', 'num3d', 'our', 'over', 'remove', 'internet',\n",
            "       'order', 'mail', 'receive', 'will', 'people', 'report', 'addresses',\n",
            "       'free', 'business', 'email', 'you', 'credit', 'your', 'font', 'num000',\n",
            "       'money', 'hp', 'hpl', 'george', 'num650', 'lab', 'labs', 'telnet',\n",
            "       'num857', 'data', 'num415', 'num85', 'technology', 'num1999', 'parts',\n",
            "       'pm', 'direct', 'cs', 'meeting', 'original', 'project', 're', 'edu',\n",
            "       'table', 'conference', 'char_semicolon', 'char_left_paren',\n",
            "       'char_left_bracket', 'char_exclamation', 'char_dollar', 'char_pound',\n",
            "       'capital_avg', 'capital_long', 'capital_total', 'is_spam'],\n",
            "      dtype='object')\n"
          ]
        }
      ],
      "source": [
        "print(spam.columns)"
      ]
    },
    {
      "cell_type": "code",
      "execution_count": 34,
      "id": "h21qT6nHdGAD",
      "metadata": {
        "colab": {
          "base_uri": "https://localhost:8080/"
        },
        "id": "h21qT6nHdGAD",
        "outputId": "478cb7cc-05f2-46ee-bf89-3675f75ad486"
      },
      "outputs": [
        {
          "data": {
            "text/plain": [
              "0    2788\n",
              "1    1813\n",
              "Name: is_spam, dtype: int64"
            ]
          },
          "execution_count": 34,
          "metadata": {},
          "output_type": "execute_result"
        }
      ],
      "source": [
        "# 1: email is spam\n",
        "# 0: email is not spam\n",
        "spam['is_spam'].value_counts()"
      ]
    },
    {
      "cell_type": "code",
      "execution_count": 35,
      "id": "d7f58b5d",
      "metadata": {},
      "outputs": [
        {
          "data": {
            "text/plain": [
              "<AxesSubplot:xlabel='money', ylabel='Count'>"
            ]
          },
          "execution_count": 35,
          "metadata": {},
          "output_type": "execute_result"
        },
        {
          "data": {
            "image/png": "[encoded data removed]",
            "text/plain": [
              "<Figure size 640x480 with 1 Axes>"
            ]
          },
          "metadata": {},
          "output_type": "display_data"
        }
      ],
      "source": [
        "# let's look at the 'money' feature: many spam contain the word 'money'!\n",
        "sns.histplot(spam['money'], bins=100)"
      ]
    },
    {
      "cell_type": "code",
      "execution_count": 36,
      "id": "6a319564",
      "metadata": {
        "colab": {
          "base_uri": "https://localhost:8080/"
        },
        "id": "6a319564",
        "outputId": "c5072032-8e9e-4405-9a91-6b43d5e348c9"
      },
      "outputs": [
        {
          "name": "stdout",
          "output_type": "stream",
          "text": [
            "0    0.00\n",
            "1    0.43\n",
            "2    0.06\n",
            "3    0.00\n",
            "4    0.00\n",
            "Name: money, dtype: float64\n"
          ]
        },
        {
          "data": {
            "text/plain": [
              "count    4601.000000\n",
              "mean        0.094269\n",
              "std         0.442636\n",
              "min         0.000000\n",
              "25%         0.000000\n",
              "50%         0.000000\n",
              "75%         0.000000\n",
              "max        12.500000\n",
              "Name: money, dtype: float64"
            ]
          },
          "execution_count": 36,
          "metadata": {},
          "output_type": "execute_result"
        }
      ],
      "source": [
        "# 0% to 12.5% of the words in each of the 4601 emails is \"money\"\n",
        "print(spam['money'].head())\n",
        "spam['money'].describe()"
      ]
    },
    {
      "cell_type": "code",
      "execution_count": 37,
      "id": "657c3cc8",
      "metadata": {
        "colab": {
          "base_uri": "https://localhost:8080/",
          "height": 516
        },
        "id": "657c3cc8",
        "outputId": "09a0fcbd-6b6e-490c-e1b6-a5c642733281"
      },
      "outputs": [
        {
          "data": {
            "text/html": [
              "<table class=\"simpletable\">\n",
              "<caption>OLS Regression Results</caption>\n",
              "<tr>\n",
              "  <th>Dep. Variable:</th>         <td>is_spam</td>     <th>  R-squared:         </th> <td>   0.179</td> \n",
              "</tr>\n",
              "<tr>\n",
              "  <th>Model:</th>                   <td>OLS</td>       <th>  Adj. R-squared:    </th> <td>   0.178</td> \n",
              "</tr>\n",
              "<tr>\n",
              "  <th>Method:</th>             <td>Least Squares</td>  <th>  F-statistic:       </th> <td>   250.3</td> \n",
              "</tr>\n",
              "<tr>\n",
              "  <th>Date:</th>             <td>Tue, 09 May 2023</td> <th>  Prob (F-statistic):</th> <td>8.51e-195</td>\n",
              "</tr>\n",
              "<tr>\n",
              "  <th>Time:</th>                 <td>13:29:46</td>     <th>  Log-Likelihood:    </th> <td> -2780.3</td> \n",
              "</tr>\n",
              "<tr>\n",
              "  <th>No. Observations:</th>      <td>  4601</td>      <th>  AIC:               </th> <td>   5571.</td> \n",
              "</tr>\n",
              "<tr>\n",
              "  <th>Df Residuals:</th>          <td>  4596</td>      <th>  BIC:               </th> <td>   5603.</td> \n",
              "</tr>\n",
              "<tr>\n",
              "  <th>Df Model:</th>              <td>     4</td>      <th>                     </th>     <td> </td>    \n",
              "</tr>\n",
              "<tr>\n",
              "  <th>Covariance Type:</th>      <td>nonrobust</td>    <th>                     </th>     <td> </td>    \n",
              "</tr>\n",
              "</table>\n",
              "<table class=\"simpletable\">\n",
              "<tr>\n",
              "       <td></td>          <th>coef</th>     <th>std err</th>      <th>t</th>      <th>P>|t|</th>  <th>[0.025</th>    <th>0.975]</th>  \n",
              "</tr>\n",
              "<tr>\n",
              "  <th>Intercept</th>   <td>    0.3346</td> <td>    0.007</td> <td>   45.696</td> <td> 0.000</td> <td>    0.320</td> <td>    0.349</td>\n",
              "</tr>\n",
              "<tr>\n",
              "  <th>char_dollar</th> <td>    0.5855</td> <td>    0.027</td> <td>   21.889</td> <td> 0.000</td> <td>    0.533</td> <td>    0.638</td>\n",
              "</tr>\n",
              "<tr>\n",
              "  <th>credit</th>      <td>    0.1575</td> <td>    0.013</td> <td>   12.255</td> <td> 0.000</td> <td>    0.132</td> <td>    0.183</td>\n",
              "</tr>\n",
              "<tr>\n",
              "  <th>money</th>       <td>    0.1879</td> <td>    0.015</td> <td>   12.635</td> <td> 0.000</td> <td>    0.159</td> <td>    0.217</td>\n",
              "</tr>\n",
              "<tr>\n",
              "  <th>re</th>          <td>   -0.0536</td> <td>    0.006</td> <td>   -8.271</td> <td> 0.000</td> <td>   -0.066</td> <td>   -0.041</td>\n",
              "</tr>\n",
              "</table>\n",
              "<table class=\"simpletable\">\n",
              "<tr>\n",
              "  <th>Omnibus:</th>       <td>65.831</td> <th>  Durbin-Watson:     </th> <td>   0.352</td>\n",
              "</tr>\n",
              "<tr>\n",
              "  <th>Prob(Omnibus):</th> <td> 0.000</td> <th>  Jarque-Bera (JB):  </th> <td>  66.350</td>\n",
              "</tr>\n",
              "<tr>\n",
              "  <th>Skew:</th>          <td> 0.277</td> <th>  Prob(JB):          </th> <td>3.91e-15</td>\n",
              "</tr>\n",
              "<tr>\n",
              "  <th>Kurtosis:</th>      <td> 2.804</td> <th>  Cond. No.          </th> <td>    4.82</td>\n",
              "</tr>\n",
              "</table><br/><br/>Notes:<br/>[1] Standard Errors assume that the covariance matrix of the errors is correctly specified."
            ],
            "text/plain": [
              "<class 'statsmodels.iolib.summary.Summary'>\n",
              "\"\"\"\n",
              "                            OLS Regression Results                            \n",
              "==============================================================================\n",
              "Dep. Variable:                is_spam   R-squared:                       0.179\n",
              "Model:                            OLS   Adj. R-squared:                  0.178\n",
              "Method:                 Least Squares   F-statistic:                     250.3\n",
              "Date:                Tue, 09 May 2023   Prob (F-statistic):          8.51e-195\n",
              "Time:                        13:29:46   Log-Likelihood:                -2780.3\n",
              "No. Observations:                4601   AIC:                             5571.\n",
              "Df Residuals:                    4596   BIC:                             5603.\n",
              "Df Model:                           4                                         \n",
              "Covariance Type:            nonrobust                                         \n",
              "===============================================================================\n",
              "                  coef    std err          t      P>|t|      [0.025      0.975]\n",
              "-------------------------------------------------------------------------------\n",
              "Intercept       0.3346      0.007     45.696      0.000       0.320       0.349\n",
              "char_dollar     0.5855      0.027     21.889      0.000       0.533       0.638\n",
              "credit          0.1575      0.013     12.255      0.000       0.132       0.183\n",
              "money           0.1879      0.015     12.635      0.000       0.159       0.217\n",
              "re             -0.0536      0.006     -8.271      0.000      -0.066      -0.041\n",
              "==============================================================================\n",
              "Omnibus:                       65.831   Durbin-Watson:                   0.352\n",
              "Prob(Omnibus):                  0.000   Jarque-Bera (JB):               66.350\n",
              "Skew:                           0.277   Prob(JB):                     3.91e-15\n",
              "Kurtosis:                       2.804   Cond. No.                         4.82\n",
              "==============================================================================\n",
              "\n",
              "Notes:\n",
              "[1] Standard Errors assume that the covariance matrix of the errors is correctly specified.\n",
              "\"\"\""
            ]
          },
          "execution_count": 37,
          "metadata": {},
          "output_type": "execute_result"
        }
      ],
      "source": [
        "# Linear regression can be used to predict a 0/1 outcome.\n",
        "# This is called a linear probability model (LPM)\n",
        "formula = 'is_spam ~ 1 + char_dollar + credit + money + re'\n",
        "model = smf.ols(formula=formula, data=spam).fit()\n",
        "model.summary()"
      ]
    },
    {
      "cell_type": "code",
      "execution_count": 38,
      "id": "hpXu0m3QdQbS",
      "metadata": {
        "colab": {
          "base_uri": "https://localhost:8080/"
        },
        "id": "hpXu0m3QdQbS",
        "outputId": "bfcb95a1-d5d6-4291-d199-b98ea5e6a784"
      },
      "outputs": [
        {
          "data": {
            "text/plain": [
              "0    0.334591\n",
              "1    0.520799\n",
              "2    0.500795\n",
              "3    0.334591\n",
              "4    0.334591\n",
              "dtype: float64"
            ]
          },
          "execution_count": 38,
          "metadata": {},
          "output_type": "execute_result"
        }
      ],
      "source": [
        "# predict output (where not spam=0 and spam=1) for each email using LPM\n",
        "pred = model.predict(spam)\n",
        "pred.head()"
      ]
    },
    {
      "cell_type": "code",
      "execution_count": 39,
      "id": "jztJUAiygrqq",
      "metadata": {
        "colab": {
          "base_uri": "https://localhost:8080/"
        },
        "id": "jztJUAiygrqq",
        "outputId": "492b621e-c2dd-4daa-f3a3-00e7e26dee72"
      },
      "outputs": [
        {
          "data": {
            "text/plain": [
              "count    4601.000000\n",
              "mean        0.394045\n",
              "std         0.206687\n",
              "min        -0.812540\n",
              "25%         0.334591\n",
              "50%         0.334591\n",
              "75%         0.395442\n",
              "max         3.849409\n",
              "dtype: float64"
            ]
          },
          "execution_count": 39,
          "metadata": {},
          "output_type": "execute_result"
        }
      ],
      "source": [
        "# Some predictions of LPM are less than 0 or greater than 1.\n",
        "# Linear regression doesn't constrain our predictions to\n",
        "# the range of the outcome variable.\n",
        "# Linear regression outputs can take on any value (-Inf,+Inf)\n",
        "pred.describe()"
      ]
    },
    {
      "attachments": {},
      "cell_type": "markdown",
      "id": "yvChWy9bg-Wz",
      "metadata": {
        "id": "yvChWy9bg-Wz"
      },
      "source": [
        "## Logistic regression"
      ]
    },
    {
      "cell_type": "code",
      "execution_count": 40,
      "id": "SffWu1fJhAaS",
      "metadata": {
        "colab": {
          "base_uri": "https://localhost:8080/"
        },
        "id": "SffWu1fJhAaS",
        "outputId": "268656f0-aed3-4245-db8d-b304ac273a14"
      },
      "outputs": [
        {
          "name": "stdout",
          "output_type": "stream",
          "text": [
            "1.0\n",
            "1.9999999999999998\n",
            "9.000000000000002\n",
            "998.9999999999991\n"
          ]
        }
      ],
      "source": [
        "# Odds are the ratio of the probability of an event to its complement.\n",
        "def prob_to_odds(p):\n",
        "  return(p/(1-p))\n",
        "\n",
        "# Even odds (1:1)\n",
        "print(prob_to_odds(0.5))\n",
        "\n",
        "# 2:1 odds\n",
        "print(prob_to_odds(2/3))\n",
        "\n",
        "# 9:1 odds\n",
        "print(prob_to_odds(0.9))\n",
        "\n",
        "# 999:1 odds\n",
        "print(prob_to_odds(0.999))"
      ]
    },
    {
      "cell_type": "code",
      "execution_count": 41,
      "id": "4x4CtftwjDy5",
      "metadata": {
        "colab": {
          "base_uri": "https://localhost:8080/",
          "height": 466
        },
        "id": "4x4CtftwjDy5",
        "outputId": "921ad079-13ff-4858-c6c1-acb319fe734f"
      },
      "outputs": [
        {
          "name": "stderr",
          "output_type": "stream",
          "text": [
            "/var/folders/d9/7rmtq6715b16km7zjbcz7n680000gn/T/ipykernel_50595/827190083.py:3: RuntimeWarning: divide by zero encountered in divide\n",
            "  return(p/(1-p))\n"
          ]
        },
        {
          "data": {
            "image/png": "[encoded data removed]",
            "text/plain": [
              "<Figure size 640x480 with 1 Axes>"
            ]
          },
          "metadata": {},
          "output_type": "display_data"
        }
      ],
      "source": [
        "# odds map the [0,1] probability scale to the [0,+Inf) odds scale\n",
        "p_range = np.linspace(0,1,1000)\n",
        "odds_range = prob_to_odds(p_range)\n",
        "plt.plot(p_range, odds_range)\n",
        "plt.show()"
      ]
    },
    {
      "cell_type": "code",
      "execution_count": 42,
      "id": "XSnazLaFhsOu",
      "metadata": {
        "colab": {
          "base_uri": "https://localhost:8080/"
        },
        "id": "XSnazLaFhsOu",
        "outputId": "801e5b19-5b8a-409f-b06d-47aeb939547e"
      },
      "outputs": [
        {
          "name": "stdout",
          "output_type": "stream",
          "text": [
            "0.5\n",
            "0.6666666666666666\n",
            "0.9\n",
            "0.999\n"
          ]
        }
      ],
      "source": [
        "# Odds can be converted back to probabilities\n",
        "def odds_to_prob(odds):\n",
        "  return(odds/(1+odds))\n",
        "\n",
        "print(odds_to_prob(1))\n",
        "print(odds_to_prob(2))\n",
        "print(odds_to_prob(9))\n",
        "print(odds_to_prob(999))"
      ]
    },
    {
      "cell_type": "code",
      "execution_count": 43,
      "id": "21a15295",
      "metadata": {},
      "outputs": [
        {
          "name": "stdout",
          "output_type": "stream",
          "text": [
            "0.7\n"
          ]
        }
      ],
      "source": [
        "# check that we converted back to probabilities correctly\n",
        "print(odds_to_prob(prob_to_odds(0.7)))"
      ]
    },
    {
      "cell_type": "code",
      "execution_count": 44,
      "id": "ME5QBG5mjpY7",
      "metadata": {
        "colab": {
          "base_uri": "https://localhost:8080/",
          "height": 430
        },
        "id": "ME5QBG5mjpY7",
        "outputId": "40e1efe9-39c3-4c26-f4e7-7ec4784fe630"
      },
      "outputs": [
        {
          "data": {
            "image/png": "[encoded data removed]",
            "text/plain": [
              "<Figure size 640x480 with 1 Axes>"
            ]
          },
          "metadata": {},
          "output_type": "display_data"
        }
      ],
      "source": [
        "# inverse odds maps the [0,+Inf) odds scale to the [0,1] probability scale\n",
        "odds_range = np.linspace(0, 1000, 1000)\n",
        "p_range = odds_to_prob(odds_range)\n",
        "plt.plot(odds_range, p_range)\n",
        "plt.show()"
      ]
    },
    {
      "cell_type": "code",
      "execution_count": 45,
      "id": "LMEH5Rj_h5hV",
      "metadata": {
        "colab": {
          "base_uri": "https://localhost:8080/",
          "height": 501
        },
        "id": "LMEH5Rj_h5hV",
        "outputId": "4642cb42-e224-4704-8a65-1bd20ae8f214"
      },
      "outputs": [
        {
          "name": "stderr",
          "output_type": "stream",
          "text": [
            "/var/folders/d9/7rmtq6715b16km7zjbcz7n680000gn/T/ipykernel_50595/827190083.py:3: RuntimeWarning: divide by zero encountered in divide\n",
            "  return(p/(1-p))\n",
            "/var/folders/d9/7rmtq6715b16km7zjbcz7n680000gn/T/ipykernel_50595/1176155389.py:5: RuntimeWarning: divide by zero encountered in log\n",
            "  return(np.log(prob_to_odds(p)))\n"
          ]
        },
        {
          "data": {
            "image/png": "[encoded data removed]",
            "text/plain": [
              "<Figure size 640x480 with 1 Axes>"
            ]
          },
          "metadata": {},
          "output_type": "display_data"
        }
      ],
      "source": [
        "# log maps [0,+Inf) to (-Inf, +Inf)\n",
        "# So, log-odds maps [0,1] probability to [0,+Inf] odds to (-Inf, +Inf) log odds\n",
        "# log-odds <--> logit\n",
        "def logit(p):\n",
        "  return(np.log(prob_to_odds(p)))\n",
        "\n",
        "p_range = np.linspace(0, 1, 1000)\n",
        "log_odds_range = logit(p_range)\n",
        "plt.plot(p_range, log_odds_range)\n",
        "plt.show()"
      ]
    },
    {
      "cell_type": "code",
      "execution_count": 46,
      "id": "Zklp6hwgiqKk",
      "metadata": {
        "colab": {
          "base_uri": "https://localhost:8080/",
          "height": 430
        },
        "id": "Zklp6hwgiqKk",
        "outputId": "9a8d5a4d-471e-4bcb-a749-685bfa42802a"
      },
      "outputs": [
        {
          "data": {
            "image/png": "[encoded data removed]",
            "text/plain": [
              "<Figure size 640x480 with 1 Axes>"
            ]
          },
          "metadata": {},
          "output_type": "display_data"
        }
      ],
      "source": [
        "# inv_logit maps a linear combination [-Inf, +Inf] to [0,1] probability space\n",
        "# inverse log-odds <--> inverse logit <--> expit\n",
        "def inv_logit(log_odds):\n",
        "  return(np.exp(log_odds)/(1+np.exp(log_odds)))\n",
        "\n",
        "log_odds_range = np.linspace(-10, 10, 1000)\n",
        "p_range = inv_logit(log_odds_range)\n",
        "plt.plot(log_odds_range, p_range)\n",
        "plt.show()"
      ]
    },
    {
      "attachments": {},
      "cell_type": "markdown",
      "id": "lqZew0n1mVlW",
      "metadata": {
        "id": "lqZew0n1mVlW"
      },
      "source": [
        "## Maximum likelihood estimation"
      ]
    },
    {
      "cell_type": "code",
      "execution_count": 47,
      "id": "F2BVOXQimY5y",
      "metadata": {
        "colab": {
          "base_uri": "https://localhost:8080/",
          "height": 387
        },
        "id": "F2BVOXQimY5y",
        "outputId": "2ffb9364-b586-4a79-8998-cb12c8817b5b"
      },
      "outputs": [
        {
          "name": "stdout",
          "output_type": "stream",
          "text": [
            "is_spam ~ 1 + char_dollar + credit + money + re\n",
            "Optimization terminated successfully.\n",
            "         Current function value: 0.481178\n",
            "         Iterations 8\n"
          ]
        },
        {
          "data": {
            "text/html": [
              "<table class=\"simpletable\">\n",
              "<caption>Logit Regression Results</caption>\n",
              "<tr>\n",
              "  <th>Dep. Variable:</th>        <td>is_spam</td>     <th>  No. Observations:  </th>  <td>  4601</td> \n",
              "</tr>\n",
              "<tr>\n",
              "  <th>Model:</th>                 <td>Logit</td>      <th>  Df Residuals:      </th>  <td>  4596</td> \n",
              "</tr>\n",
              "<tr>\n",
              "  <th>Method:</th>                 <td>MLE</td>       <th>  Df Model:          </th>  <td>     4</td> \n",
              "</tr>\n",
              "<tr>\n",
              "  <th>Date:</th>            <td>Tue, 09 May 2023</td> <th>  Pseudo R-squ.:     </th>  <td>0.2824</td> \n",
              "</tr>\n",
              "<tr>\n",
              "  <th>Time:</th>                <td>13:29:49</td>     <th>  Log-Likelihood:    </th> <td> -2213.9</td>\n",
              "</tr>\n",
              "<tr>\n",
              "  <th>converged:</th>             <td>True</td>       <th>  LL-Null:           </th> <td> -3085.1</td>\n",
              "</tr>\n",
              "<tr>\n",
              "  <th>Covariance Type:</th>     <td>nonrobust</td>    <th>  LLR p-value:       </th>  <td> 0.000</td> \n",
              "</tr>\n",
              "</table>\n",
              "<table class=\"simpletable\">\n",
              "<tr>\n",
              "       <td></td>          <th>coef</th>     <th>std err</th>      <th>z</th>      <th>P>|z|</th>  <th>[0.025</th>    <th>0.975]</th>  \n",
              "</tr>\n",
              "<tr>\n",
              "  <th>Intercept</th>   <td>   -1.0666</td> <td>    0.043</td> <td>  -24.680</td> <td> 0.000</td> <td>   -1.151</td> <td>   -0.982</td>\n",
              "</tr>\n",
              "<tr>\n",
              "  <th>char_dollar</th> <td>   11.8176</td> <td>    0.605</td> <td>   19.549</td> <td> 0.000</td> <td>   10.633</td> <td>   13.002</td>\n",
              "</tr>\n",
              "<tr>\n",
              "  <th>credit</th>      <td>    2.3119</td> <td>    0.343</td> <td>    6.741</td> <td> 0.000</td> <td>    1.640</td> <td>    2.984</td>\n",
              "</tr>\n",
              "<tr>\n",
              "  <th>money</th>       <td>    1.9933</td> <td>    0.248</td> <td>    8.022</td> <td> 0.000</td> <td>    1.506</td> <td>    2.480</td>\n",
              "</tr>\n",
              "<tr>\n",
              "  <th>re</th>          <td>   -0.7755</td> <td>    0.099</td> <td>   -7.805</td> <td> 0.000</td> <td>   -0.970</td> <td>   -0.581</td>\n",
              "</tr>\n",
              "</table>"
            ],
            "text/plain": [
              "<class 'statsmodels.iolib.summary.Summary'>\n",
              "\"\"\"\n",
              "                           Logit Regression Results                           \n",
              "==============================================================================\n",
              "Dep. Variable:                is_spam   No. Observations:                 4601\n",
              "Model:                          Logit   Df Residuals:                     4596\n",
              "Method:                           MLE   Df Model:                            4\n",
              "Date:                Tue, 09 May 2023   Pseudo R-squ.:                  0.2824\n",
              "Time:                        13:29:49   Log-Likelihood:                -2213.9\n",
              "converged:                       True   LL-Null:                       -3085.1\n",
              "Covariance Type:            nonrobust   LLR p-value:                     0.000\n",
              "===============================================================================\n",
              "                  coef    std err          z      P>|z|      [0.025      0.975]\n",
              "-------------------------------------------------------------------------------\n",
              "Intercept      -1.0666      0.043    -24.680      0.000      -1.151      -0.982\n",
              "char_dollar    11.8176      0.605     19.549      0.000      10.633      13.002\n",
              "credit          2.3119      0.343      6.741      0.000       1.640       2.984\n",
              "money           1.9933      0.248      8.022      0.000       1.506       2.480\n",
              "re             -0.7755      0.099     -7.805      0.000      -0.970      -0.581\n",
              "===============================================================================\n",
              "\"\"\""
            ]
          },
          "execution_count": 47,
          "metadata": {},
          "output_type": "execute_result"
        }
      ],
      "source": [
        "# fit logistic regression model via maximum likelihood estimation\n",
        "# Unlike linear regression, logistic regression \n",
        "# does not have a closed-form solution.\n",
        "print(formula)\n",
        "model = smf.logit(formula=formula, data=spam).fit()\n",
        "model.summary()"
      ]
    },
    {
      "attachments": {},
      "cell_type": "markdown",
      "id": "UxgGy3OznMDh",
      "metadata": {
        "id": "UxgGy3OznMDh"
      },
      "source": [
        "## Interpreting regression coefficients"
      ]
    },
    {
      "cell_type": "code",
      "execution_count": 48,
      "id": "t6zGvQA0nOku",
      "metadata": {
        "colab": {
          "base_uri": "https://localhost:8080/"
        },
        "id": "t6zGvQA0nOku",
        "outputId": "65e07cd9-e985-40a9-b4ec-73517c4e7103"
      },
      "outputs": [
        {
          "data": {
            "text/plain": [
              "Intercept      -1.066563\n",
              "char_dollar    11.817567\n",
              "credit          2.311898\n",
              "money           1.993280\n",
              "re             -0.775505\n",
              "dtype: float64"
            ]
          },
          "execution_count": 48,
          "metadata": {},
          "output_type": "execute_result"
        }
      ],
      "source": [
        "# Coefficients are additive log odds ratios\n",
        "# '1pp more \"money\" words in email associated with\n",
        "# increase of +2 in log odds that email is spam'\n",
        "model.params"
      ]
    },
    {
      "cell_type": "code",
      "execution_count": 49,
      "id": "vhCPq8iCnRVk",
      "metadata": {
        "colab": {
          "base_uri": "https://localhost:8080/"
        },
        "id": "vhCPq8iCnRVk",
        "outputId": "fb206194-aad0-448f-cc2f-c6d4a30fbdd0"
      },
      "outputs": [
        {
          "data": {
            "text/plain": [
              "Intercept           0.344190\n",
              "char_dollar    135613.881439\n",
              "credit             10.093568\n",
              "money               7.339570\n",
              "re                  0.460471\n",
              "dtype: float64"
            ]
          },
          "execution_count": 49,
          "metadata": {},
          "output_type": "execute_result"
        }
      ],
      "source": [
        "# Exponentiated coefs are multiplicative odds ratios\n",
        "# Easier to interpret\n",
        "# '1pp more \"money\" words in email associated with\n",
        "# 7.4x increase in odds that email is spam'\n",
        "np.exp(model.params)"
      ]
    },
    {
      "attachments": {},
      "cell_type": "markdown",
      "id": "xxV-9kl_n63W",
      "metadata": {
        "id": "xxV-9kl_n63W"
      },
      "source": [
        "## Model predictions"
      ]
    },
    {
      "cell_type": "code",
      "execution_count": 50,
      "id": "gEWSjusQn91d",
      "metadata": {
        "colab": {
          "base_uri": "https://localhost:8080/"
        },
        "id": "gEWSjusQn91d",
        "outputId": "625aed58-0c38-4847-b661-668b8c94f005"
      },
      "outputs": [
        {
          "data": {
            "text/plain": [
              "0    0.256057\n",
              "1    0.871883\n",
              "2    0.872221\n",
              "3    0.256057\n",
              "4    0.256057\n",
              "dtype: float64"
            ]
          },
          "execution_count": 50,
          "metadata": {},
          "output_type": "execute_result"
        }
      ],
      "source": [
        "# predict probability of spam for each email\n",
        "# using logistic regression model\n",
        "pred = model.predict(spam)\n",
        "pred.head()"
      ]
    },
    {
      "cell_type": "code",
      "execution_count": 51,
      "id": "ibCRSkxqoA37",
      "metadata": {
        "colab": {
          "base_uri": "https://localhost:8080/"
        },
        "id": "ibCRSkxqoA37",
        "outputId": "41d6247a-416a-4348-9569-f627d1b21edf"
      },
      "outputs": [
        {
          "data": {
            "text/plain": [
              "count    4.601000e+03\n",
              "mean     3.940448e-01\n",
              "std      2.827280e-01\n",
              "min      2.101836e-08\n",
              "25%      2.560573e-01\n",
              "50%      2.560573e-01\n",
              "75%      5.073430e-01\n",
              "max      1.000000e+00\n",
              "dtype: float64"
            ]
          },
          "execution_count": 51,
          "metadata": {},
          "output_type": "execute_result"
        }
      ],
      "source": [
        "# all predictions now in [0,1], unlike linear probability model\n",
        "pred.describe()"
      ]
    },
    {
      "attachments": {},
      "cell_type": "markdown",
      "id": "1152D83BodtS",
      "metadata": {
        "id": "1152D83BodtS"
      },
      "source": [
        "## Model inspection & evaluation"
      ]
    },
    {
      "attachments": {},
      "cell_type": "markdown",
      "id": "KzqlyBtGqMYZ",
      "metadata": {
        "id": "KzqlyBtGqMYZ"
      },
      "source": [
        "## Calibration"
      ]
    },
    {
      "cell_type": "code",
      "execution_count": 52,
      "id": "zr2zVPxDqtVb",
      "metadata": {
        "id": "zr2zVPxDqtVb"
      },
      "outputs": [
        {
          "data": {
            "text/html": [
              "<div>\n",
              "<style scoped>\n",
              "    .dataframe tbody tr th:only-of-type {\n",
              "        vertical-align: middle;\n",
              "    }\n",
              "\n",
              "    .dataframe tbody tr th {\n",
              "        vertical-align: top;\n",
              "    }\n",
              "\n",
              "    .dataframe thead th {\n",
              "        text-align: right;\n",
              "    }\n",
              "</style>\n",
              "<table border=\"1\" class=\"dataframe\">\n",
              "  <thead>\n",
              "    <tr style=\"text-align: right;\">\n",
              "      <th></th>\n",
              "      <th>pred</th>\n",
              "      <th>rounded_pred</th>\n",
              "      <th>is_spam</th>\n",
              "    </tr>\n",
              "  </thead>\n",
              "  <tbody>\n",
              "    <tr>\n",
              "      <th>0</th>\n",
              "      <td>0.256057</td>\n",
              "      <td>0.3</td>\n",
              "      <td>1</td>\n",
              "    </tr>\n",
              "    <tr>\n",
              "      <th>1</th>\n",
              "      <td>0.871883</td>\n",
              "      <td>0.9</td>\n",
              "      <td>1</td>\n",
              "    </tr>\n",
              "    <tr>\n",
              "      <th>2</th>\n",
              "      <td>0.872221</td>\n",
              "      <td>0.9</td>\n",
              "      <td>1</td>\n",
              "    </tr>\n",
              "    <tr>\n",
              "      <th>3</th>\n",
              "      <td>0.256057</td>\n",
              "      <td>0.3</td>\n",
              "      <td>1</td>\n",
              "    </tr>\n",
              "    <tr>\n",
              "      <th>4</th>\n",
              "      <td>0.256057</td>\n",
              "      <td>0.3</td>\n",
              "      <td>1</td>\n",
              "    </tr>\n",
              "  </tbody>\n",
              "</table>\n",
              "</div>"
            ],
            "text/plain": [
              "       pred  rounded_pred  is_spam\n",
              "0  0.256057           0.3        1\n",
              "1  0.871883           0.9        1\n",
              "2  0.872221           0.9        1\n",
              "3  0.256057           0.3        1\n",
              "4  0.256057           0.3        1"
            ]
          },
          "execution_count": 52,
          "metadata": {},
          "output_type": "execute_result"
        }
      ],
      "source": [
        "# What fraction of emails with X% predicted probability of spam are actually spam? \n",
        "\n",
        "# Add a column to the spam data frame with the predictions.\n",
        "# Add an additional column with the predictions rounded to 1 decimal place.\n",
        "spam['pred'] = pred\n",
        "spam['rounded_pred'] = np.round(pred, 1)\n",
        "\n",
        "spam[['pred', 'rounded_pred', 'is_spam']].head()"
      ]
    },
    {
      "cell_type": "code",
      "execution_count": 53,
      "id": "d0cb1b6c",
      "metadata": {},
      "outputs": [
        {
          "data": {
            "text/plain": [
              "[<matplotlib.lines.Line2D at 0x7f7c2abc8760>]"
            ]
          },
          "execution_count": 53,
          "metadata": {},
          "output_type": "execute_result"
        },
        {
          "data": {
            "image/png": "[encoded data removed]",
            "text/plain": [
              "<Figure size 640x480 with 1 Axes>"
            ]
          },
          "metadata": {},
          "output_type": "display_data"
        }
      ],
      "source": [
        "# Plot the proportion of emails that are spam within each bin\n",
        "# Include a line to indicate average pred = observed proportion\n",
        "# The parity line indicates perfect calibration, Pr(spam|pred)=pred\n",
        "spam.groupby('rounded_pred')['is_spam'].mean().plot()\n",
        "plt.plot([0,1], [0,1], color='red')"
      ]
    },
    {
      "attachments": {},
      "cell_type": "markdown",
      "id": "80RaOv0LqNeF",
      "metadata": {
        "id": "80RaOv0LqNeF"
      },
      "source": [
        "## Accuracy"
      ]
    },
    {
      "cell_type": "code",
      "execution_count": 54,
      "id": "bXbX1RFdqOn4",
      "metadata": {
        "id": "bXbX1RFdqOn4"
      },
      "outputs": [
        {
          "data": {
            "text/plain": [
              "0.8072158226472506"
            ]
          },
          "execution_count": 54,
          "metadata": {},
          "output_type": "execute_result"
        }
      ],
      "source": [
        "# How often are our predictions correct?\n",
        "# Assume pred > 0.5 means a prediction of spam (common default)\n",
        "np.mean(spam['is_spam'] == (spam['pred'] > 0.5))"
      ]
    },
    {
      "cell_type": "code",
      "execution_count": 55,
      "id": "94eb5934",
      "metadata": {},
      "outputs": [
        {
          "data": {
            "text/plain": [
              "0.6059552271245382"
            ]
          },
          "execution_count": 55,
          "metadata": {},
          "output_type": "execute_result"
        }
      ],
      "source": [
        "# Spam emails are less common than not spam emails\n",
        "# If we ignore the model and always predict not spam, how well do we do?\n",
        "# The frequency of the most common class is the accuracy in this case.\n",
        "np.mean(spam['is_spam'] == 0)"
      ]
    },
    {
      "attachments": {},
      "cell_type": "markdown",
      "id": "KA_Yp6FaqSAq",
      "metadata": {
        "id": "KA_Yp6FaqSAq"
      },
      "source": [
        "## Precision"
      ]
    },
    {
      "cell_type": "code",
      "execution_count": 56,
      "id": "3d3d9111",
      "metadata": {},
      "outputs": [
        {
          "data": {
            "text/plain": [
              "0.901213171577123"
            ]
          },
          "execution_count": 56,
          "metadata": {},
          "output_type": "execute_result"
        }
      ],
      "source": [
        "# What proportion of emails labeled as spam are actually spam?\n",
        "# For now, assume pred > 0.5 means a prediction of spam\n",
        "np.mean(spam['is_spam'][spam['pred'] > 0.5])"
      ]
    },
    {
      "attachments": {},
      "cell_type": "markdown",
      "id": "p1HrPtTwqT8D",
      "metadata": {
        "id": "p1HrPtTwqT8D"
      },
      "source": [
        "## Recall/sensitivity"
      ]
    },
    {
      "cell_type": "code",
      "execution_count": 57,
      "id": "GDYfCCncqUst",
      "metadata": {
        "id": "GDYfCCncqUst"
      },
      "outputs": [
        {
          "data": {
            "text/plain": [
              "0.573634859349145"
            ]
          },
          "execution_count": 57,
          "metadata": {},
          "output_type": "execute_result"
        }
      ],
      "source": [
        "# Of all the emails that are actually spam, what fraction did we predict as spam (i.e., what fraction did we \"recall\")?\n",
        "# For now, assume pred > 0.5 means a prediction of spam\n",
        "np.mean(spam['pred'][spam['is_spam'] == 1] > 0.5)"
      ]
    },
    {
      "attachments": {},
      "cell_type": "markdown",
      "id": "0lVdDPMqqVjZ",
      "metadata": {
        "id": "0lVdDPMqqVjZ"
      },
      "source": [
        "## Specificity"
      ]
    },
    {
      "cell_type": "code",
      "execution_count": 58,
      "id": "0wrYtGT7qWjg",
      "metadata": {
        "id": "0wrYtGT7qWjg"
      },
      "outputs": [
        {
          "data": {
            "text/plain": [
              "0.9591104734576757"
            ]
          },
          "execution_count": 58,
          "metadata": {},
          "output_type": "execute_result"
        }
      ],
      "source": [
        "# Of all the emails that are not spam, what fraction did we predict as not spam?\n",
        "# For now, assume pred > 0.5 means a prediction of spam\n",
        "np.mean(spam['pred'][spam['is_spam'] == 0] <= 0.5)"
      ]
    },
    {
      "attachments": {},
      "cell_type": "markdown",
      "id": "cL9BM-gCqX_F",
      "metadata": {
        "id": "cL9BM-gCqX_F"
      },
      "source": [
        "## Selecting the threshold"
      ]
    },
    {
      "cell_type": "code",
      "execution_count": 59,
      "id": "X0GASbA8qZNc",
      "metadata": {
        "id": "X0GASbA8qZNc"
      },
      "outputs": [
        {
          "name": "stderr",
          "output_type": "stream",
          "text": [
            "/var/folders/d9/7rmtq6715b16km7zjbcz7n680000gn/T/ipykernel_50595/1902976098.py:21: FutureWarning: The frame.append method is deprecated and will be removed from pandas in a future version. Use pandas.concat instead.\n",
            "  results = results.append({'threshold': threshold,\n",
            "/var/folders/d9/7rmtq6715b16km7zjbcz7n680000gn/T/ipykernel_50595/1902976098.py:21: FutureWarning: The frame.append method is deprecated and will be removed from pandas in a future version. Use pandas.concat instead.\n",
            "  results = results.append({'threshold': threshold,\n",
            "/var/folders/d9/7rmtq6715b16km7zjbcz7n680000gn/T/ipykernel_50595/1902976098.py:21: FutureWarning: The frame.append method is deprecated and will be removed from pandas in a future version. Use pandas.concat instead.\n",
            "  results = results.append({'threshold': threshold,\n",
            "/var/folders/d9/7rmtq6715b16km7zjbcz7n680000gn/T/ipykernel_50595/1902976098.py:21: FutureWarning: The frame.append method is deprecated and will be removed from pandas in a future version. Use pandas.concat instead.\n",
            "  results = results.append({'threshold': threshold,\n",
            "/var/folders/d9/7rmtq6715b16km7zjbcz7n680000gn/T/ipykernel_50595/1902976098.py:21: FutureWarning: The frame.append method is deprecated and will be removed from pandas in a future version. Use pandas.concat instead.\n",
            "  results = results.append({'threshold': threshold,\n"
          ]
        },
        {
          "data": {
            "text/html": [
              "<div>\n",
              "<style scoped>\n",
              "    .dataframe tbody tr th:only-of-type {\n",
              "        vertical-align: middle;\n",
              "    }\n",
              "\n",
              "    .dataframe tbody tr th {\n",
              "        vertical-align: top;\n",
              "    }\n",
              "\n",
              "    .dataframe thead th {\n",
              "        text-align: right;\n",
              "    }\n",
              "</style>\n",
              "<table border=\"1\" class=\"dataframe\">\n",
              "  <thead>\n",
              "    <tr style=\"text-align: right;\">\n",
              "      <th></th>\n",
              "      <th>threshold</th>\n",
              "      <th>accuracy</th>\n",
              "      <th>precision</th>\n",
              "      <th>sensitivity</th>\n",
              "      <th>specificity</th>\n",
              "    </tr>\n",
              "  </thead>\n",
              "  <tbody>\n",
              "    <tr>\n",
              "      <th>0</th>\n",
              "      <td>0.00</td>\n",
              "      <td>0.394045</td>\n",
              "      <td>0.394045</td>\n",
              "      <td>1.000000</td>\n",
              "      <td>0.000000</td>\n",
              "    </tr>\n",
              "    <tr>\n",
              "      <th>1</th>\n",
              "      <td>0.25</td>\n",
              "      <td>0.529450</td>\n",
              "      <td>0.453291</td>\n",
              "      <td>0.942085</td>\n",
              "      <td>0.261119</td>\n",
              "    </tr>\n",
              "    <tr>\n",
              "      <th>2</th>\n",
              "      <td>0.50</td>\n",
              "      <td>0.807216</td>\n",
              "      <td>0.901213</td>\n",
              "      <td>0.573635</td>\n",
              "      <td>0.959110</td>\n",
              "    </tr>\n",
              "    <tr>\n",
              "      <th>3</th>\n",
              "      <td>0.75</td>\n",
              "      <td>0.765920</td>\n",
              "      <td>0.932941</td>\n",
              "      <td>0.437397</td>\n",
              "      <td>0.979555</td>\n",
              "    </tr>\n",
              "    <tr>\n",
              "      <th>4</th>\n",
              "      <td>1.00</td>\n",
              "      <td>0.605955</td>\n",
              "      <td>NaN</td>\n",
              "      <td>0.000000</td>\n",
              "      <td>1.000000</td>\n",
              "    </tr>\n",
              "  </tbody>\n",
              "</table>\n",
              "</div>"
            ],
            "text/plain": [
              "   threshold  accuracy  precision  sensitivity  specificity\n",
              "0       0.00  0.394045   0.394045     1.000000     0.000000\n",
              "1       0.25  0.529450   0.453291     0.942085     0.261119\n",
              "2       0.50  0.807216   0.901213     0.573635     0.959110\n",
              "3       0.75  0.765920   0.932941     0.437397     0.979555\n",
              "4       1.00  0.605955        NaN     0.000000     1.000000"
            ]
          },
          "execution_count": 59,
          "metadata": {},
          "output_type": "execute_result"
        }
      ],
      "source": [
        "# How do accuracy, precision, sensitivity, and specifity change\n",
        "# under different thresholds?\n",
        "# Generate dataframe of accuracy, precision, sensitivity, and specificity\n",
        "# of the model under different thresholds\n",
        "\n",
        "def accuracy(threshold):\n",
        "    return(np.mean(spam['is_spam'] == (spam['pred'] > threshold)))\n",
        "\n",
        "def precision(threshold):\n",
        "    return(np.mean(spam['is_spam'][spam['pred'] > threshold]))\n",
        "\n",
        "def sensitivity(threshold):\n",
        "    return(np.mean(spam['pred'][spam['is_spam'] == 1] > threshold))\n",
        "\n",
        "def specificity(threshold):\n",
        "    return(np.mean(spam['pred'][spam['is_spam'] == 0] <= threshold))\n",
        "\n",
        "thresholds = np.linspace(0, 1, 5)\n",
        "results = pd.DataFrame(columns=['threshold', 'accuracy', 'precision', 'sensitivity', 'specificity'])\n",
        "for threshold in thresholds:\n",
        "    results = results.append({'threshold': threshold,\n",
        "                              'accuracy': accuracy(threshold),\n",
        "                              'precision': precision(threshold),\n",
        "                              'sensitivity': sensitivity(threshold),\n",
        "                              'specificity': specificity(threshold)},\n",
        "                              ignore_index=True)\n",
        "    \n",
        "results\n",
        "\n"
      ]
    },
    {
      "attachments": {},
      "cell_type": "markdown",
      "id": "YtUkPk9gqgsi",
      "metadata": {
        "id": "YtUkPk9gqgsi"
      },
      "source": [
        "## Receiving Operating Characteristics (ROC) Curve"
      ]
    },
    {
      "cell_type": "code",
      "execution_count": 60,
      "id": "tYPkE_LgqjIa",
      "metadata": {
        "id": "tYPkE_LgqjIa"
      },
      "outputs": [
        {
          "ename": "ModuleNotFoundError",
          "evalue": "No module named 'sklearn'",
          "output_type": "error",
          "traceback": [
            "\u001b[0;31m---------------------------------------------------------------------------\u001b[0m",
            "\u001b[0;31mModuleNotFoundError\u001b[0m                       Traceback (most recent call last)",
            "\u001b[1;32m/Users/udell/Dropbox/teaching/MSE125/demos/logistic_regression.ipynb Cell 44\u001b[0m in \u001b[0;36m<cell line: 2>\u001b[0;34m()\u001b[0m\n\u001b[1;32m      <a href='vscode-notebook-cell:/Users/udell/Dropbox/teaching/MSE125/demos/logistic_regression.ipynb#X55sZmlsZQ%3D%3D?line=0'>1</a>\u001b[0m \u001b[39m# Calculate FPR and TPR sweeping through a range of thresholds\u001b[39;00m\n\u001b[0;32m----> <a href='vscode-notebook-cell:/Users/udell/Dropbox/teaching/MSE125/demos/logistic_regression.ipynb#X55sZmlsZQ%3D%3D?line=1'>2</a>\u001b[0m \u001b[39mfrom\u001b[39;00m \u001b[39msklearn\u001b[39;00m\u001b[39m.\u001b[39;00m\u001b[39mmetrics\u001b[39;00m \u001b[39mimport\u001b[39;00m roc_curve\n\u001b[1;32m      <a href='vscode-notebook-cell:/Users/udell/Dropbox/teaching/MSE125/demos/logistic_regression.ipynb#X55sZmlsZQ%3D%3D?line=2'>3</a>\u001b[0m fpr, tpr, thresholds \u001b[39m=\u001b[39m roc_curve(spam[\u001b[39m'\u001b[39m\u001b[39mis_spam\u001b[39m\u001b[39m'\u001b[39m], spam[\u001b[39m'\u001b[39m\u001b[39mpred\u001b[39m\u001b[39m'\u001b[39m])\n\u001b[1;32m      <a href='vscode-notebook-cell:/Users/udell/Dropbox/teaching/MSE125/demos/logistic_regression.ipynb#X55sZmlsZQ%3D%3D?line=3'>4</a>\u001b[0m plt\u001b[39m.\u001b[39mplot(fpr, tpr)\n",
            "\u001b[0;31mModuleNotFoundError\u001b[0m: No module named 'sklearn'"
          ]
        }
      ],
      "source": [
        "# Calculate FPR and TPR sweeping through a range of thresholds\n",
        "from sklearn.metrics import roc_curve\n",
        "fpr, tpr, thresholds = roc_curve(spam['is_spam'], spam['pred'])\n",
        "plt.plot(fpr, tpr)"
      ]
    },
    {
      "attachments": {},
      "cell_type": "markdown",
      "id": "U8PQYyZTqnJe",
      "metadata": {
        "id": "U8PQYyZTqnJe"
      },
      "source": [
        "## Area Under the ROC Curve (AUC)"
      ]
    },
    {
      "cell_type": "code",
      "execution_count": 61,
      "id": "-i2BErjLqoHL",
      "metadata": {
        "id": "-i2BErjLqoHL"
      },
      "outputs": [
        {
          "ename": "ModuleNotFoundError",
          "evalue": "No module named 'sklearn'",
          "output_type": "error",
          "traceback": [
            "\u001b[0;31m---------------------------------------------------------------------------\u001b[0m",
            "\u001b[0;31mModuleNotFoundError\u001b[0m                       Traceback (most recent call last)",
            "\u001b[1;32m/Users/udell/Dropbox/teaching/MSE125/demos/logistic_regression.ipynb Cell 46\u001b[0m in \u001b[0;36m<cell line: 3>\u001b[0;34m()\u001b[0m\n\u001b[1;32m      <a href='vscode-notebook-cell:/Users/udell/Dropbox/teaching/MSE125/demos/logistic_regression.ipynb#X60sZmlsZQ%3D%3D?line=0'>1</a>\u001b[0m \u001b[39m# AUC is the area under the ROC curve\u001b[39;00m\n\u001b[1;32m      <a href='vscode-notebook-cell:/Users/udell/Dropbox/teaching/MSE125/demos/logistic_regression.ipynb#X60sZmlsZQ%3D%3D?line=1'>2</a>\u001b[0m \u001b[39m# AUC is a threshold-agnostic classification metric\u001b[39;00m\n\u001b[0;32m----> <a href='vscode-notebook-cell:/Users/udell/Dropbox/teaching/MSE125/demos/logistic_regression.ipynb#X60sZmlsZQ%3D%3D?line=2'>3</a>\u001b[0m \u001b[39mfrom\u001b[39;00m \u001b[39msklearn\u001b[39;00m\u001b[39m.\u001b[39;00m\u001b[39mmetrics\u001b[39;00m \u001b[39mimport\u001b[39;00m auc\n\u001b[1;32m      <a href='vscode-notebook-cell:/Users/udell/Dropbox/teaching/MSE125/demos/logistic_regression.ipynb#X60sZmlsZQ%3D%3D?line=3'>4</a>\u001b[0m auc(fpr, tpr)\n",
            "\u001b[0;31mModuleNotFoundError\u001b[0m: No module named 'sklearn'"
          ]
        }
      ],
      "source": [
        "# AUC is the area under the ROC curve\n",
        "# AUC is a threshold-agnostic classification metric\n",
        "from sklearn.metrics import auc\n",
        "auc(fpr, tpr)"
      ]
    }
  ],
  "metadata": {
    "colab": {
      "provenance": []
    },
    "kernelspec": {
      "display_name": "mse125",
      "language": "python",
      "name": "python3"
    },
    "language_info": {
      "codemirror_mode": {
        "name": "ipython",
        "version": 3
      },
      "file_extension": ".py",
      "mimetype": "text/x-python",
      "name": "python",
      "nbconvert_exporter": "python",
      "pygments_lexer": "ipython3",
      "version": "3.10.9"
    },
    "toc": {
      "base_numbering": 1,
      "nav_menu": {},
      "number_sections": true,
      "sideBar": true,
      "skip_h1_title": false,
      "title_cell": "Table of Contents",
      "title_sidebar": "Contents",
      "toc_cell": false,
      "toc_position": {},
      "toc_section_display": true,
      "toc_window_display": false
    },
    "vscode": {
      "interpreter": {
        "hash": "c9df14072a2334730e73d4cfa5ae1169beeaa88f3f46d9f45ba117213399639e"
      }
    }
  },
  "nbformat": 4,
  "nbformat_minor": 5
}
