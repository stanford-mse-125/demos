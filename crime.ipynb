{
 "cells": [
  {
   "attachments": {},
   "cell_type": "markdown",
   "metadata": {},
   "source": [
    "# Crimes"
   ]
  },
  {
   "cell_type": "code",
   "execution_count": 154,
   "metadata": {},
   "outputs": [],
   "source": [
    "# math \n",
    "import numpy as np\n",
    "\n",
    "# dataframes\n",
    "import pandas as pd\n",
    "\n",
    "# plotting\n",
    "import matplotlib.pyplot as plt\n",
    "import seaborn as sns\n",
    "\n",
    "# linear regression\n",
    "import statsmodels.api as sm\n",
    "import statsmodels.formula.api as smf\n",
    "\n",
    "# dates and locations and weather\n",
    "from meteostat import Point, Daily\n",
    "from datetime import datetime"
   ]
  },
  {
   "cell_type": "code",
   "execution_count": 266,
   "metadata": {},
   "outputs": [
    {
     "data": {
      "text/html": [
       "<div>\n",
       "<style scoped>\n",
       "    .dataframe tbody tr th:only-of-type {\n",
       "        vertical-align: middle;\n",
       "    }\n",
       "\n",
       "    .dataframe tbody tr th {\n",
       "        vertical-align: top;\n",
       "    }\n",
       "\n",
       "    .dataframe thead th {\n",
       "        text-align: right;\n",
       "    }\n",
       "</style>\n",
       "<table border=\"1\" class=\"dataframe\">\n",
       "  <thead>\n",
       "    <tr style=\"text-align: right;\">\n",
       "      <th></th>\n",
       "      <th>ID</th>\n",
       "      <th>Case Number</th>\n",
       "      <th>Date</th>\n",
       "      <th>Block</th>\n",
       "      <th>IUCR</th>\n",
       "      <th>Primary Type</th>\n",
       "      <th>Description</th>\n",
       "      <th>Location Description</th>\n",
       "      <th>Arrest</th>\n",
       "      <th>Domestic</th>\n",
       "      <th>...</th>\n",
       "      <th>Ward</th>\n",
       "      <th>Community Area</th>\n",
       "      <th>FBI Code</th>\n",
       "      <th>X Coordinate</th>\n",
       "      <th>Y Coordinate</th>\n",
       "      <th>Year</th>\n",
       "      <th>Updated On</th>\n",
       "      <th>Latitude</th>\n",
       "      <th>Longitude</th>\n",
       "      <th>Location</th>\n",
       "    </tr>\n",
       "  </thead>\n",
       "  <tbody>\n",
       "    <tr>\n",
       "      <th>0</th>\n",
       "      <td>10224738</td>\n",
       "      <td>HY411648</td>\n",
       "      <td>09/05/2015 01:30:00 PM</td>\n",
       "      <td>043XX S WOOD ST</td>\n",
       "      <td>0486</td>\n",
       "      <td>BATTERY</td>\n",
       "      <td>DOMESTIC BATTERY SIMPLE</td>\n",
       "      <td>RESIDENCE</td>\n",
       "      <td>False</td>\n",
       "      <td>True</td>\n",
       "      <td>...</td>\n",
       "      <td>12.0</td>\n",
       "      <td>61.0</td>\n",
       "      <td>08B</td>\n",
       "      <td>1165074.0</td>\n",
       "      <td>1875917.0</td>\n",
       "      <td>2015</td>\n",
       "      <td>02/10/2018 03:50:01 PM</td>\n",
       "      <td>41.815117</td>\n",
       "      <td>-87.670000</td>\n",
       "      <td>(41.815117282, -87.669999562)</td>\n",
       "    </tr>\n",
       "    <tr>\n",
       "      <th>1</th>\n",
       "      <td>10224739</td>\n",
       "      <td>HY411615</td>\n",
       "      <td>09/04/2015 11:30:00 AM</td>\n",
       "      <td>008XX N CENTRAL AVE</td>\n",
       "      <td>0870</td>\n",
       "      <td>THEFT</td>\n",
       "      <td>POCKET-PICKING</td>\n",
       "      <td>CTA BUS</td>\n",
       "      <td>False</td>\n",
       "      <td>False</td>\n",
       "      <td>...</td>\n",
       "      <td>29.0</td>\n",
       "      <td>25.0</td>\n",
       "      <td>06</td>\n",
       "      <td>1138875.0</td>\n",
       "      <td>1904869.0</td>\n",
       "      <td>2015</td>\n",
       "      <td>02/10/2018 03:50:01 PM</td>\n",
       "      <td>41.895080</td>\n",
       "      <td>-87.765400</td>\n",
       "      <td>(41.895080471, -87.765400451)</td>\n",
       "    </tr>\n",
       "    <tr>\n",
       "      <th>2</th>\n",
       "      <td>11646166</td>\n",
       "      <td>JC213529</td>\n",
       "      <td>09/01/2018 12:01:00 AM</td>\n",
       "      <td>082XX S INGLESIDE AVE</td>\n",
       "      <td>0810</td>\n",
       "      <td>THEFT</td>\n",
       "      <td>OVER $500</td>\n",
       "      <td>RESIDENCE</td>\n",
       "      <td>False</td>\n",
       "      <td>True</td>\n",
       "      <td>...</td>\n",
       "      <td>8.0</td>\n",
       "      <td>44.0</td>\n",
       "      <td>06</td>\n",
       "      <td>NaN</td>\n",
       "      <td>NaN</td>\n",
       "      <td>2018</td>\n",
       "      <td>04/06/2019 04:04:43 PM</td>\n",
       "      <td>NaN</td>\n",
       "      <td>NaN</td>\n",
       "      <td>NaN</td>\n",
       "    </tr>\n",
       "    <tr>\n",
       "      <th>3</th>\n",
       "      <td>10224740</td>\n",
       "      <td>HY411595</td>\n",
       "      <td>09/05/2015 12:45:00 PM</td>\n",
       "      <td>035XX W BARRY AVE</td>\n",
       "      <td>2023</td>\n",
       "      <td>NARCOTICS</td>\n",
       "      <td>POSS: HEROIN(BRN/TAN)</td>\n",
       "      <td>SIDEWALK</td>\n",
       "      <td>True</td>\n",
       "      <td>False</td>\n",
       "      <td>...</td>\n",
       "      <td>35.0</td>\n",
       "      <td>21.0</td>\n",
       "      <td>18</td>\n",
       "      <td>1152037.0</td>\n",
       "      <td>1920384.0</td>\n",
       "      <td>2015</td>\n",
       "      <td>02/10/2018 03:50:01 PM</td>\n",
       "      <td>41.937406</td>\n",
       "      <td>-87.716650</td>\n",
       "      <td>(41.937405765, -87.716649687)</td>\n",
       "    </tr>\n",
       "    <tr>\n",
       "      <th>4</th>\n",
       "      <td>10224741</td>\n",
       "      <td>HY411610</td>\n",
       "      <td>09/05/2015 01:00:00 PM</td>\n",
       "      <td>0000X N LARAMIE AVE</td>\n",
       "      <td>0560</td>\n",
       "      <td>ASSAULT</td>\n",
       "      <td>SIMPLE</td>\n",
       "      <td>APARTMENT</td>\n",
       "      <td>False</td>\n",
       "      <td>True</td>\n",
       "      <td>...</td>\n",
       "      <td>28.0</td>\n",
       "      <td>25.0</td>\n",
       "      <td>08A</td>\n",
       "      <td>1141706.0</td>\n",
       "      <td>1900086.0</td>\n",
       "      <td>2015</td>\n",
       "      <td>02/10/2018 03:50:01 PM</td>\n",
       "      <td>41.881903</td>\n",
       "      <td>-87.755121</td>\n",
       "      <td>(41.881903443, -87.755121152)</td>\n",
       "    </tr>\n",
       "  </tbody>\n",
       "</table>\n",
       "<p>5 rows × 22 columns</p>\n",
       "</div>"
      ],
      "text/plain": [
       "         ID Case Number                    Date                  Block  IUCR  \\\n",
       "0  10224738    HY411648  09/05/2015 01:30:00 PM        043XX S WOOD ST  0486   \n",
       "1  10224739    HY411615  09/04/2015 11:30:00 AM    008XX N CENTRAL AVE  0870   \n",
       "2  11646166    JC213529  09/01/2018 12:01:00 AM  082XX S INGLESIDE AVE  0810   \n",
       "3  10224740    HY411595  09/05/2015 12:45:00 PM      035XX W BARRY AVE  2023   \n",
       "4  10224741    HY411610  09/05/2015 01:00:00 PM    0000X N LARAMIE AVE  0560   \n",
       "\n",
       "  Primary Type              Description Location Description  Arrest  \\\n",
       "0      BATTERY  DOMESTIC BATTERY SIMPLE            RESIDENCE   False   \n",
       "1        THEFT           POCKET-PICKING              CTA BUS   False   \n",
       "2        THEFT                OVER $500            RESIDENCE   False   \n",
       "3    NARCOTICS    POSS: HEROIN(BRN/TAN)             SIDEWALK    True   \n",
       "4      ASSAULT                   SIMPLE            APARTMENT   False   \n",
       "\n",
       "   Domestic  ...  Ward  Community Area  FBI Code  X Coordinate Y Coordinate  \\\n",
       "0      True  ...  12.0            61.0       08B     1165074.0    1875917.0   \n",
       "1     False  ...  29.0            25.0        06     1138875.0    1904869.0   \n",
       "2      True  ...   8.0            44.0        06           NaN          NaN   \n",
       "3     False  ...  35.0            21.0        18     1152037.0    1920384.0   \n",
       "4      True  ...  28.0            25.0       08A     1141706.0    1900086.0   \n",
       "\n",
       "   Year              Updated On   Latitude  Longitude  \\\n",
       "0  2015  02/10/2018 03:50:01 PM  41.815117 -87.670000   \n",
       "1  2015  02/10/2018 03:50:01 PM  41.895080 -87.765400   \n",
       "2  2018  04/06/2019 04:04:43 PM        NaN        NaN   \n",
       "3  2015  02/10/2018 03:50:01 PM  41.937406 -87.716650   \n",
       "4  2015  02/10/2018 03:50:01 PM  41.881903 -87.755121   \n",
       "\n",
       "                        Location  \n",
       "0  (41.815117282, -87.669999562)  \n",
       "1  (41.895080471, -87.765400451)  \n",
       "2                            NaN  \n",
       "3  (41.937405765, -87.716649687)  \n",
       "4  (41.881903443, -87.755121152)  \n",
       "\n",
       "[5 rows x 22 columns]"
      ]
     },
     "execution_count": 266,
     "metadata": {},
     "output_type": "execute_result"
    }
   ],
   "source": [
    "# download crimes data from https://data.cityofchicago.org/api/views/ijzp-q8t2/rows.csv?accessType=DOWNLOAD\n",
    "# and save it as crimes.csv\n",
    "df = pd.read_csv('~/Downloads/crimes.csv', nrows=5000000)\n",
    "# if you have a smaller cut of the data saved locally already,\n",
    "# df = pd.read_csv('data/crimes.csv')\n",
    "df.head()"
   ]
  },
  {
   "cell_type": "code",
   "execution_count": 267,
   "metadata": {},
   "outputs": [
    {
     "data": {
      "text/plain": [
       "Year\n",
       "2001    467138\n",
       "2002    459428\n",
       "2003    461290\n",
       "2004    457552\n",
       "2005    441677\n",
       "2006    437037\n",
       "2007    428549\n",
       "2008    414794\n",
       "2009    291660\n",
       "2010      5241\n",
       "2011       283\n",
       "2012       445\n",
       "2013       686\n",
       "2014      1644\n",
       "2015    184684\n",
       "2016    261960\n",
       "2017    261451\n",
       "2018    261103\n",
       "2019    139840\n",
       "2020     19548\n",
       "2021      2747\n",
       "2022      1243\n",
       "dtype: int64"
      ]
     },
     "execution_count": 267,
     "metadata": {},
     "output_type": "execute_result"
    }
   ],
   "source": [
    "# how many crimes in each year?\n",
    "df.groupby('Year').size()"
   ]
  },
  {
   "cell_type": "code",
   "execution_count": 268,
   "metadata": {},
   "outputs": [
    {
     "data": {
      "text/plain": [
       "Year\n",
       "2016    261960\n",
       "2017    261451\n",
       "2018    261103\n",
       "dtype: int64"
      ]
     },
     "execution_count": 268,
     "metadata": {},
     "output_type": "execute_result"
    }
   ],
   "source": [
    "# let's restrict to 2016--2018\n",
    "df = df[df['Year'].isin([2016, 2017, 2018])]\n",
    "df.groupby('Year').size()"
   ]
  },
  {
   "cell_type": "code",
   "execution_count": 269,
   "metadata": {},
   "outputs": [],
   "source": [
    "# write a csv file with just this subset of the data\n",
    "# df.to_csv('data/crimes.csv', index=False)"
   ]
  },
  {
   "cell_type": "code",
   "execution_count": 158,
   "metadata": {},
   "outputs": [
    {
     "data": {
      "text/html": [
       "<div>\n",
       "<style scoped>\n",
       "    .dataframe tbody tr th:only-of-type {\n",
       "        vertical-align: middle;\n",
       "    }\n",
       "\n",
       "    .dataframe tbody tr th {\n",
       "        vertical-align: top;\n",
       "    }\n",
       "\n",
       "    .dataframe thead th {\n",
       "        text-align: right;\n",
       "    }\n",
       "</style>\n",
       "<table border=\"1\" class=\"dataframe\">\n",
       "  <thead>\n",
       "    <tr style=\"text-align: right;\">\n",
       "      <th></th>\n",
       "      <th>ID</th>\n",
       "      <th>Case Number</th>\n",
       "      <th>Date</th>\n",
       "      <th>Block</th>\n",
       "      <th>IUCR</th>\n",
       "      <th>Primary Type</th>\n",
       "      <th>Description</th>\n",
       "      <th>Location Description</th>\n",
       "      <th>Arrest</th>\n",
       "      <th>Domestic</th>\n",
       "      <th>...</th>\n",
       "      <th>Community Area</th>\n",
       "      <th>FBI Code</th>\n",
       "      <th>X Coordinate</th>\n",
       "      <th>Y Coordinate</th>\n",
       "      <th>Year</th>\n",
       "      <th>Updated On</th>\n",
       "      <th>Latitude</th>\n",
       "      <th>Longitude</th>\n",
       "      <th>Location</th>\n",
       "      <th>timestamp</th>\n",
       "    </tr>\n",
       "  </thead>\n",
       "  <tbody>\n",
       "    <tr>\n",
       "      <th>2</th>\n",
       "      <td>11646166</td>\n",
       "      <td>JC213529</td>\n",
       "      <td>09/01/2018 12:01:00 AM</td>\n",
       "      <td>082XX S INGLESIDE AVE</td>\n",
       "      <td>0810</td>\n",
       "      <td>THEFT</td>\n",
       "      <td>OVER $500</td>\n",
       "      <td>RESIDENCE</td>\n",
       "      <td>False</td>\n",
       "      <td>True</td>\n",
       "      <td>...</td>\n",
       "      <td>44.0</td>\n",
       "      <td>06</td>\n",
       "      <td>NaN</td>\n",
       "      <td>NaN</td>\n",
       "      <td>2018</td>\n",
       "      <td>04/06/2019 04:04:43 PM</td>\n",
       "      <td>NaN</td>\n",
       "      <td>NaN</td>\n",
       "      <td>NaN</td>\n",
       "      <td>2018-09-01 00:01:00</td>\n",
       "    </tr>\n",
       "    <tr>\n",
       "      <th>9</th>\n",
       "      <td>11645836</td>\n",
       "      <td>JC212333</td>\n",
       "      <td>05/01/2016 12:25:00 AM</td>\n",
       "      <td>055XX S ROCKWELL ST</td>\n",
       "      <td>1153</td>\n",
       "      <td>DECEPTIVE PRACTICE</td>\n",
       "      <td>FINANCIAL IDENTITY THEFT OVER $ 300</td>\n",
       "      <td>NaN</td>\n",
       "      <td>False</td>\n",
       "      <td>False</td>\n",
       "      <td>...</td>\n",
       "      <td>63.0</td>\n",
       "      <td>11</td>\n",
       "      <td>NaN</td>\n",
       "      <td>NaN</td>\n",
       "      <td>2016</td>\n",
       "      <td>04/06/2019 04:04:43 PM</td>\n",
       "      <td>NaN</td>\n",
       "      <td>NaN</td>\n",
       "      <td>NaN</td>\n",
       "      <td>2016-05-01 00:25:00</td>\n",
       "    </tr>\n",
       "    <tr>\n",
       "      <th>158</th>\n",
       "      <td>11645648</td>\n",
       "      <td>JC212959</td>\n",
       "      <td>01/01/2018 08:00:00 AM</td>\n",
       "      <td>024XX N MONITOR AVE</td>\n",
       "      <td>1153</td>\n",
       "      <td>DECEPTIVE PRACTICE</td>\n",
       "      <td>FINANCIAL IDENTITY THEFT OVER $ 300</td>\n",
       "      <td>RESIDENCE</td>\n",
       "      <td>False</td>\n",
       "      <td>False</td>\n",
       "      <td>...</td>\n",
       "      <td>19.0</td>\n",
       "      <td>11</td>\n",
       "      <td>NaN</td>\n",
       "      <td>NaN</td>\n",
       "      <td>2018</td>\n",
       "      <td>04/06/2019 04:04:43 PM</td>\n",
       "      <td>NaN</td>\n",
       "      <td>NaN</td>\n",
       "      <td>NaN</td>\n",
       "      <td>2018-01-01 08:00:00</td>\n",
       "    </tr>\n",
       "    <tr>\n",
       "      <th>278</th>\n",
       "      <td>11645959</td>\n",
       "      <td>JC211511</td>\n",
       "      <td>12/20/2018 04:00:00 PM</td>\n",
       "      <td>045XX N ALBANY AVE</td>\n",
       "      <td>2820</td>\n",
       "      <td>OTHER OFFENSE</td>\n",
       "      <td>TELEPHONE THREAT</td>\n",
       "      <td>RESIDENCE</td>\n",
       "      <td>False</td>\n",
       "      <td>False</td>\n",
       "      <td>...</td>\n",
       "      <td>14.0</td>\n",
       "      <td>08A</td>\n",
       "      <td>NaN</td>\n",
       "      <td>NaN</td>\n",
       "      <td>2018</td>\n",
       "      <td>04/06/2019 04:04:43 PM</td>\n",
       "      <td>NaN</td>\n",
       "      <td>NaN</td>\n",
       "      <td>NaN</td>\n",
       "      <td>2018-12-20 16:00:00</td>\n",
       "    </tr>\n",
       "    <tr>\n",
       "      <th>312</th>\n",
       "      <td>11645557</td>\n",
       "      <td>JC212685</td>\n",
       "      <td>04/01/2018 12:01:00 AM</td>\n",
       "      <td>080XX S VERNON AVE</td>\n",
       "      <td>1153</td>\n",
       "      <td>DECEPTIVE PRACTICE</td>\n",
       "      <td>FINANCIAL IDENTITY THEFT OVER $ 300</td>\n",
       "      <td>RESIDENCE</td>\n",
       "      <td>False</td>\n",
       "      <td>False</td>\n",
       "      <td>...</td>\n",
       "      <td>44.0</td>\n",
       "      <td>11</td>\n",
       "      <td>NaN</td>\n",
       "      <td>NaN</td>\n",
       "      <td>2018</td>\n",
       "      <td>04/06/2019 04:04:43 PM</td>\n",
       "      <td>NaN</td>\n",
       "      <td>NaN</td>\n",
       "      <td>NaN</td>\n",
       "      <td>2018-04-01 00:01:00</td>\n",
       "    </tr>\n",
       "  </tbody>\n",
       "</table>\n",
       "<p>5 rows × 23 columns</p>\n",
       "</div>"
      ],
      "text/plain": [
       "           ID Case Number                    Date                  Block  \\\n",
       "2    11646166    JC213529  09/01/2018 12:01:00 AM  082XX S INGLESIDE AVE   \n",
       "9    11645836    JC212333  05/01/2016 12:25:00 AM    055XX S ROCKWELL ST   \n",
       "158  11645648    JC212959  01/01/2018 08:00:00 AM    024XX N MONITOR AVE   \n",
       "278  11645959    JC211511  12/20/2018 04:00:00 PM     045XX N ALBANY AVE   \n",
       "312  11645557    JC212685  04/01/2018 12:01:00 AM     080XX S VERNON AVE   \n",
       "\n",
       "     IUCR        Primary Type                          Description  \\\n",
       "2    0810               THEFT                            OVER $500   \n",
       "9    1153  DECEPTIVE PRACTICE  FINANCIAL IDENTITY THEFT OVER $ 300   \n",
       "158  1153  DECEPTIVE PRACTICE  FINANCIAL IDENTITY THEFT OVER $ 300   \n",
       "278  2820       OTHER OFFENSE                     TELEPHONE THREAT   \n",
       "312  1153  DECEPTIVE PRACTICE  FINANCIAL IDENTITY THEFT OVER $ 300   \n",
       "\n",
       "    Location Description  Arrest  Domestic  ...  Community Area  FBI Code  \\\n",
       "2              RESIDENCE   False      True  ...            44.0        06   \n",
       "9                    NaN   False     False  ...            63.0        11   \n",
       "158            RESIDENCE   False     False  ...            19.0        11   \n",
       "278            RESIDENCE   False     False  ...            14.0       08A   \n",
       "312            RESIDENCE   False     False  ...            44.0        11   \n",
       "\n",
       "     X Coordinate  Y Coordinate  Year              Updated On  Latitude  \\\n",
       "2             NaN           NaN  2018  04/06/2019 04:04:43 PM       NaN   \n",
       "9             NaN           NaN  2016  04/06/2019 04:04:43 PM       NaN   \n",
       "158           NaN           NaN  2018  04/06/2019 04:04:43 PM       NaN   \n",
       "278           NaN           NaN  2018  04/06/2019 04:04:43 PM       NaN   \n",
       "312           NaN           NaN  2018  04/06/2019 04:04:43 PM       NaN   \n",
       "\n",
       "     Longitude Location           timestamp  \n",
       "2          NaN      NaN 2018-09-01 00:01:00  \n",
       "9          NaN      NaN 2016-05-01 00:25:00  \n",
       "158        NaN      NaN 2018-01-01 08:00:00  \n",
       "278        NaN      NaN 2018-12-20 16:00:00  \n",
       "312        NaN      NaN 2018-04-01 00:01:00  \n",
       "\n",
       "[5 rows x 23 columns]"
      ]
     },
     "execution_count": 158,
     "metadata": {},
     "output_type": "execute_result"
    }
   ],
   "source": [
    "# convert date to datetime\n",
    "df['timestamp'] = pd.to_datetime(df['Date'], format='%m/%d/%Y %I:%M:%S %p')\n",
    "df.head()"
   ]
  },
  {
   "cell_type": "code",
   "execution_count": 159,
   "metadata": {},
   "outputs": [
    {
     "data": {
      "text/html": [
       "<div>\n",
       "<style scoped>\n",
       "    .dataframe tbody tr th:only-of-type {\n",
       "        vertical-align: middle;\n",
       "    }\n",
       "\n",
       "    .dataframe tbody tr th {\n",
       "        vertical-align: top;\n",
       "    }\n",
       "\n",
       "    .dataframe thead th {\n",
       "        text-align: right;\n",
       "    }\n",
       "</style>\n",
       "<table border=\"1\" class=\"dataframe\">\n",
       "  <thead>\n",
       "    <tr style=\"text-align: right;\">\n",
       "      <th></th>\n",
       "      <th>ID</th>\n",
       "      <th>Case Number</th>\n",
       "      <th>Date</th>\n",
       "      <th>Block</th>\n",
       "      <th>IUCR</th>\n",
       "      <th>Primary Type</th>\n",
       "      <th>Description</th>\n",
       "      <th>Location Description</th>\n",
       "      <th>Arrest</th>\n",
       "      <th>Domestic</th>\n",
       "      <th>...</th>\n",
       "      <th>X Coordinate</th>\n",
       "      <th>Y Coordinate</th>\n",
       "      <th>Year</th>\n",
       "      <th>Updated On</th>\n",
       "      <th>Latitude</th>\n",
       "      <th>Longitude</th>\n",
       "      <th>Location</th>\n",
       "      <th>timestamp</th>\n",
       "      <th>Month</th>\n",
       "      <th>Day</th>\n",
       "    </tr>\n",
       "  </thead>\n",
       "  <tbody>\n",
       "    <tr>\n",
       "      <th>2</th>\n",
       "      <td>11646166</td>\n",
       "      <td>JC213529</td>\n",
       "      <td>09/01/2018 12:01:00 AM</td>\n",
       "      <td>082XX S INGLESIDE AVE</td>\n",
       "      <td>0810</td>\n",
       "      <td>THEFT</td>\n",
       "      <td>OVER $500</td>\n",
       "      <td>RESIDENCE</td>\n",
       "      <td>False</td>\n",
       "      <td>True</td>\n",
       "      <td>...</td>\n",
       "      <td>NaN</td>\n",
       "      <td>NaN</td>\n",
       "      <td>2018</td>\n",
       "      <td>04/06/2019 04:04:43 PM</td>\n",
       "      <td>NaN</td>\n",
       "      <td>NaN</td>\n",
       "      <td>NaN</td>\n",
       "      <td>2018-09-01 00:01:00</td>\n",
       "      <td>9</td>\n",
       "      <td>1</td>\n",
       "    </tr>\n",
       "    <tr>\n",
       "      <th>9</th>\n",
       "      <td>11645836</td>\n",
       "      <td>JC212333</td>\n",
       "      <td>05/01/2016 12:25:00 AM</td>\n",
       "      <td>055XX S ROCKWELL ST</td>\n",
       "      <td>1153</td>\n",
       "      <td>DECEPTIVE PRACTICE</td>\n",
       "      <td>FINANCIAL IDENTITY THEFT OVER $ 300</td>\n",
       "      <td>NaN</td>\n",
       "      <td>False</td>\n",
       "      <td>False</td>\n",
       "      <td>...</td>\n",
       "      <td>NaN</td>\n",
       "      <td>NaN</td>\n",
       "      <td>2016</td>\n",
       "      <td>04/06/2019 04:04:43 PM</td>\n",
       "      <td>NaN</td>\n",
       "      <td>NaN</td>\n",
       "      <td>NaN</td>\n",
       "      <td>2016-05-01 00:25:00</td>\n",
       "      <td>5</td>\n",
       "      <td>1</td>\n",
       "    </tr>\n",
       "    <tr>\n",
       "      <th>158</th>\n",
       "      <td>11645648</td>\n",
       "      <td>JC212959</td>\n",
       "      <td>01/01/2018 08:00:00 AM</td>\n",
       "      <td>024XX N MONITOR AVE</td>\n",
       "      <td>1153</td>\n",
       "      <td>DECEPTIVE PRACTICE</td>\n",
       "      <td>FINANCIAL IDENTITY THEFT OVER $ 300</td>\n",
       "      <td>RESIDENCE</td>\n",
       "      <td>False</td>\n",
       "      <td>False</td>\n",
       "      <td>...</td>\n",
       "      <td>NaN</td>\n",
       "      <td>NaN</td>\n",
       "      <td>2018</td>\n",
       "      <td>04/06/2019 04:04:43 PM</td>\n",
       "      <td>NaN</td>\n",
       "      <td>NaN</td>\n",
       "      <td>NaN</td>\n",
       "      <td>2018-01-01 08:00:00</td>\n",
       "      <td>1</td>\n",
       "      <td>1</td>\n",
       "    </tr>\n",
       "    <tr>\n",
       "      <th>278</th>\n",
       "      <td>11645959</td>\n",
       "      <td>JC211511</td>\n",
       "      <td>12/20/2018 04:00:00 PM</td>\n",
       "      <td>045XX N ALBANY AVE</td>\n",
       "      <td>2820</td>\n",
       "      <td>OTHER OFFENSE</td>\n",
       "      <td>TELEPHONE THREAT</td>\n",
       "      <td>RESIDENCE</td>\n",
       "      <td>False</td>\n",
       "      <td>False</td>\n",
       "      <td>...</td>\n",
       "      <td>NaN</td>\n",
       "      <td>NaN</td>\n",
       "      <td>2018</td>\n",
       "      <td>04/06/2019 04:04:43 PM</td>\n",
       "      <td>NaN</td>\n",
       "      <td>NaN</td>\n",
       "      <td>NaN</td>\n",
       "      <td>2018-12-20 16:00:00</td>\n",
       "      <td>12</td>\n",
       "      <td>20</td>\n",
       "    </tr>\n",
       "    <tr>\n",
       "      <th>312</th>\n",
       "      <td>11645557</td>\n",
       "      <td>JC212685</td>\n",
       "      <td>04/01/2018 12:01:00 AM</td>\n",
       "      <td>080XX S VERNON AVE</td>\n",
       "      <td>1153</td>\n",
       "      <td>DECEPTIVE PRACTICE</td>\n",
       "      <td>FINANCIAL IDENTITY THEFT OVER $ 300</td>\n",
       "      <td>RESIDENCE</td>\n",
       "      <td>False</td>\n",
       "      <td>False</td>\n",
       "      <td>...</td>\n",
       "      <td>NaN</td>\n",
       "      <td>NaN</td>\n",
       "      <td>2018</td>\n",
       "      <td>04/06/2019 04:04:43 PM</td>\n",
       "      <td>NaN</td>\n",
       "      <td>NaN</td>\n",
       "      <td>NaN</td>\n",
       "      <td>2018-04-01 00:01:00</td>\n",
       "      <td>4</td>\n",
       "      <td>1</td>\n",
       "    </tr>\n",
       "  </tbody>\n",
       "</table>\n",
       "<p>5 rows × 25 columns</p>\n",
       "</div>"
      ],
      "text/plain": [
       "           ID Case Number                    Date                  Block  \\\n",
       "2    11646166    JC213529  09/01/2018 12:01:00 AM  082XX S INGLESIDE AVE   \n",
       "9    11645836    JC212333  05/01/2016 12:25:00 AM    055XX S ROCKWELL ST   \n",
       "158  11645648    JC212959  01/01/2018 08:00:00 AM    024XX N MONITOR AVE   \n",
       "278  11645959    JC211511  12/20/2018 04:00:00 PM     045XX N ALBANY AVE   \n",
       "312  11645557    JC212685  04/01/2018 12:01:00 AM     080XX S VERNON AVE   \n",
       "\n",
       "     IUCR        Primary Type                          Description  \\\n",
       "2    0810               THEFT                            OVER $500   \n",
       "9    1153  DECEPTIVE PRACTICE  FINANCIAL IDENTITY THEFT OVER $ 300   \n",
       "158  1153  DECEPTIVE PRACTICE  FINANCIAL IDENTITY THEFT OVER $ 300   \n",
       "278  2820       OTHER OFFENSE                     TELEPHONE THREAT   \n",
       "312  1153  DECEPTIVE PRACTICE  FINANCIAL IDENTITY THEFT OVER $ 300   \n",
       "\n",
       "    Location Description  Arrest  Domestic  ...  X Coordinate  Y Coordinate  \\\n",
       "2              RESIDENCE   False      True  ...           NaN           NaN   \n",
       "9                    NaN   False     False  ...           NaN           NaN   \n",
       "158            RESIDENCE   False     False  ...           NaN           NaN   \n",
       "278            RESIDENCE   False     False  ...           NaN           NaN   \n",
       "312            RESIDENCE   False     False  ...           NaN           NaN   \n",
       "\n",
       "     Year              Updated On Latitude  Longitude  Location  \\\n",
       "2    2018  04/06/2019 04:04:43 PM      NaN        NaN       NaN   \n",
       "9    2016  04/06/2019 04:04:43 PM      NaN        NaN       NaN   \n",
       "158  2018  04/06/2019 04:04:43 PM      NaN        NaN       NaN   \n",
       "278  2018  04/06/2019 04:04:43 PM      NaN        NaN       NaN   \n",
       "312  2018  04/06/2019 04:04:43 PM      NaN        NaN       NaN   \n",
       "\n",
       "              timestamp Month  Day  \n",
       "2   2018-09-01 00:01:00     9    1  \n",
       "9   2016-05-01 00:25:00     5    1  \n",
       "158 2018-01-01 08:00:00     1    1  \n",
       "278 2018-12-20 16:00:00    12   20  \n",
       "312 2018-04-01 00:01:00     4    1  \n",
       "\n",
       "[5 rows x 25 columns]"
      ]
     },
     "execution_count": 159,
     "metadata": {},
     "output_type": "execute_result"
    }
   ],
   "source": [
    "# Introduce a column for month and for day\n",
    "df['Month'] = df['timestamp'].apply(lambda t: t.month)\n",
    "df['Day'] = df['timestamp'].apply(lambda t: t.day)\n",
    "df.head()"
   ]
  },
  {
   "cell_type": "code",
   "execution_count": 160,
   "metadata": {},
   "outputs": [
    {
     "data": {
      "text/plain": [
       "Month  Day  Year\n",
       "1      1    2016    1051\n",
       "            2017    1089\n",
       "            2018     826\n",
       "       2    2016     565\n",
       "            2017     596\n",
       "dtype: int64"
      ]
     },
     "execution_count": 160,
     "metadata": {},
     "output_type": "execute_result"
    }
   ],
   "source": [
    "crimes = df.groupby(['Month','Day','Year']).size()\n",
    "crimes.head()"
   ]
  },
  {
   "cell_type": "code",
   "execution_count": 161,
   "metadata": {},
   "outputs": [
    {
     "data": {
      "text/html": [
       "<div>\n",
       "<style scoped>\n",
       "    .dataframe tbody tr th:only-of-type {\n",
       "        vertical-align: middle;\n",
       "    }\n",
       "\n",
       "    .dataframe tbody tr th {\n",
       "        vertical-align: top;\n",
       "    }\n",
       "\n",
       "    .dataframe thead th {\n",
       "        text-align: right;\n",
       "    }\n",
       "</style>\n",
       "<table border=\"1\" class=\"dataframe\">\n",
       "  <thead>\n",
       "    <tr style=\"text-align: right;\">\n",
       "      <th></th>\n",
       "      <th>Month</th>\n",
       "      <th>Day</th>\n",
       "      <th>Year</th>\n",
       "      <th>count</th>\n",
       "    </tr>\n",
       "  </thead>\n",
       "  <tbody>\n",
       "    <tr>\n",
       "      <th>0</th>\n",
       "      <td>1</td>\n",
       "      <td>1</td>\n",
       "      <td>2016</td>\n",
       "      <td>1051</td>\n",
       "    </tr>\n",
       "    <tr>\n",
       "      <th>1</th>\n",
       "      <td>1</td>\n",
       "      <td>1</td>\n",
       "      <td>2017</td>\n",
       "      <td>1089</td>\n",
       "    </tr>\n",
       "    <tr>\n",
       "      <th>2</th>\n",
       "      <td>1</td>\n",
       "      <td>1</td>\n",
       "      <td>2018</td>\n",
       "      <td>826</td>\n",
       "    </tr>\n",
       "    <tr>\n",
       "      <th>3</th>\n",
       "      <td>1</td>\n",
       "      <td>2</td>\n",
       "      <td>2016</td>\n",
       "      <td>565</td>\n",
       "    </tr>\n",
       "    <tr>\n",
       "      <th>4</th>\n",
       "      <td>1</td>\n",
       "      <td>2</td>\n",
       "      <td>2017</td>\n",
       "      <td>596</td>\n",
       "    </tr>\n",
       "  </tbody>\n",
       "</table>\n",
       "</div>"
      ],
      "text/plain": [
       "   Month  Day  Year  count\n",
       "0      1    1  2016   1051\n",
       "1      1    1  2017   1089\n",
       "2      1    1  2018    826\n",
       "3      1    2  2016    565\n",
       "4      1    2  2017    596"
      ]
     },
     "execution_count": 161,
     "metadata": {},
     "output_type": "execute_result"
    }
   ],
   "source": [
    "# group by date and count crimes on each date\n",
    "crimes = df.groupby(['Month','Day','Year']).size().reset_index(name='count')\n",
    "crimes.head()"
   ]
  },
  {
   "cell_type": "code",
   "execution_count": 162,
   "metadata": {},
   "outputs": [
    {
     "data": {
      "text/html": [
       "<div>\n",
       "<style scoped>\n",
       "    .dataframe tbody tr th:only-of-type {\n",
       "        vertical-align: middle;\n",
       "    }\n",
       "\n",
       "    .dataframe tbody tr th {\n",
       "        vertical-align: top;\n",
       "    }\n",
       "\n",
       "    .dataframe thead th {\n",
       "        text-align: right;\n",
       "    }\n",
       "</style>\n",
       "<table border=\"1\" class=\"dataframe\">\n",
       "  <thead>\n",
       "    <tr style=\"text-align: right;\">\n",
       "      <th></th>\n",
       "      <th>Month</th>\n",
       "      <th>Day</th>\n",
       "      <th>Year</th>\n",
       "      <th>count</th>\n",
       "      <th>date</th>\n",
       "    </tr>\n",
       "  </thead>\n",
       "  <tbody>\n",
       "    <tr>\n",
       "      <th>0</th>\n",
       "      <td>1</td>\n",
       "      <td>1</td>\n",
       "      <td>2016</td>\n",
       "      <td>1051</td>\n",
       "      <td>2016-01-01</td>\n",
       "    </tr>\n",
       "    <tr>\n",
       "      <th>1</th>\n",
       "      <td>1</td>\n",
       "      <td>1</td>\n",
       "      <td>2017</td>\n",
       "      <td>1089</td>\n",
       "      <td>2017-01-01</td>\n",
       "    </tr>\n",
       "    <tr>\n",
       "      <th>2</th>\n",
       "      <td>1</td>\n",
       "      <td>1</td>\n",
       "      <td>2018</td>\n",
       "      <td>826</td>\n",
       "      <td>2018-01-01</td>\n",
       "    </tr>\n",
       "    <tr>\n",
       "      <th>3</th>\n",
       "      <td>1</td>\n",
       "      <td>2</td>\n",
       "      <td>2016</td>\n",
       "      <td>565</td>\n",
       "      <td>2016-01-02</td>\n",
       "    </tr>\n",
       "    <tr>\n",
       "      <th>4</th>\n",
       "      <td>1</td>\n",
       "      <td>2</td>\n",
       "      <td>2017</td>\n",
       "      <td>596</td>\n",
       "      <td>2017-01-02</td>\n",
       "    </tr>\n",
       "  </tbody>\n",
       "</table>\n",
       "</div>"
      ],
      "text/plain": [
       "   Month  Day  Year  count       date\n",
       "0      1    1  2016   1051 2016-01-01\n",
       "1      1    1  2017   1089 2017-01-01\n",
       "2      1    1  2018    826 2018-01-01\n",
       "3      1    2  2016    565 2016-01-02\n",
       "4      1    2  2017    596 2017-01-02"
      ]
     },
     "execution_count": 162,
     "metadata": {},
     "output_type": "execute_result"
    }
   ],
   "source": [
    "# reintroduce a date column\n",
    "crimes['date'] = crimes.apply(lambda row: datetime(row['Year'], row['Month'], row['Day']), axis=1)\n",
    "crimes.head()"
   ]
  },
  {
   "cell_type": "code",
   "execution_count": 163,
   "metadata": {},
   "outputs": [
    {
     "data": {
      "text/plain": [
       "<AxesSubplot:xlabel='date', ylabel='count'>"
      ]
     },
     "execution_count": 163,
     "metadata": {},
     "output_type": "execute_result"
    },
    {
     "data": {
      "image/png": "[encoded data removed]",
      "text/plain": [
       "<Figure size 432x288 with 1 Axes>"
      ]
     },
     "metadata": {
      "needs_background": "light"
     },
     "output_type": "display_data"
    }
   ],
   "source": [
    "sns.lineplot(x='date', y='count', data=crimes)"
   ]
  },
  {
   "attachments": {},
   "cell_type": "markdown",
   "metadata": {},
   "source": [
    "# temperature in Chicago"
   ]
  },
  {
   "cell_type": "code",
   "execution_count": 164,
   "metadata": {},
   "outputs": [],
   "source": [
    "# latitude and longitude of Chicago\n",
    "lat = 41.8781\n",
    "lon = -87.6298"
   ]
  },
  {
   "cell_type": "code",
   "execution_count": 165,
   "metadata": {},
   "outputs": [
    {
     "data": {
      "text/html": [
       "<div>\n",
       "<style scoped>\n",
       "    .dataframe tbody tr th:only-of-type {\n",
       "        vertical-align: middle;\n",
       "    }\n",
       "\n",
       "    .dataframe tbody tr th {\n",
       "        vertical-align: top;\n",
       "    }\n",
       "\n",
       "    .dataframe thead th {\n",
       "        text-align: right;\n",
       "    }\n",
       "</style>\n",
       "<table border=\"1\" class=\"dataframe\">\n",
       "  <thead>\n",
       "    <tr style=\"text-align: right;\">\n",
       "      <th></th>\n",
       "      <th>tavg</th>\n",
       "      <th>tmin</th>\n",
       "      <th>tmax</th>\n",
       "      <th>prcp</th>\n",
       "      <th>snow</th>\n",
       "      <th>wdir</th>\n",
       "      <th>wspd</th>\n",
       "      <th>wpgt</th>\n",
       "      <th>pres</th>\n",
       "      <th>tsun</th>\n",
       "    </tr>\n",
       "    <tr>\n",
       "      <th>time</th>\n",
       "      <th></th>\n",
       "      <th></th>\n",
       "      <th></th>\n",
       "      <th></th>\n",
       "      <th></th>\n",
       "      <th></th>\n",
       "      <th></th>\n",
       "      <th></th>\n",
       "      <th></th>\n",
       "      <th></th>\n",
       "    </tr>\n",
       "  </thead>\n",
       "  <tbody>\n",
       "    <tr>\n",
       "      <th>2016-01-01</th>\n",
       "      <td>-2.4</td>\n",
       "      <td>-6.0</td>\n",
       "      <td>0.1</td>\n",
       "      <td>0.0</td>\n",
       "      <td>51.0</td>\n",
       "      <td>247.0</td>\n",
       "      <td>23.8</td>\n",
       "      <td>NaN</td>\n",
       "      <td>1023.1</td>\n",
       "      <td>NaN</td>\n",
       "    </tr>\n",
       "    <tr>\n",
       "      <th>2016-01-02</th>\n",
       "      <td>-1.1</td>\n",
       "      <td>-4.9</td>\n",
       "      <td>1.3</td>\n",
       "      <td>0.0</td>\n",
       "      <td>51.0</td>\n",
       "      <td>249.0</td>\n",
       "      <td>18.8</td>\n",
       "      <td>NaN</td>\n",
       "      <td>1018.9</td>\n",
       "      <td>NaN</td>\n",
       "    </tr>\n",
       "    <tr>\n",
       "      <th>2016-01-03</th>\n",
       "      <td>-1.4</td>\n",
       "      <td>-3.7</td>\n",
       "      <td>0.1</td>\n",
       "      <td>0.0</td>\n",
       "      <td>51.0</td>\n",
       "      <td>314.0</td>\n",
       "      <td>18.8</td>\n",
       "      <td>NaN</td>\n",
       "      <td>1021.6</td>\n",
       "      <td>NaN</td>\n",
       "    </tr>\n",
       "    <tr>\n",
       "      <th>2016-01-04</th>\n",
       "      <td>-1.1</td>\n",
       "      <td>-3.2</td>\n",
       "      <td>0.7</td>\n",
       "      <td>0.0</td>\n",
       "      <td>51.0</td>\n",
       "      <td>4.0</td>\n",
       "      <td>18.1</td>\n",
       "      <td>NaN</td>\n",
       "      <td>1031.7</td>\n",
       "      <td>NaN</td>\n",
       "    </tr>\n",
       "    <tr>\n",
       "      <th>2016-01-05</th>\n",
       "      <td>-1.7</td>\n",
       "      <td>-5.4</td>\n",
       "      <td>1.8</td>\n",
       "      <td>0.0</td>\n",
       "      <td>25.0</td>\n",
       "      <td>177.0</td>\n",
       "      <td>15.3</td>\n",
       "      <td>NaN</td>\n",
       "      <td>1033.4</td>\n",
       "      <td>NaN</td>\n",
       "    </tr>\n",
       "  </tbody>\n",
       "</table>\n",
       "</div>"
      ],
      "text/plain": [
       "            tavg  tmin  tmax  prcp  snow   wdir  wspd  wpgt    pres  tsun\n",
       "time                                                                     \n",
       "2016-01-01  -2.4  -6.0   0.1   0.0  51.0  247.0  23.8   NaN  1023.1   NaN\n",
       "2016-01-02  -1.1  -4.9   1.3   0.0  51.0  249.0  18.8   NaN  1018.9   NaN\n",
       "2016-01-03  -1.4  -3.7   0.1   0.0  51.0  314.0  18.8   NaN  1021.6   NaN\n",
       "2016-01-04  -1.1  -3.2   0.7   0.0  51.0    4.0  18.1   NaN  1031.7   NaN\n",
       "2016-01-05  -1.7  -5.4   1.8   0.0  25.0  177.0  15.3   NaN  1033.4   NaN"
      ]
     },
     "execution_count": 165,
     "metadata": {},
     "output_type": "execute_result"
    }
   ],
   "source": [
    "# Set time period\n",
    "start = datetime(2016, 1, 1)\n",
    "end = datetime(2018, 12, 31)\n",
    "\n",
    "# Create Point for Chicago\n",
    "chicago = Point(lat, lon, 70)\n",
    "\n",
    "# Get daily data\n",
    "weather = Daily(chicago, start, end)\n",
    "weather = weather.fetch()\n",
    "weather.head()"
   ]
  },
  {
   "cell_type": "code",
   "execution_count": 166,
   "metadata": {},
   "outputs": [
    {
     "data": {
      "text/html": [
       "<div>\n",
       "<style scoped>\n",
       "    .dataframe tbody tr th:only-of-type {\n",
       "        vertical-align: middle;\n",
       "    }\n",
       "\n",
       "    .dataframe tbody tr th {\n",
       "        vertical-align: top;\n",
       "    }\n",
       "\n",
       "    .dataframe thead th {\n",
       "        text-align: right;\n",
       "    }\n",
       "</style>\n",
       "<table border=\"1\" class=\"dataframe\">\n",
       "  <thead>\n",
       "    <tr style=\"text-align: right;\">\n",
       "      <th></th>\n",
       "      <th>Month</th>\n",
       "      <th>Day</th>\n",
       "      <th>Year</th>\n",
       "      <th>count</th>\n",
       "      <th>date</th>\n",
       "      <th>tavg</th>\n",
       "      <th>tmin</th>\n",
       "      <th>tmax</th>\n",
       "      <th>prcp</th>\n",
       "      <th>snow</th>\n",
       "      <th>wdir</th>\n",
       "      <th>wspd</th>\n",
       "      <th>wpgt</th>\n",
       "      <th>pres</th>\n",
       "      <th>tsun</th>\n",
       "    </tr>\n",
       "  </thead>\n",
       "  <tbody>\n",
       "    <tr>\n",
       "      <th>0</th>\n",
       "      <td>1</td>\n",
       "      <td>1</td>\n",
       "      <td>2016</td>\n",
       "      <td>1051</td>\n",
       "      <td>2016-01-01</td>\n",
       "      <td>-2.4</td>\n",
       "      <td>-6.0</td>\n",
       "      <td>0.1</td>\n",
       "      <td>0.0</td>\n",
       "      <td>51.0</td>\n",
       "      <td>247.0</td>\n",
       "      <td>23.8</td>\n",
       "      <td>NaN</td>\n",
       "      <td>1023.1</td>\n",
       "      <td>NaN</td>\n",
       "    </tr>\n",
       "    <tr>\n",
       "      <th>1</th>\n",
       "      <td>1</td>\n",
       "      <td>1</td>\n",
       "      <td>2017</td>\n",
       "      <td>1089</td>\n",
       "      <td>2017-01-01</td>\n",
       "      <td>0.1</td>\n",
       "      <td>-4.9</td>\n",
       "      <td>5.7</td>\n",
       "      <td>0.0</td>\n",
       "      <td>0.0</td>\n",
       "      <td>NaN</td>\n",
       "      <td>8.9</td>\n",
       "      <td>NaN</td>\n",
       "      <td>1020.6</td>\n",
       "      <td>NaN</td>\n",
       "    </tr>\n",
       "    <tr>\n",
       "      <th>2</th>\n",
       "      <td>1</td>\n",
       "      <td>1</td>\n",
       "      <td>2018</td>\n",
       "      <td>826</td>\n",
       "      <td>2018-01-01</td>\n",
       "      <td>-18.4</td>\n",
       "      <td>-21.0</td>\n",
       "      <td>-15.4</td>\n",
       "      <td>0.0</td>\n",
       "      <td>51.0</td>\n",
       "      <td>281.0</td>\n",
       "      <td>16.9</td>\n",
       "      <td>NaN</td>\n",
       "      <td>1041.9</td>\n",
       "      <td>NaN</td>\n",
       "    </tr>\n",
       "    <tr>\n",
       "      <th>3</th>\n",
       "      <td>1</td>\n",
       "      <td>2</td>\n",
       "      <td>2016</td>\n",
       "      <td>565</td>\n",
       "      <td>2016-01-02</td>\n",
       "      <td>-1.1</td>\n",
       "      <td>-4.9</td>\n",
       "      <td>1.3</td>\n",
       "      <td>0.0</td>\n",
       "      <td>51.0</td>\n",
       "      <td>249.0</td>\n",
       "      <td>18.8</td>\n",
       "      <td>NaN</td>\n",
       "      <td>1018.9</td>\n",
       "      <td>NaN</td>\n",
       "    </tr>\n",
       "    <tr>\n",
       "      <th>4</th>\n",
       "      <td>1</td>\n",
       "      <td>2</td>\n",
       "      <td>2017</td>\n",
       "      <td>596</td>\n",
       "      <td>2017-01-02</td>\n",
       "      <td>3.6</td>\n",
       "      <td>0.1</td>\n",
       "      <td>5.7</td>\n",
       "      <td>6.1</td>\n",
       "      <td>0.0</td>\n",
       "      <td>81.0</td>\n",
       "      <td>11.2</td>\n",
       "      <td>NaN</td>\n",
       "      <td>1017.9</td>\n",
       "      <td>NaN</td>\n",
       "    </tr>\n",
       "  </tbody>\n",
       "</table>\n",
       "</div>"
      ],
      "text/plain": [
       "   Month  Day  Year  count       date  tavg  tmin  tmax  prcp  snow   wdir  \\\n",
       "0      1    1  2016   1051 2016-01-01  -2.4  -6.0   0.1   0.0  51.0  247.0   \n",
       "1      1    1  2017   1089 2017-01-01   0.1  -4.9   5.7   0.0   0.0    NaN   \n",
       "2      1    1  2018    826 2018-01-01 -18.4 -21.0 -15.4   0.0  51.0  281.0   \n",
       "3      1    2  2016    565 2016-01-02  -1.1  -4.9   1.3   0.0  51.0  249.0   \n",
       "4      1    2  2017    596 2017-01-02   3.6   0.1   5.7   6.1   0.0   81.0   \n",
       "\n",
       "   wspd  wpgt    pres  tsun  \n",
       "0  23.8   NaN  1023.1   NaN  \n",
       "1   8.9   NaN  1020.6   NaN  \n",
       "2  16.9   NaN  1041.9   NaN  \n",
       "3  18.8   NaN  1018.9   NaN  \n",
       "4  11.2   NaN  1017.9   NaN  "
      ]
     },
     "execution_count": 166,
     "metadata": {},
     "output_type": "execute_result"
    }
   ],
   "source": [
    "# annotate the data with the average temperature on each day \n",
    "# join the two dataframes on the date column in the first dataframe and the time column in the second dataframe\n",
    "crimes = crimes.merge(weather, left_on='date', right_on='time')\n",
    "crimes.sort_values('tmax')\n",
    "crimes.head()"
   ]
  },
  {
   "cell_type": "code",
   "execution_count": 167,
   "metadata": {},
   "outputs": [
    {
     "data": {
      "text/plain": [
       "<AxesSubplot:xlabel='tmax', ylabel='count'>"
      ]
     },
     "execution_count": 167,
     "metadata": {},
     "output_type": "execute_result"
    },
    {
     "data": {
      "image/png": "[encoded data removed]",
      "text/plain": [
       "<Figure size 432x288 with 1 Axes>"
      ]
     },
     "metadata": {
      "needs_background": "light"
     },
     "output_type": "display_data"
    }
   ],
   "source": [
    "# plot crime as a function of temperature\n",
    "sns.scatterplot(x='tmax', y='count', data=crimes)"
   ]
  },
  {
   "attachments": {},
   "cell_type": "markdown",
   "metadata": {},
   "source": [
    "# choose a subsample of data on which to fit our model"
   ]
  },
  {
   "cell_type": "code",
   "execution_count": 168,
   "metadata": {},
   "outputs": [],
   "source": [
    "# make three datasets, with crimes in 2016, 2017, and 2018\n",
    "crimes_2016 = crimes[crimes['Year'] == 2016]\n",
    "crimes_2017 = crimes[crimes['Year'] == 2017]\n",
    "crimes_2018 = crimes[crimes['Year'] == 2018]"
   ]
  },
  {
   "cell_type": "code",
   "execution_count": 218,
   "metadata": {},
   "outputs": [],
   "source": [
    "# use data from 2016 to train\n",
    "crimes = crimes_2016"
   ]
  },
  {
   "cell_type": "markdown",
   "metadata": {},
   "source": [
    "# fit the relationship between temperature and crime"
   ]
  },
  {
   "cell_type": "code",
   "execution_count": 171,
   "metadata": {},
   "outputs": [
    {
     "name": "stderr",
     "output_type": "stream",
     "text": [
      "FutureWarning: Pass the following variables as keyword args: x, y. From version 0.12, the only valid positional argument will be `data`, and passing other arguments without an explicit keyword will result in an error or misinterpretation.\n"
     ]
    },
    {
     "data": {
      "text/plain": [
       "<AxesSubplot:xlabel='tmax', ylabel='count'>"
      ]
     },
     "execution_count": 171,
     "metadata": {},
     "output_type": "execute_result"
    },
    {
     "data": {
      "image/png": "[encoded data removed]",
      "text/plain": [
       "<Figure size 432x288 with 1 Axes>"
      ]
     },
     "metadata": {
      "needs_background": "light"
     },
     "output_type": "display_data"
    }
   ],
   "source": [
    "model1 = smf.ols(formula='count ~ 1 + tmax', data=crimes).fit()\n",
    "sns.scatterplot(x='tmax', y='count', data=crimes)\n",
    "sns.lineplot(crimes['tmax'], model1.predict(crimes), color='red')"
   ]
  },
  {
   "cell_type": "code",
   "execution_count": 172,
   "metadata": {},
   "outputs": [
    {
     "name": "stderr",
     "output_type": "stream",
     "text": [
      "FutureWarning: Pass the following variables as keyword args: x, y. From version 0.12, the only valid positional argument will be `data`, and passing other arguments without an explicit keyword will result in an error or misinterpretation.\n"
     ]
    },
    {
     "data": {
      "text/plain": [
       "<matplotlib.collections.PolyCollection at 0x7fc91ae11af0>"
      ]
     },
     "execution_count": 172,
     "metadata": {},
     "output_type": "execute_result"
    },
    {
     "data": {
      "image/png": "[encoded data removed]",
      "text/plain": [
       "<Figure size 432x288 with 1 Axes>"
      ]
     },
     "metadata": {
      "needs_background": "light"
     },
     "output_type": "display_data"
    }
   ],
   "source": [
    "# plot the confidence interval\n",
    "CI = model1.get_prediction().summary_frame(alpha=0.05)\n",
    "CI = CI.merge(crimes, left_index=True, right_index=True).sort_values('tmax')\n",
    "sns.scatterplot(x='tmax', y='count', data=crimes)\n",
    "sns.lineplot(crimes['tmax'], model1.predict(crimes), color='red')\n",
    "plt.fill_between(CI['tmax'], CI['mean_ci_lower'], CI['mean_ci_upper'], color='red', alpha=0.2)"
   ]
  },
  {
   "cell_type": "code",
   "execution_count": 173,
   "metadata": {},
   "outputs": [
    {
     "name": "stderr",
     "output_type": "stream",
     "text": [
      "FutureWarning: Pass the following variables as keyword args: x, y. From version 0.12, the only valid positional argument will be `data`, and passing other arguments without an explicit keyword will result in an error or misinterpretation.\n"
     ]
    },
    {
     "data": {
      "text/plain": [
       "<matplotlib.collections.PolyCollection at 0x7fc8e709d070>"
      ]
     },
     "execution_count": 173,
     "metadata": {},
     "output_type": "execute_result"
    },
    {
     "data": {
      "image/png": "[encoded data removed]",
      "text/plain": [
       "<Figure size 432x288 with 1 Axes>"
      ]
     },
     "metadata": {
      "needs_background": "light"
     },
     "output_type": "display_data"
    }
   ],
   "source": [
    "# let's try a model with a quadratic term\n",
    "model2 = smf.ols(formula='count ~ 1 + tmax + I(tmax**2)', data=crimes).fit()\n",
    "sns.scatterplot(x='tmax', y='count', data=crimes)\n",
    "sns.lineplot(crimes['tmax'], model2.predict(crimes), color='red')\n",
    "\n",
    "# plot the confidence interval\n",
    "CI = model2.get_prediction().summary_frame(alpha=0.05)\n",
    "CI = CI.merge(crimes, left_index=True, right_index=True).sort_values('tmax')\n",
    "plt.fill_between(CI['tmax'], CI['mean_ci_lower'], CI['mean_ci_upper'], color='red', alpha=0.2)"
   ]
  },
  {
   "cell_type": "code",
   "execution_count": 174,
   "metadata": {},
   "outputs": [
    {
     "name": "stderr",
     "output_type": "stream",
     "text": [
      "FutureWarning: Pass the following variables as keyword args: x, y. From version 0.12, the only valid positional argument will be `data`, and passing other arguments without an explicit keyword will result in an error or misinterpretation.\n"
     ]
    },
    {
     "data": {
      "text/plain": [
       "<matplotlib.collections.PolyCollection at 0x7fc87bc17a30>"
      ]
     },
     "execution_count": 174,
     "metadata": {},
     "output_type": "execute_result"
    },
    {
     "data": {
      "image/png": "[encoded data removed]",
      "text/plain": [
       "<Figure size 432x288 with 1 Axes>"
      ]
     },
     "metadata": {
      "needs_background": "light"
     },
     "output_type": "display_data"
    }
   ],
   "source": [
    "# ...why not keep going?\n",
    "model3 = smf.ols(formula='count ~ 1 + tmax + I(tmax**2) + I(tmax**3)', data=crimes).fit()\n",
    "model4 = smf.ols(formula='count ~ 1 + tmax + I(tmax**2) + I(tmax**3) + I(tmax**4)', data=crimes).fit()\n",
    "model5 = smf.ols(formula='count ~ 1 + tmax + I(tmax**2) + I(tmax**3) + I(tmax**4) + I(tmax**5)', data=crimes).fit()\n",
    "model = model3\n",
    "\n",
    "sns.scatterplot(x='tmax', y='count', data=crimes)\n",
    "sns.lineplot(crimes['tmax'], model.predict(crimes), color='red')\n",
    "\n",
    "# plot the confidence interval\n",
    "CI = model.get_prediction().summary_frame(alpha=0.05)\n",
    "CI = CI.merge(crimes, left_index=True, right_index=True).sort_values('tmax')\n",
    "plt.fill_between(CI['tmax'], CI['mean_ci_lower'], CI['mean_ci_upper'], color='red', alpha=0.2)"
   ]
  },
  {
   "attachments": {},
   "cell_type": "markdown",
   "metadata": {},
   "source": [
    "# Model evaluation\n",
    "\n",
    "many metrics to tell if a model is good!\n",
    "* mse, rmse\n",
    "* r squared, adjusted r squared\n",
    "* AIC, BIC\n",
    "* ..."
   ]
  },
  {
   "attachments": {},
   "cell_type": "markdown",
   "metadata": {},
   "source": [
    "# rmse\n",
    "\n",
    "* mean square error -> this is what OLS minimizes!\n",
    "* root mean square error (rmse)"
   ]
  },
  {
   "cell_type": "code",
   "execution_count": 175,
   "metadata": {},
   "outputs": [
    {
     "name": "stdout",
     "output_type": "stream",
     "text": [
      "RMSE:  56.22212772583281\n"
     ]
    }
   ],
   "source": [
    "def mean_squared_error(y_true, y_pred):\n",
    "    return np.mean((y_true - y_pred)**2)\n",
    "\n",
    "def rmse(y_true, y_pred):\n",
    "    return np.sqrt(mean_squared_error(y_true, y_pred))\n",
    "\n",
    "print('RMSE: ', rmse(crimes['count'], model.predict(crimes)))"
   ]
  },
  {
   "cell_type": "code",
   "execution_count": 176,
   "metadata": {},
   "outputs": [
    {
     "name": "stdout",
     "output_type": "stream",
     "text": [
      "order1 RMSE:  56.86312244668021\n",
      "order2 RMSE:  56.22412195615591\n",
      "order3 RMSE:  56.22212772583281\n",
      "order4 RMSE:  55.75513364998659\n",
      "order5 RMSE:  55.48793313703825\n"
     ]
    }
   ],
   "source": [
    "models = dict(zip([\"order\"+str(i) for i in range(1,6)], [model1, model2, model3, model4, model5]))\n",
    "for name, model in models.items():\n",
    "    print(name, \"RMSE: \", rmse(crimes['count'], model.predict(crimes)))"
   ]
  },
  {
   "cell_type": "code",
   "execution_count": 177,
   "metadata": {},
   "outputs": [
    {
     "data": {
      "text/plain": [
       "55.94842180572003"
      ]
     },
     "execution_count": 177,
     "metadata": {},
     "output_type": "execute_result"
    }
   ],
   "source": [
    "# statsmodels has a function to compute this, normalizing by the *residual* degrees of freedom (n - p - 1) instead of by n\n",
    "# so it's close to the RMSE, but not quite the same\n",
    "np.sqrt(model.mse_resid)"
   ]
  },
  {
   "attachments": {},
   "cell_type": "markdown",
   "metadata": {},
   "source": [
    "# R squared\n",
    "\n",
    "* the fraction of the variance in the output that can be attributed to a linear relationship with the input features"
   ]
  },
  {
   "cell_type": "code",
   "execution_count": 178,
   "metadata": {},
   "outputs": [
    {
     "data": {
      "text/plain": [
       "<AxesSubplot:xlabel='count'>"
      ]
     },
     "execution_count": 178,
     "metadata": {},
     "output_type": "execute_result"
    },
    {
     "data": {
      "image/png": "[encoded data removed]",
      "text/plain": [
       "<Figure size 432x288 with 1 Axes>"
      ]
     },
     "metadata": {
      "needs_background": "light"
     },
     "output_type": "display_data"
    }
   ],
   "source": [
    "model = smf.ols(formula='count ~ tmax', data=crimes).fit()\n",
    "\n",
    "y = crimes['count']\n",
    "yhat = model.predict(crimes)\n",
    "ybar = np.mean(y)*np.ones(len(y))\n",
    "\n",
    "sns.scatterplot(x=y, y=yhat)\n",
    "sns.lineplot(x=y, y=ybar, color='red')"
   ]
  },
  {
   "cell_type": "code",
   "execution_count": 179,
   "metadata": {},
   "outputs": [
    {
     "name": "stdout",
     "output_type": "stream",
     "text": [
      "51.25% of the variance in mpg can be attributed to a linear relationship between crime and temperature\n"
     ]
    }
   ],
   "source": [
    "SSR = np.sum((y-yhat)**2) # residual sum of squares\n",
    "SST = np.sum((y-ybar)**2) # total sum of squares\n",
    "R2 = 1 - SRR/SST\n",
    "print(\"{:.2f}% of the variance in mpg can be attributed to a linear relationship between crime and temperature\".format(R2*100))"
   ]
  },
  {
   "cell_type": "code",
   "execution_count": 180,
   "metadata": {},
   "outputs": [
    {
     "data": {
      "text/plain": [
       "0.49685152440403124"
      ]
     },
     "execution_count": 180,
     "metadata": {},
     "output_type": "execute_result"
    }
   ],
   "source": [
    "# compare to the R2 computed by statsmodels \n",
    "model.rsquared"
   ]
  },
  {
   "cell_type": "code",
   "execution_count": 181,
   "metadata": {},
   "outputs": [
    {
     "data": {
      "text/plain": [
       "0.4968515244040315"
      ]
     },
     "execution_count": 181,
     "metadata": {},
     "output_type": "execute_result"
    }
   ],
   "source": [
    "# R2 is also equal to the square of the correlation between y and yhat\n",
    "np.corrcoef(y, yhat)[0,1]**2"
   ]
  },
  {
   "attachments": {},
   "cell_type": "markdown",
   "metadata": {},
   "source": [
    "# Many other statistics computed by default in statsmodels!\n",
    "\n",
    " * F statistic: tests the hypothesis that $\\beta_1=\\beta_2=\\ldots=\\beta_p=0$\n",
    "    * i.e., that output is NOT related to ANY of the inputs\n",
    "    * often it is obvious that this hypothesis is false\n",
    "    * used occasionally for more sophisticated procedures built on top of linear regression."
   ]
  },
  {
   "cell_type": "code",
   "execution_count": 182,
   "metadata": {},
   "outputs": [
    {
     "data": {
      "text/html": [
       "<table class=\"simpletable\">\n",
       "<caption>OLS Regression Results</caption>\n",
       "<tr>\n",
       "  <th>Dep. Variable:</th>          <td>count</td>      <th>  R-squared:         </th> <td>   0.497</td>\n",
       "</tr>\n",
       "<tr>\n",
       "  <th>Model:</th>                   <td>OLS</td>       <th>  Adj. R-squared:    </th> <td>   0.495</td>\n",
       "</tr>\n",
       "<tr>\n",
       "  <th>Method:</th>             <td>Least Squares</td>  <th>  F-statistic:       </th> <td>   359.4</td>\n",
       "</tr>\n",
       "<tr>\n",
       "  <th>Date:</th>             <td>Mon, 20 Mar 2023</td> <th>  Prob (F-statistic):</th> <td>3.02e-56</td>\n",
       "</tr>\n",
       "<tr>\n",
       "  <th>Time:</th>                 <td>11:54:22</td>     <th>  Log-Likelihood:    </th> <td> -1998.2</td>\n",
       "</tr>\n",
       "<tr>\n",
       "  <th>No. Observations:</th>      <td>   366</td>      <th>  AIC:               </th> <td>   4000.</td>\n",
       "</tr>\n",
       "<tr>\n",
       "  <th>Df Residuals:</th>          <td>   364</td>      <th>  BIC:               </th> <td>   4008.</td>\n",
       "</tr>\n",
       "<tr>\n",
       "  <th>Df Model:</th>              <td>     1</td>      <th>                     </th>     <td> </td>   \n",
       "</tr>\n",
       "<tr>\n",
       "  <th>Covariance Type:</th>      <td>nonrobust</td>    <th>                     </th>     <td> </td>   \n",
       "</tr>\n",
       "</table>\n",
       "<table class=\"simpletable\">\n",
       "<tr>\n",
       "      <td></td>         <th>coef</th>     <th>std err</th>      <th>t</th>      <th>P>|t|</th>  <th>[0.025</th>    <th>0.975]</th>  \n",
       "</tr>\n",
       "<tr>\n",
       "  <th>Intercept</th> <td>  631.6894</td> <td>    5.342</td> <td>  118.252</td> <td> 0.000</td> <td>  621.184</td> <td>  642.194</td>\n",
       "</tr>\n",
       "<tr>\n",
       "  <th>tmax</th>      <td>    4.8214</td> <td>    0.254</td> <td>   18.959</td> <td> 0.000</td> <td>    4.321</td> <td>    5.321</td>\n",
       "</tr>\n",
       "</table>\n",
       "<table class=\"simpletable\">\n",
       "<tr>\n",
       "  <th>Omnibus:</th>       <td>136.493</td> <th>  Durbin-Watson:     </th> <td>   1.550</td> \n",
       "</tr>\n",
       "<tr>\n",
       "  <th>Prob(Omnibus):</th> <td> 0.000</td>  <th>  Jarque-Bera (JB):  </th> <td>1204.414</td> \n",
       "</tr>\n",
       "<tr>\n",
       "  <th>Skew:</th>          <td> 1.307</td>  <th>  Prob(JB):          </th> <td>2.92e-262</td>\n",
       "</tr>\n",
       "<tr>\n",
       "  <th>Kurtosis:</th>      <td>11.494</td>  <th>  Cond. No.          </th> <td>    37.7</td> \n",
       "</tr>\n",
       "</table><br/><br/>Notes:<br/>[1] Standard Errors assume that the covariance matrix of the errors is correctly specified."
      ],
      "text/plain": [
       "<class 'statsmodels.iolib.summary.Summary'>\n",
       "\"\"\"\n",
       "                            OLS Regression Results                            \n",
       "==============================================================================\n",
       "Dep. Variable:                  count   R-squared:                       0.497\n",
       "Model:                            OLS   Adj. R-squared:                  0.495\n",
       "Method:                 Least Squares   F-statistic:                     359.4\n",
       "Date:                Mon, 20 Mar 2023   Prob (F-statistic):           3.02e-56\n",
       "Time:                        11:54:22   Log-Likelihood:                -1998.2\n",
       "No. Observations:                 366   AIC:                             4000.\n",
       "Df Residuals:                     364   BIC:                             4008.\n",
       "Df Model:                           1                                         \n",
       "Covariance Type:            nonrobust                                         \n",
       "==============================================================================\n",
       "                 coef    std err          t      P>|t|      [0.025      0.975]\n",
       "------------------------------------------------------------------------------\n",
       "Intercept    631.6894      5.342    118.252      0.000     621.184     642.194\n",
       "tmax           4.8214      0.254     18.959      0.000       4.321       5.321\n",
       "==============================================================================\n",
       "Omnibus:                      136.493   Durbin-Watson:                   1.550\n",
       "Prob(Omnibus):                  0.000   Jarque-Bera (JB):             1204.414\n",
       "Skew:                           1.307   Prob(JB):                    2.92e-262\n",
       "Kurtosis:                      11.494   Cond. No.                         37.7\n",
       "==============================================================================\n",
       "\n",
       "Notes:\n",
       "[1] Standard Errors assume that the covariance matrix of the errors is correctly specified.\n",
       "\"\"\""
      ]
     },
     "execution_count": 182,
     "metadata": {},
     "output_type": "execute_result"
    }
   ],
   "source": [
    "model.summary()"
   ]
  },
  {
   "cell_type": "code",
   "execution_count": 183,
   "metadata": {},
   "outputs": [
    {
     "data": {
      "text/html": [
       "<div>\n",
       "<style scoped>\n",
       "    .dataframe tbody tr th:only-of-type {\n",
       "        vertical-align: middle;\n",
       "    }\n",
       "\n",
       "    .dataframe tbody tr th {\n",
       "        vertical-align: top;\n",
       "    }\n",
       "\n",
       "    .dataframe thead th {\n",
       "        text-align: right;\n",
       "    }\n",
       "</style>\n",
       "<table border=\"1\" class=\"dataframe\">\n",
       "  <thead>\n",
       "    <tr style=\"text-align: right;\">\n",
       "      <th></th>\n",
       "      <th>df_resid</th>\n",
       "      <th>ssr</th>\n",
       "      <th>df_diff</th>\n",
       "      <th>ss_diff</th>\n",
       "      <th>F</th>\n",
       "      <th>Pr(&gt;F)</th>\n",
       "    </tr>\n",
       "  </thead>\n",
       "  <tbody>\n",
       "    <tr>\n",
       "      <th>0</th>\n",
       "      <td>364.0</td>\n",
       "      <td>1.183430e+06</td>\n",
       "      <td>0.0</td>\n",
       "      <td>NaN</td>\n",
       "      <td>NaN</td>\n",
       "      <td>NaN</td>\n",
       "    </tr>\n",
       "    <tr>\n",
       "      <th>1</th>\n",
       "      <td>363.0</td>\n",
       "      <td>1.156982e+06</td>\n",
       "      <td>1.0</td>\n",
       "      <td>26448.186500</td>\n",
       "      <td>8.449290</td>\n",
       "      <td>0.003876</td>\n",
       "    </tr>\n",
       "    <tr>\n",
       "      <th>2</th>\n",
       "      <td>362.0</td>\n",
       "      <td>1.156900e+06</td>\n",
       "      <td>1.0</td>\n",
       "      <td>82.073202</td>\n",
       "      <td>0.026220</td>\n",
       "      <td>0.871456</td>\n",
       "    </tr>\n",
       "    <tr>\n",
       "      <th>3</th>\n",
       "      <td>361.0</td>\n",
       "      <td>1.137760e+06</td>\n",
       "      <td>1.0</td>\n",
       "      <td>19139.134675</td>\n",
       "      <td>6.114298</td>\n",
       "      <td>0.013869</td>\n",
       "    </tr>\n",
       "    <tr>\n",
       "      <th>4</th>\n",
       "      <td>360.0</td>\n",
       "      <td>1.126881e+06</td>\n",
       "      <td>1.0</td>\n",
       "      <td>10879.058850</td>\n",
       "      <td>3.475487</td>\n",
       "      <td>0.063098</td>\n",
       "    </tr>\n",
       "  </tbody>\n",
       "</table>\n",
       "</div>"
      ],
      "text/plain": [
       "   df_resid           ssr  df_diff       ss_diff         F    Pr(>F)\n",
       "0     364.0  1.183430e+06      0.0           NaN       NaN       NaN\n",
       "1     363.0  1.156982e+06      1.0  26448.186500  8.449290  0.003876\n",
       "2     362.0  1.156900e+06      1.0     82.073202  0.026220  0.871456\n",
       "3     361.0  1.137760e+06      1.0  19139.134675  6.114298  0.013869\n",
       "4     360.0  1.126881e+06      1.0  10879.058850  3.475487  0.063098"
      ]
     },
     "execution_count": 183,
     "metadata": {},
     "output_type": "execute_result"
    }
   ],
   "source": [
    "# statsmodels has a function to compare models\n",
    "sm.stats.anova_lm(model1, model2, model3, model4, model5)"
   ]
  },
  {
   "attachments": {},
   "cell_type": "markdown",
   "metadata": {},
   "source": [
    "# Poll: should we keep going?\n",
    "\n",
    "residual sum of squares keeps going down! how can we tell when to stop adding features?\n",
    "\n",
    "* A) the more features, the better!\n",
    "* B) stop when the r squared starts to decrease\n",
    "* C) stop after adding sqrt(n) features\n",
    "* D) stop when the rmse starts to decrease\n",
    "* E) stop when the model starts to get worse on data it wasn't trained on"
   ]
  },
  {
   "attachments": {},
   "cell_type": "markdown",
   "metadata": {},
   "source": [
    "# What about performance on new data?"
   ]
  },
  {
   "cell_type": "code",
   "execution_count": 184,
   "metadata": {},
   "outputs": [
    {
     "name": "stderr",
     "output_type": "stream",
     "text": [
      "FutureWarning: Pass the following variables as keyword args: x, y. From version 0.12, the only valid positional argument will be `data`, and passing other arguments without an explicit keyword will result in an error or misinterpretation.\n"
     ]
    },
    {
     "data": {
      "text/plain": [
       "55.48793313703825"
      ]
     },
     "execution_count": 184,
     "metadata": {},
     "output_type": "execute_result"
    },
    {
     "data": {
      "image/png": "[encoded data removed]",
      "text/plain": [
       "<Figure size 432x288 with 1 Axes>"
      ]
     },
     "metadata": {
      "needs_background": "light"
     },
     "output_type": "display_data"
    }
   ],
   "source": [
    "# plot performance on all data from 2016\n",
    "model = model5\n",
    "sns.scatterplot(x='tmax', y='count', data=crimes_2016)\n",
    "sns.lineplot(crimes_2016['tmax'], model.predict(crimes_2016), color='red')\n",
    "rmse(model.predict(crimes_2016), crimes_2016['count'])"
   ]
  },
  {
   "cell_type": "code",
   "execution_count": 185,
   "metadata": {},
   "outputs": [],
   "source": [
    "# generate models for all polynomial degrees up to 9\n",
    "max_degree = 9\n",
    "models = [smf.ols(formula='count ~ 1 + tmax + I(tmax**{})'.format(i), data=crimes).fit() for i in range(2, max_degree+1)]\n",
    "models.insert(0, smf.ols(formula='count ~ 1 + tmax', data=crimes).fit())\n",
    "\n",
    "models = dict(zip([\"order\"+str(i) for i in range(1,max_degree+1)], models))"
   ]
  },
  {
   "cell_type": "code",
   "execution_count": 186,
   "metadata": {},
   "outputs": [
    {
     "data": {
      "text/html": [
       "<div>\n",
       "<style scoped>\n",
       "    .dataframe tbody tr th:only-of-type {\n",
       "        vertical-align: middle;\n",
       "    }\n",
       "\n",
       "    .dataframe tbody tr th {\n",
       "        vertical-align: top;\n",
       "    }\n",
       "\n",
       "    .dataframe thead th {\n",
       "        text-align: right;\n",
       "    }\n",
       "</style>\n",
       "<table border=\"1\" class=\"dataframe\">\n",
       "  <thead>\n",
       "    <tr style=\"text-align: right;\">\n",
       "      <th></th>\n",
       "      <th>2016</th>\n",
       "      <th>2017</th>\n",
       "      <th>2018</th>\n",
       "    </tr>\n",
       "    <tr>\n",
       "      <th>name</th>\n",
       "      <th></th>\n",
       "      <th></th>\n",
       "      <th></th>\n",
       "    </tr>\n",
       "  </thead>\n",
       "  <tbody>\n",
       "    <tr>\n",
       "      <th>order1</th>\n",
       "      <td>56.863122</td>\n",
       "      <td>59.294431</td>\n",
       "      <td>56.356590</td>\n",
       "    </tr>\n",
       "    <tr>\n",
       "      <th>order2</th>\n",
       "      <td>56.224122</td>\n",
       "      <td>58.949233</td>\n",
       "      <td>57.680577</td>\n",
       "    </tr>\n",
       "    <tr>\n",
       "      <th>order3</th>\n",
       "      <td>56.256826</td>\n",
       "      <td>59.321086</td>\n",
       "      <td>57.431126</td>\n",
       "    </tr>\n",
       "    <tr>\n",
       "      <th>order4</th>\n",
       "      <td>56.204260</td>\n",
       "      <td>59.466972</td>\n",
       "      <td>57.687035</td>\n",
       "    </tr>\n",
       "    <tr>\n",
       "      <th>order5</th>\n",
       "      <td>56.157468</td>\n",
       "      <td>59.571372</td>\n",
       "      <td>57.806359</td>\n",
       "    </tr>\n",
       "    <tr>\n",
       "      <th>order6</th>\n",
       "      <td>56.110769</td>\n",
       "      <td>59.628705</td>\n",
       "      <td>58.002017</td>\n",
       "    </tr>\n",
       "    <tr>\n",
       "      <th>order7</th>\n",
       "      <td>56.073609</td>\n",
       "      <td>59.663224</td>\n",
       "      <td>58.174253</td>\n",
       "    </tr>\n",
       "    <tr>\n",
       "      <th>order8</th>\n",
       "      <td>56.045402</td>\n",
       "      <td>59.679608</td>\n",
       "      <td>58.363834</td>\n",
       "    </tr>\n",
       "    <tr>\n",
       "      <th>order9</th>\n",
       "      <td>56.026310</td>\n",
       "      <td>59.684030</td>\n",
       "      <td>58.540243</td>\n",
       "    </tr>\n",
       "  </tbody>\n",
       "</table>\n",
       "</div>"
      ],
      "text/plain": [
       "             2016       2017       2018\n",
       "name                                   \n",
       "order1  56.863122  59.294431  56.356590\n",
       "order2  56.224122  58.949233  57.680577\n",
       "order3  56.256826  59.321086  57.431126\n",
       "order4  56.204260  59.466972  57.687035\n",
       "order5  56.157468  59.571372  57.806359\n",
       "order6  56.110769  59.628705  58.002017\n",
       "order7  56.073609  59.663224  58.174253\n",
       "order8  56.045402  59.679608  58.363834\n",
       "order9  56.026310  59.684030  58.540243"
      ]
     },
     "execution_count": 186,
     "metadata": {},
     "output_type": "execute_result"
    }
   ],
   "source": [
    "# let's look at how the models perform on data from other years\n",
    "years = [2016, 2017, 2018]\n",
    "data = [crimes_2016, crimes_2017, crimes_2018]\n",
    "rmses = {}\n",
    "for iyear in range(len(years)):\n",
    "    year = years[iyear]\n",
    "    icrimes = data[iyear]\n",
    "    rmses[year] = [rmse(model.predict(icrimes), icrimes['count']) for model in models.values()]\n",
    "rmses['name'] = models.keys()\n",
    "rmses = pd.DataFrame(rmses)\n",
    "rmses.set_index('name', inplace=True)\n",
    "rmses"
   ]
  },
  {
   "cell_type": "code",
   "execution_count": 187,
   "metadata": {},
   "outputs": [
    {
     "data": {
      "text/plain": [
       "<AxesSubplot:xlabel='name'>"
      ]
     },
     "execution_count": 187,
     "metadata": {},
     "output_type": "execute_result"
    },
    {
     "data": {
      "image/png": "[encoded data removed]",
      "text/plain": [
       "<Figure size 432x288 with 1 Axes>"
      ]
     },
     "metadata": {
      "needs_background": "light"
     },
     "output_type": "display_data"
    }
   ],
   "source": [
    "sns.lineplot(data=rmses)"
   ]
  },
  {
   "attachments": {},
   "cell_type": "markdown",
   "metadata": {},
   "source": [
    "look at performance when we train on subsample of data vs on all data from 2016\n",
    "\n",
    "we see that the high order polynomial models overfit!\n",
    "* performance on 2016 (the year we trained on) improves with higher model orders\n",
    "* performance on 2017 and 2018 data is decent for linear or quadratic models, but worsens with additional higher order terms"
   ]
  },
  {
   "attachments": {},
   "cell_type": "markdown",
   "metadata": {},
   "source": [
    "# Binary predictors\n",
    "\n",
    "maybe snow also affects crime rates? let's consider whether adding an indicator for snow improves our prediction."
   ]
  },
  {
   "cell_type": "code",
   "execution_count": 219,
   "metadata": {},
   "outputs": [
    {
     "data": {
      "text/html": [
       "<div>\n",
       "<style scoped>\n",
       "    .dataframe tbody tr th:only-of-type {\n",
       "        vertical-align: middle;\n",
       "    }\n",
       "\n",
       "    .dataframe tbody tr th {\n",
       "        vertical-align: top;\n",
       "    }\n",
       "\n",
       "    .dataframe thead th {\n",
       "        text-align: right;\n",
       "    }\n",
       "</style>\n",
       "<table border=\"1\" class=\"dataframe\">\n",
       "  <thead>\n",
       "    <tr style=\"text-align: right;\">\n",
       "      <th></th>\n",
       "      <th>Month</th>\n",
       "      <th>Day</th>\n",
       "      <th>Year</th>\n",
       "      <th>count</th>\n",
       "      <th>date</th>\n",
       "      <th>tavg</th>\n",
       "      <th>tmin</th>\n",
       "      <th>tmax</th>\n",
       "      <th>prcp</th>\n",
       "      <th>snow</th>\n",
       "      <th>wdir</th>\n",
       "      <th>wspd</th>\n",
       "      <th>wpgt</th>\n",
       "      <th>pres</th>\n",
       "      <th>tsun</th>\n",
       "      <th>dayofweek</th>\n",
       "      <th>snow_indicator</th>\n",
       "    </tr>\n",
       "  </thead>\n",
       "  <tbody>\n",
       "    <tr>\n",
       "      <th>0</th>\n",
       "      <td>1</td>\n",
       "      <td>1</td>\n",
       "      <td>2016</td>\n",
       "      <td>1051</td>\n",
       "      <td>2016-01-01</td>\n",
       "      <td>-2.4</td>\n",
       "      <td>-6.0</td>\n",
       "      <td>0.1</td>\n",
       "      <td>0.0</td>\n",
       "      <td>51.0</td>\n",
       "      <td>247.0</td>\n",
       "      <td>23.8</td>\n",
       "      <td>NaN</td>\n",
       "      <td>1023.1</td>\n",
       "      <td>NaN</td>\n",
       "      <td>4</td>\n",
       "      <td>True</td>\n",
       "    </tr>\n",
       "    <tr>\n",
       "      <th>3</th>\n",
       "      <td>1</td>\n",
       "      <td>2</td>\n",
       "      <td>2016</td>\n",
       "      <td>565</td>\n",
       "      <td>2016-01-02</td>\n",
       "      <td>-1.1</td>\n",
       "      <td>-4.9</td>\n",
       "      <td>1.3</td>\n",
       "      <td>0.0</td>\n",
       "      <td>51.0</td>\n",
       "      <td>249.0</td>\n",
       "      <td>18.8</td>\n",
       "      <td>NaN</td>\n",
       "      <td>1018.9</td>\n",
       "      <td>NaN</td>\n",
       "      <td>5</td>\n",
       "      <td>True</td>\n",
       "    </tr>\n",
       "    <tr>\n",
       "      <th>6</th>\n",
       "      <td>1</td>\n",
       "      <td>3</td>\n",
       "      <td>2016</td>\n",
       "      <td>606</td>\n",
       "      <td>2016-01-03</td>\n",
       "      <td>-1.4</td>\n",
       "      <td>-3.7</td>\n",
       "      <td>0.1</td>\n",
       "      <td>0.0</td>\n",
       "      <td>51.0</td>\n",
       "      <td>314.0</td>\n",
       "      <td>18.8</td>\n",
       "      <td>NaN</td>\n",
       "      <td>1021.6</td>\n",
       "      <td>NaN</td>\n",
       "      <td>6</td>\n",
       "      <td>True</td>\n",
       "    </tr>\n",
       "    <tr>\n",
       "      <th>9</th>\n",
       "      <td>1</td>\n",
       "      <td>4</td>\n",
       "      <td>2016</td>\n",
       "      <td>616</td>\n",
       "      <td>2016-01-04</td>\n",
       "      <td>-1.1</td>\n",
       "      <td>-3.2</td>\n",
       "      <td>0.7</td>\n",
       "      <td>0.0</td>\n",
       "      <td>51.0</td>\n",
       "      <td>4.0</td>\n",
       "      <td>18.1</td>\n",
       "      <td>NaN</td>\n",
       "      <td>1031.7</td>\n",
       "      <td>NaN</td>\n",
       "      <td>0</td>\n",
       "      <td>True</td>\n",
       "    </tr>\n",
       "    <tr>\n",
       "      <th>12</th>\n",
       "      <td>1</td>\n",
       "      <td>5</td>\n",
       "      <td>2016</td>\n",
       "      <td>612</td>\n",
       "      <td>2016-01-05</td>\n",
       "      <td>-1.7</td>\n",
       "      <td>-5.4</td>\n",
       "      <td>1.8</td>\n",
       "      <td>0.0</td>\n",
       "      <td>25.0</td>\n",
       "      <td>177.0</td>\n",
       "      <td>15.3</td>\n",
       "      <td>NaN</td>\n",
       "      <td>1033.4</td>\n",
       "      <td>NaN</td>\n",
       "      <td>1</td>\n",
       "      <td>True</td>\n",
       "    </tr>\n",
       "  </tbody>\n",
       "</table>\n",
       "</div>"
      ],
      "text/plain": [
       "    Month  Day  Year  count       date  tavg  tmin  tmax  prcp  snow   wdir  \\\n",
       "0       1    1  2016   1051 2016-01-01  -2.4  -6.0   0.1   0.0  51.0  247.0   \n",
       "3       1    2  2016    565 2016-01-02  -1.1  -4.9   1.3   0.0  51.0  249.0   \n",
       "6       1    3  2016    606 2016-01-03  -1.4  -3.7   0.1   0.0  51.0  314.0   \n",
       "9       1    4  2016    616 2016-01-04  -1.1  -3.2   0.7   0.0  51.0    4.0   \n",
       "12      1    5  2016    612 2016-01-05  -1.7  -5.4   1.8   0.0  25.0  177.0   \n",
       "\n",
       "    wspd  wpgt    pres  tsun  dayofweek  snow_indicator  \n",
       "0   23.8   NaN  1023.1   NaN          4            True  \n",
       "3   18.8   NaN  1018.9   NaN          5            True  \n",
       "6   18.8   NaN  1021.6   NaN          6            True  \n",
       "9   18.1   NaN  1031.7   NaN          0            True  \n",
       "12  15.3   NaN  1033.4   NaN          1            True  "
      ]
     },
     "execution_count": 219,
     "metadata": {},
     "output_type": "execute_result"
    }
   ],
   "source": [
    "crimes['snow_indicator'] = crimes['snow'] > 0\n",
    "crimes.head()"
   ]
  },
  {
   "cell_type": "code",
   "execution_count": 238,
   "metadata": {},
   "outputs": [
    {
     "data": {
      "text/plain": [
       "<AxesSubplot:xlabel='tmax', ylabel='count'>"
      ]
     },
     "execution_count": 238,
     "metadata": {},
     "output_type": "execute_result"
    },
    {
     "data": {
      "image/png": "[encoded data removed]",
      "text/plain": [
       "<Figure size 432x288 with 1 Axes>"
      ]
     },
     "metadata": {
      "needs_background": "light"
     },
     "output_type": "display_data"
    }
   ],
   "source": [
    "# plot the data as a function of temperature, with different colors for snow and no snow\n",
    "sns.scatterplot(x='tmax', y='count', hue='snow_indicator', data=crimes)"
   ]
  },
  {
   "cell_type": "code",
   "execution_count": 247,
   "metadata": {},
   "outputs": [
    {
     "data": {
      "text/plain": [
       "56.14297859217241"
      ]
     },
     "execution_count": 247,
     "metadata": {},
     "output_type": "execute_result"
    }
   ],
   "source": [
    "# fit an ols model using temperature and an indicator for snow\n",
    "model = smf.ols(formula='count ~ 1 + tmax + snow_indicator', data=crimes).fit()\n",
    "models['temp+snow'] = model\n",
    "rmse(model.predict(crimes), crimes['count'])"
   ]
  },
  {
   "cell_type": "code",
   "execution_count": 248,
   "metadata": {},
   "outputs": [
    {
     "data": {
      "text/plain": [
       "Intercept                 644.023966\n",
       "snow_indicator[T.True]    -33.494626\n",
       "tmax                        4.334279\n",
       "dtype: float64"
      ]
     },
     "execution_count": 248,
     "metadata": {},
     "output_type": "execute_result"
    }
   ],
   "source": [
    "model.params"
   ]
  },
  {
   "attachments": {},
   "cell_type": "markdown",
   "metadata": {},
   "source": [
    "# poll: does snow increase or decrease crime rate?\n",
    "\n",
    "* A) increase\n",
    "* B) decrease"
   ]
  },
  {
   "cell_type": "code",
   "execution_count": 252,
   "metadata": {},
   "outputs": [
    {
     "name": "stderr",
     "output_type": "stream",
     "text": [
      "FutureWarning: Pass the following variables as keyword args: x, y. From version 0.12, the only valid positional argument will be `data`, and passing other arguments without an explicit keyword will result in an error or misinterpretation.\n",
      "FutureWarning: Pass the following variables as keyword args: x, y. From version 0.12, the only valid positional argument will be `data`, and passing other arguments without an explicit keyword will result in an error or misinterpretation.\n"
     ]
    },
    {
     "data": {
      "text/plain": [
       "<AxesSubplot:xlabel='tmax', ylabel='count'>"
      ]
     },
     "execution_count": 252,
     "metadata": {},
     "output_type": "execute_result"
    },
    {
     "data": {
      "image/png": "[encoded data removed]",
      "text/plain": [
       "<Figure size 432x288 with 1 Axes>"
      ]
     },
     "metadata": {
      "needs_background": "light"
     },
     "output_type": "display_data"
    }
   ],
   "source": [
    "# plot the data as a function of temperature, with different colors for snow and no snow\n",
    "sns.scatterplot(x='tmax', y='count', hue='snow_indicator', data=crimes)\n",
    "\n",
    "# plot line for no snow\n",
    "sns.lineplot(crimes['tmax'], model.params[0] + model.params[2]*crimes['tmax'], color='blue', label='no snow')\n",
    "\n",
    "# plot line for snow\n",
    "sns.lineplot(crimes['tmax'], model.params[0] + model.params[1] + model.params[2]*crimes['tmax'], color='orange', label='snow')"
   ]
  },
  {
   "cell_type": "code",
   "execution_count": 254,
   "metadata": {},
   "outputs": [
    {
     "name": "stderr",
     "output_type": "stream",
     "text": [
      "FutureWarning: Pass the following variables as keyword args: x, y. From version 0.12, the only valid positional argument will be `data`, and passing other arguments without an explicit keyword will result in an error or misinterpretation.\n",
      "FutureWarning: Pass the following variables as keyword args: x, y. From version 0.12, the only valid positional argument will be `data`, and passing other arguments without an explicit keyword will result in an error or misinterpretation.\n"
     ]
    },
    {
     "data": {
      "text/plain": [
       "<AxesSubplot:xlabel='tmax', ylabel='count'>"
      ]
     },
     "execution_count": 254,
     "metadata": {},
     "output_type": "execute_result"
    },
    {
     "data": {
      "image/png": "[encoded data removed]",
      "text/plain": [
       "<Figure size 432x288 with 1 Axes>"
      ]
     },
     "metadata": {
      "needs_background": "light"
     },
     "output_type": "display_data"
    }
   ],
   "source": [
    "# compare to separate models for snow and no snow, which fits different slopes for each\n",
    "model_snow = smf.ols(formula='count ~ 1 + tmax', data=crimes[crimes['snow_indicator']]).fit()\n",
    "model_nosnow = smf.ols(formula='count ~ 1 + tmax', data=crimes[~crimes['snow_indicator']]).fit()\n",
    "\n",
    "# plot data \n",
    "sns.scatterplot(x='tmax', y='count', hue='snow_indicator', data=crimes)\n",
    "\n",
    "# plot line for no snow\n",
    "sns.lineplot(crimes['tmax'], model_nosnow.params[0] + model_nosnow.params[1]*crimes['tmax'], color='blue', label='no snow')\n",
    "\n",
    "# plot line for snow\n",
    "sns.lineplot(crimes['tmax'], model_snow.params[0] + model_snow.params[1]*crimes['tmax'], color='orange', label='snow')"
   ]
  },
  {
   "cell_type": "code",
   "execution_count": 255,
   "metadata": {},
   "outputs": [
    {
     "name": "stderr",
     "output_type": "stream",
     "text": [
      "FutureWarning: Pass the following variables as keyword args: x, y. From version 0.12, the only valid positional argument will be `data`, and passing other arguments without an explicit keyword will result in an error or misinterpretation.\n",
      "FutureWarning: Pass the following variables as keyword args: x, y. From version 0.12, the only valid positional argument will be `data`, and passing other arguments without an explicit keyword will result in an error or misinterpretation.\n"
     ]
    },
    {
     "data": {
      "text/plain": [
       "<AxesSubplot:xlabel='tmax', ylabel='count'>"
      ]
     },
     "execution_count": 255,
     "metadata": {},
     "output_type": "execute_result"
    },
    {
     "data": {
      "image/png": "[encoded data removed]",
      "text/plain": [
       "<Figure size 432x288 with 1 Axes>"
      ]
     },
     "metadata": {
      "needs_background": "light"
     },
     "output_type": "display_data"
    }
   ],
   "source": [
    "# equivalently, we can fit a model with an interaction term, which allows different slopes for each group\n",
    "model = smf.ols(formula='count ~ 1 + tmax + snow_indicator + tmax*snow_indicator', data=crimes).fit()\n",
    "models['temp+snow+interaction'] = model\n",
    "rmse(model.predict(crimes), crimes['count'])\n",
    "\n",
    "# plot the data as a function of temperature, with different colors for snow and no snow\n",
    "sns.scatterplot(x='tmax', y='count', hue='snow_indicator', data=crimes)\n",
    "\n",
    "# plot line for no snow\n",
    "sns.lineplot(crimes['tmax'], model.params[0] + model.params[2]*crimes['tmax'], color='blue', label='no snow')\n",
    "\n",
    "# plot line for snow\n",
    "sns.lineplot(crimes['tmax'], model.params[0] + model.params[1] + model.params[2]*crimes['tmax'] + model.params[3]*crimes['tmax'], color='orange', label='snow')\n"
   ]
  },
  {
   "attachments": {},
   "cell_type": "markdown",
   "metadata": {},
   "source": [
    "# Categorical predictors"
   ]
  },
  {
   "cell_type": "code",
   "execution_count": 222,
   "metadata": {},
   "outputs": [
    {
     "data": {
      "text/html": [
       "<div>\n",
       "<style scoped>\n",
       "    .dataframe tbody tr th:only-of-type {\n",
       "        vertical-align: middle;\n",
       "    }\n",
       "\n",
       "    .dataframe tbody tr th {\n",
       "        vertical-align: top;\n",
       "    }\n",
       "\n",
       "    .dataframe thead th {\n",
       "        text-align: right;\n",
       "    }\n",
       "</style>\n",
       "<table border=\"1\" class=\"dataframe\">\n",
       "  <thead>\n",
       "    <tr style=\"text-align: right;\">\n",
       "      <th></th>\n",
       "      <th>Month</th>\n",
       "      <th>Day</th>\n",
       "      <th>Year</th>\n",
       "      <th>count</th>\n",
       "      <th>date</th>\n",
       "      <th>tavg</th>\n",
       "      <th>tmin</th>\n",
       "      <th>tmax</th>\n",
       "      <th>prcp</th>\n",
       "      <th>snow</th>\n",
       "      <th>wdir</th>\n",
       "      <th>wspd</th>\n",
       "      <th>wpgt</th>\n",
       "      <th>pres</th>\n",
       "      <th>tsun</th>\n",
       "      <th>dayofweek</th>\n",
       "      <th>snow_indicator</th>\n",
       "    </tr>\n",
       "  </thead>\n",
       "  <tbody>\n",
       "    <tr>\n",
       "      <th>0</th>\n",
       "      <td>1</td>\n",
       "      <td>1</td>\n",
       "      <td>2016</td>\n",
       "      <td>1051</td>\n",
       "      <td>2016-01-01</td>\n",
       "      <td>-2.4</td>\n",
       "      <td>-6.0</td>\n",
       "      <td>0.1</td>\n",
       "      <td>0.0</td>\n",
       "      <td>51.0</td>\n",
       "      <td>247.0</td>\n",
       "      <td>23.8</td>\n",
       "      <td>NaN</td>\n",
       "      <td>1023.1</td>\n",
       "      <td>NaN</td>\n",
       "      <td>4</td>\n",
       "      <td>True</td>\n",
       "    </tr>\n",
       "    <tr>\n",
       "      <th>3</th>\n",
       "      <td>1</td>\n",
       "      <td>2</td>\n",
       "      <td>2016</td>\n",
       "      <td>565</td>\n",
       "      <td>2016-01-02</td>\n",
       "      <td>-1.1</td>\n",
       "      <td>-4.9</td>\n",
       "      <td>1.3</td>\n",
       "      <td>0.0</td>\n",
       "      <td>51.0</td>\n",
       "      <td>249.0</td>\n",
       "      <td>18.8</td>\n",
       "      <td>NaN</td>\n",
       "      <td>1018.9</td>\n",
       "      <td>NaN</td>\n",
       "      <td>5</td>\n",
       "      <td>True</td>\n",
       "    </tr>\n",
       "    <tr>\n",
       "      <th>6</th>\n",
       "      <td>1</td>\n",
       "      <td>3</td>\n",
       "      <td>2016</td>\n",
       "      <td>606</td>\n",
       "      <td>2016-01-03</td>\n",
       "      <td>-1.4</td>\n",
       "      <td>-3.7</td>\n",
       "      <td>0.1</td>\n",
       "      <td>0.0</td>\n",
       "      <td>51.0</td>\n",
       "      <td>314.0</td>\n",
       "      <td>18.8</td>\n",
       "      <td>NaN</td>\n",
       "      <td>1021.6</td>\n",
       "      <td>NaN</td>\n",
       "      <td>6</td>\n",
       "      <td>True</td>\n",
       "    </tr>\n",
       "    <tr>\n",
       "      <th>9</th>\n",
       "      <td>1</td>\n",
       "      <td>4</td>\n",
       "      <td>2016</td>\n",
       "      <td>616</td>\n",
       "      <td>2016-01-04</td>\n",
       "      <td>-1.1</td>\n",
       "      <td>-3.2</td>\n",
       "      <td>0.7</td>\n",
       "      <td>0.0</td>\n",
       "      <td>51.0</td>\n",
       "      <td>4.0</td>\n",
       "      <td>18.1</td>\n",
       "      <td>NaN</td>\n",
       "      <td>1031.7</td>\n",
       "      <td>NaN</td>\n",
       "      <td>0</td>\n",
       "      <td>True</td>\n",
       "    </tr>\n",
       "    <tr>\n",
       "      <th>12</th>\n",
       "      <td>1</td>\n",
       "      <td>5</td>\n",
       "      <td>2016</td>\n",
       "      <td>612</td>\n",
       "      <td>2016-01-05</td>\n",
       "      <td>-1.7</td>\n",
       "      <td>-5.4</td>\n",
       "      <td>1.8</td>\n",
       "      <td>0.0</td>\n",
       "      <td>25.0</td>\n",
       "      <td>177.0</td>\n",
       "      <td>15.3</td>\n",
       "      <td>NaN</td>\n",
       "      <td>1033.4</td>\n",
       "      <td>NaN</td>\n",
       "      <td>1</td>\n",
       "      <td>True</td>\n",
       "    </tr>\n",
       "  </tbody>\n",
       "</table>\n",
       "</div>"
      ],
      "text/plain": [
       "    Month  Day  Year  count       date  tavg  tmin  tmax  prcp  snow   wdir  \\\n",
       "0       1    1  2016   1051 2016-01-01  -2.4  -6.0   0.1   0.0  51.0  247.0   \n",
       "3       1    2  2016    565 2016-01-02  -1.1  -4.9   1.3   0.0  51.0  249.0   \n",
       "6       1    3  2016    606 2016-01-03  -1.4  -3.7   0.1   0.0  51.0  314.0   \n",
       "9       1    4  2016    616 2016-01-04  -1.1  -3.2   0.7   0.0  51.0    4.0   \n",
       "12      1    5  2016    612 2016-01-05  -1.7  -5.4   1.8   0.0  25.0  177.0   \n",
       "\n",
       "    wspd  wpgt    pres  tsun  dayofweek  snow_indicator  \n",
       "0   23.8   NaN  1023.1   NaN          4            True  \n",
       "3   18.8   NaN  1018.9   NaN          5            True  \n",
       "6   18.8   NaN  1021.6   NaN          6            True  \n",
       "9   18.1   NaN  1031.7   NaN          0            True  \n",
       "12  15.3   NaN  1033.4   NaN          1            True  "
      ]
     },
     "execution_count": 222,
     "metadata": {},
     "output_type": "execute_result"
    }
   ],
   "source": [
    "crimes.head()"
   ]
  },
  {
   "cell_type": "code",
   "execution_count": 258,
   "metadata": {},
   "outputs": [
    {
     "data": {
      "text/html": [
       "<div>\n",
       "<style scoped>\n",
       "    .dataframe tbody tr th:only-of-type {\n",
       "        vertical-align: middle;\n",
       "    }\n",
       "\n",
       "    .dataframe tbody tr th {\n",
       "        vertical-align: top;\n",
       "    }\n",
       "\n",
       "    .dataframe thead th {\n",
       "        text-align: right;\n",
       "    }\n",
       "</style>\n",
       "<table border=\"1\" class=\"dataframe\">\n",
       "  <thead>\n",
       "    <tr style=\"text-align: right;\">\n",
       "      <th></th>\n",
       "      <th>Month</th>\n",
       "      <th>Day</th>\n",
       "      <th>Year</th>\n",
       "      <th>count</th>\n",
       "      <th>date</th>\n",
       "      <th>tavg</th>\n",
       "      <th>tmin</th>\n",
       "      <th>tmax</th>\n",
       "      <th>prcp</th>\n",
       "      <th>snow</th>\n",
       "      <th>wdir</th>\n",
       "      <th>wspd</th>\n",
       "      <th>wpgt</th>\n",
       "      <th>pres</th>\n",
       "      <th>tsun</th>\n",
       "      <th>dayofweek</th>\n",
       "      <th>snow_indicator</th>\n",
       "    </tr>\n",
       "  </thead>\n",
       "  <tbody>\n",
       "    <tr>\n",
       "      <th>0</th>\n",
       "      <td>1</td>\n",
       "      <td>1</td>\n",
       "      <td>2016</td>\n",
       "      <td>1051</td>\n",
       "      <td>2016-01-01</td>\n",
       "      <td>-2.4</td>\n",
       "      <td>-6.0</td>\n",
       "      <td>0.1</td>\n",
       "      <td>0.0</td>\n",
       "      <td>51.0</td>\n",
       "      <td>247.0</td>\n",
       "      <td>23.8</td>\n",
       "      <td>NaN</td>\n",
       "      <td>1023.1</td>\n",
       "      <td>NaN</td>\n",
       "      <td>Friday</td>\n",
       "      <td>True</td>\n",
       "    </tr>\n",
       "    <tr>\n",
       "      <th>3</th>\n",
       "      <td>1</td>\n",
       "      <td>2</td>\n",
       "      <td>2016</td>\n",
       "      <td>565</td>\n",
       "      <td>2016-01-02</td>\n",
       "      <td>-1.1</td>\n",
       "      <td>-4.9</td>\n",
       "      <td>1.3</td>\n",
       "      <td>0.0</td>\n",
       "      <td>51.0</td>\n",
       "      <td>249.0</td>\n",
       "      <td>18.8</td>\n",
       "      <td>NaN</td>\n",
       "      <td>1018.9</td>\n",
       "      <td>NaN</td>\n",
       "      <td>Saturday</td>\n",
       "      <td>True</td>\n",
       "    </tr>\n",
       "    <tr>\n",
       "      <th>6</th>\n",
       "      <td>1</td>\n",
       "      <td>3</td>\n",
       "      <td>2016</td>\n",
       "      <td>606</td>\n",
       "      <td>2016-01-03</td>\n",
       "      <td>-1.4</td>\n",
       "      <td>-3.7</td>\n",
       "      <td>0.1</td>\n",
       "      <td>0.0</td>\n",
       "      <td>51.0</td>\n",
       "      <td>314.0</td>\n",
       "      <td>18.8</td>\n",
       "      <td>NaN</td>\n",
       "      <td>1021.6</td>\n",
       "      <td>NaN</td>\n",
       "      <td>Sunday</td>\n",
       "      <td>True</td>\n",
       "    </tr>\n",
       "    <tr>\n",
       "      <th>9</th>\n",
       "      <td>1</td>\n",
       "      <td>4</td>\n",
       "      <td>2016</td>\n",
       "      <td>616</td>\n",
       "      <td>2016-01-04</td>\n",
       "      <td>-1.1</td>\n",
       "      <td>-3.2</td>\n",
       "      <td>0.7</td>\n",
       "      <td>0.0</td>\n",
       "      <td>51.0</td>\n",
       "      <td>4.0</td>\n",
       "      <td>18.1</td>\n",
       "      <td>NaN</td>\n",
       "      <td>1031.7</td>\n",
       "      <td>NaN</td>\n",
       "      <td>Monday</td>\n",
       "      <td>True</td>\n",
       "    </tr>\n",
       "    <tr>\n",
       "      <th>12</th>\n",
       "      <td>1</td>\n",
       "      <td>5</td>\n",
       "      <td>2016</td>\n",
       "      <td>612</td>\n",
       "      <td>2016-01-05</td>\n",
       "      <td>-1.7</td>\n",
       "      <td>-5.4</td>\n",
       "      <td>1.8</td>\n",
       "      <td>0.0</td>\n",
       "      <td>25.0</td>\n",
       "      <td>177.0</td>\n",
       "      <td>15.3</td>\n",
       "      <td>NaN</td>\n",
       "      <td>1033.4</td>\n",
       "      <td>NaN</td>\n",
       "      <td>Tuesday</td>\n",
       "      <td>True</td>\n",
       "    </tr>\n",
       "  </tbody>\n",
       "</table>\n",
       "</div>"
      ],
      "text/plain": [
       "    Month  Day  Year  count       date  tavg  tmin  tmax  prcp  snow   wdir  \\\n",
       "0       1    1  2016   1051 2016-01-01  -2.4  -6.0   0.1   0.0  51.0  247.0   \n",
       "3       1    2  2016    565 2016-01-02  -1.1  -4.9   1.3   0.0  51.0  249.0   \n",
       "6       1    3  2016    606 2016-01-03  -1.4  -3.7   0.1   0.0  51.0  314.0   \n",
       "9       1    4  2016    616 2016-01-04  -1.1  -3.2   0.7   0.0  51.0    4.0   \n",
       "12      1    5  2016    612 2016-01-05  -1.7  -5.4   1.8   0.0  25.0  177.0   \n",
       "\n",
       "    wspd  wpgt    pres  tsun dayofweek  snow_indicator  \n",
       "0   23.8   NaN  1023.1   NaN    Friday            True  \n",
       "3   18.8   NaN  1018.9   NaN  Saturday            True  \n",
       "6   18.8   NaN  1021.6   NaN    Sunday            True  \n",
       "9   18.1   NaN  1031.7   NaN    Monday            True  \n",
       "12  15.3   NaN  1033.4   NaN   Tuesday            True  "
      ]
     },
     "execution_count": 258,
     "metadata": {},
     "output_type": "execute_result"
    }
   ],
   "source": [
    "# let's add a column indicating the day of the week as a categorical variable\n",
    "day_names = ['Monday', 'Tuesday', 'Wednesday', 'Thursday', 'Friday', 'Saturday', 'Sunday']\n",
    "crimes['dayofweek'] = list(map(lambda i: day_names[i], crimes['date'].dt.dayofweek))\n",
    "crimes.head()"
   ]
  },
  {
   "cell_type": "code",
   "execution_count": 259,
   "metadata": {},
   "outputs": [
    {
     "data": {
      "text/plain": [
       "52.63229635407873"
      ]
     },
     "execution_count": 259,
     "metadata": {},
     "output_type": "execute_result"
    }
   ],
   "source": [
    "# let's form an ols model with the day of the week as a categorical variable\n",
    "model = smf.ols(formula='count ~ 1 + tmax + C(dayofweek)', data=crimes).fit()\n",
    "models['temp+day'] = model\n",
    "\n",
    "# compute the rmse on the training data\n",
    "rmse(model.predict(crimes), crimes['count'])"
   ]
  },
  {
   "cell_type": "code",
   "execution_count": 260,
   "metadata": {},
   "outputs": [
    {
     "data": {
      "text/plain": [
       "Intercept                    675.474400\n",
       "C(dayofweek)[T.Monday]       -50.617171\n",
       "C(dayofweek)[T.Saturday]     -34.052959\n",
       "C(dayofweek)[T.Sunday]       -70.190050\n",
       "C(dayofweek)[T.Thursday]     -41.592696\n",
       "C(dayofweek)[T.Tuesday]      -56.931516\n",
       "C(dayofweek)[T.Wednesday]    -61.059783\n",
       "tmax                           4.877752\n",
       "dtype: float64"
      ]
     },
     "execution_count": 260,
     "metadata": {},
     "output_type": "execute_result"
    }
   ],
   "source": [
    "model.params"
   ]
  },
  {
   "attachments": {},
   "cell_type": "markdown",
   "metadata": {},
   "source": [
    "# Poll\n",
    "\n",
    "what happened to Friday?\n",
    "\n",
    "what day has the highest crime rate?\n",
    "\n",
    "what day has the lowest crime rate?"
   ]
  },
  {
   "cell_type": "code",
   "execution_count": 262,
   "metadata": {},
   "outputs": [
    {
     "data": {
      "text/html": [
       "<div>\n",
       "<style scoped>\n",
       "    .dataframe tbody tr th:only-of-type {\n",
       "        vertical-align: middle;\n",
       "    }\n",
       "\n",
       "    .dataframe tbody tr th {\n",
       "        vertical-align: top;\n",
       "    }\n",
       "\n",
       "    .dataframe thead th {\n",
       "        text-align: right;\n",
       "    }\n",
       "</style>\n",
       "<table border=\"1\" class=\"dataframe\">\n",
       "  <thead>\n",
       "    <tr style=\"text-align: right;\">\n",
       "      <th></th>\n",
       "      <th>Intercept</th>\n",
       "      <th>C(dayofweek)[T.Monday]</th>\n",
       "      <th>C(dayofweek)[T.Saturday]</th>\n",
       "      <th>C(dayofweek)[T.Sunday]</th>\n",
       "      <th>C(dayofweek)[T.Thursday]</th>\n",
       "      <th>C(dayofweek)[T.Tuesday]</th>\n",
       "      <th>C(dayofweek)[T.Wednesday]</th>\n",
       "      <th>tmax</th>\n",
       "    </tr>\n",
       "  </thead>\n",
       "  <tbody>\n",
       "    <tr>\n",
       "      <th>0</th>\n",
       "      <td>1.0</td>\n",
       "      <td>0.0</td>\n",
       "      <td>0.0</td>\n",
       "      <td>0.0</td>\n",
       "      <td>0.0</td>\n",
       "      <td>0.0</td>\n",
       "      <td>0.0</td>\n",
       "      <td>0.1</td>\n",
       "    </tr>\n",
       "    <tr>\n",
       "      <th>3</th>\n",
       "      <td>1.0</td>\n",
       "      <td>0.0</td>\n",
       "      <td>1.0</td>\n",
       "      <td>0.0</td>\n",
       "      <td>0.0</td>\n",
       "      <td>0.0</td>\n",
       "      <td>0.0</td>\n",
       "      <td>1.3</td>\n",
       "    </tr>\n",
       "    <tr>\n",
       "      <th>6</th>\n",
       "      <td>1.0</td>\n",
       "      <td>0.0</td>\n",
       "      <td>0.0</td>\n",
       "      <td>1.0</td>\n",
       "      <td>0.0</td>\n",
       "      <td>0.0</td>\n",
       "      <td>0.0</td>\n",
       "      <td>0.1</td>\n",
       "    </tr>\n",
       "    <tr>\n",
       "      <th>9</th>\n",
       "      <td>1.0</td>\n",
       "      <td>1.0</td>\n",
       "      <td>0.0</td>\n",
       "      <td>0.0</td>\n",
       "      <td>0.0</td>\n",
       "      <td>0.0</td>\n",
       "      <td>0.0</td>\n",
       "      <td>0.7</td>\n",
       "    </tr>\n",
       "    <tr>\n",
       "      <th>12</th>\n",
       "      <td>1.0</td>\n",
       "      <td>0.0</td>\n",
       "      <td>0.0</td>\n",
       "      <td>0.0</td>\n",
       "      <td>0.0</td>\n",
       "      <td>1.0</td>\n",
       "      <td>0.0</td>\n",
       "      <td>1.8</td>\n",
       "    </tr>\n",
       "    <tr>\n",
       "      <th>...</th>\n",
       "      <td>...</td>\n",
       "      <td>...</td>\n",
       "      <td>...</td>\n",
       "      <td>...</td>\n",
       "      <td>...</td>\n",
       "      <td>...</td>\n",
       "      <td>...</td>\n",
       "      <td>...</td>\n",
       "    </tr>\n",
       "    <tr>\n",
       "      <th>1081</th>\n",
       "      <td>1.0</td>\n",
       "      <td>0.0</td>\n",
       "      <td>0.0</td>\n",
       "      <td>0.0</td>\n",
       "      <td>0.0</td>\n",
       "      <td>1.0</td>\n",
       "      <td>0.0</td>\n",
       "      <td>0.7</td>\n",
       "    </tr>\n",
       "    <tr>\n",
       "      <th>1084</th>\n",
       "      <td>1.0</td>\n",
       "      <td>0.0</td>\n",
       "      <td>0.0</td>\n",
       "      <td>0.0</td>\n",
       "      <td>0.0</td>\n",
       "      <td>0.0</td>\n",
       "      <td>1.0</td>\n",
       "      <td>7.4</td>\n",
       "    </tr>\n",
       "    <tr>\n",
       "      <th>1087</th>\n",
       "      <td>1.0</td>\n",
       "      <td>0.0</td>\n",
       "      <td>0.0</td>\n",
       "      <td>0.0</td>\n",
       "      <td>1.0</td>\n",
       "      <td>0.0</td>\n",
       "      <td>0.0</td>\n",
       "      <td>2.9</td>\n",
       "    </tr>\n",
       "    <tr>\n",
       "      <th>1090</th>\n",
       "      <td>1.0</td>\n",
       "      <td>0.0</td>\n",
       "      <td>0.0</td>\n",
       "      <td>0.0</td>\n",
       "      <td>0.0</td>\n",
       "      <td>0.0</td>\n",
       "      <td>0.0</td>\n",
       "      <td>3.5</td>\n",
       "    </tr>\n",
       "    <tr>\n",
       "      <th>1093</th>\n",
       "      <td>1.0</td>\n",
       "      <td>0.0</td>\n",
       "      <td>1.0</td>\n",
       "      <td>0.0</td>\n",
       "      <td>0.0</td>\n",
       "      <td>0.0</td>\n",
       "      <td>0.0</td>\n",
       "      <td>6.8</td>\n",
       "    </tr>\n",
       "  </tbody>\n",
       "</table>\n",
       "<p>366 rows × 8 columns</p>\n",
       "</div>"
      ],
      "text/plain": [
       "      Intercept  C(dayofweek)[T.Monday]  C(dayofweek)[T.Saturday]  \\\n",
       "0           1.0                     0.0                       0.0   \n",
       "3           1.0                     0.0                       1.0   \n",
       "6           1.0                     0.0                       0.0   \n",
       "9           1.0                     1.0                       0.0   \n",
       "12          1.0                     0.0                       0.0   \n",
       "...         ...                     ...                       ...   \n",
       "1081        1.0                     0.0                       0.0   \n",
       "1084        1.0                     0.0                       0.0   \n",
       "1087        1.0                     0.0                       0.0   \n",
       "1090        1.0                     0.0                       0.0   \n",
       "1093        1.0                     0.0                       1.0   \n",
       "\n",
       "      C(dayofweek)[T.Sunday]  C(dayofweek)[T.Thursday]  \\\n",
       "0                        0.0                       0.0   \n",
       "3                        0.0                       0.0   \n",
       "6                        1.0                       0.0   \n",
       "9                        0.0                       0.0   \n",
       "12                       0.0                       0.0   \n",
       "...                      ...                       ...   \n",
       "1081                     0.0                       0.0   \n",
       "1084                     0.0                       0.0   \n",
       "1087                     0.0                       1.0   \n",
       "1090                     0.0                       0.0   \n",
       "1093                     0.0                       0.0   \n",
       "\n",
       "      C(dayofweek)[T.Tuesday]  C(dayofweek)[T.Wednesday]  tmax  \n",
       "0                         0.0                        0.0   0.1  \n",
       "3                         0.0                        0.0   1.3  \n",
       "6                         0.0                        0.0   0.1  \n",
       "9                         0.0                        0.0   0.7  \n",
       "12                        1.0                        0.0   1.8  \n",
       "...                       ...                        ...   ...  \n",
       "1081                      1.0                        0.0   0.7  \n",
       "1084                      0.0                        1.0   7.4  \n",
       "1087                      0.0                        0.0   2.9  \n",
       "1090                      0.0                        0.0   3.5  \n",
       "1093                      0.0                        0.0   6.8  \n",
       "\n",
       "[366 rows x 8 columns]"
      ]
     },
     "execution_count": 262,
     "metadata": {},
     "output_type": "execute_result"
    }
   ],
   "source": [
    "# we can view the data matrix for the model to understand how the model handles categorical variables\n",
    "model.model.data.orig_exog"
   ]
  },
  {
   "cell_type": "code",
   "execution_count": 226,
   "metadata": {},
   "outputs": [
    {
     "data": {
      "text/plain": [
       "52.10549375031998"
      ]
     },
     "execution_count": 226,
     "metadata": {},
     "output_type": "execute_result"
    }
   ],
   "source": [
    "# snow, temperature, and day of the week as a categorical variable?\n",
    "model = smf.ols(formula='count ~ 1 + tmax + snow_indicator + C(dayofweek)', data=crimes).fit()\n",
    "models['temp+snow+day'] = model\n",
    "\n",
    "# compute the rmse on the training data\n",
    "rmse(model.predict(crimes), crimes['count'])"
   ]
  },
  {
   "cell_type": "code",
   "execution_count": 227,
   "metadata": {},
   "outputs": [
    {
     "data": {
      "text/plain": [
       "51.876541541026675"
      ]
     },
     "execution_count": 227,
     "metadata": {},
     "output_type": "execute_result"
    }
   ],
   "source": [
    "# snow, temperature, temperature squared, and day of the week as a categorical variable?\n",
    "model = smf.ols(formula='count ~ 1 + tmax + I(tmax**2) + snow_indicator + C(dayofweek)', data=crimes).fit()\n",
    "models['temp+temp^2+snow+day'] = model\n",
    "\n",
    "# compute the rmse on the training data\n",
    "rmse(model.predict(crimes), crimes['count'])"
   ]
  },
  {
   "cell_type": "code",
   "execution_count": 234,
   "metadata": {},
   "outputs": [
    {
     "data": {
      "text/plain": [
       "50.21280280286143"
      ]
     },
     "execution_count": 234,
     "metadata": {},
     "output_type": "execute_result"
    }
   ],
   "source": [
    "# ...and interactions between snow and day of the week?\n",
    "# * includes all interactions between the variables (and the variables themselves)\n",
    "model = smf.ols(formula='count ~ 1 + tmax + I(tmax**2) + snow_indicator * C(dayofweek)', data=crimes).fit()\n",
    "models['temp+temp^2+snow*day'] = model\n",
    "\n",
    "# compute the rmse on the training data\n",
    "rmse(model.predict(crimes), crimes['count'])"
   ]
  },
  {
   "attachments": {},
   "cell_type": "markdown",
   "metadata": {},
   "source": [
    "# let's look at how the models perform on data from other years"
   ]
  },
  {
   "cell_type": "code",
   "execution_count": 235,
   "metadata": {},
   "outputs": [],
   "source": [
    "# add day of week and snow indicator to every years' data\n",
    "years = [2016, 2017, 2018]\n",
    "data = [crimes_2016, crimes_2017, crimes_2018]\n",
    "for iyear in range(len(years)):\n",
    "    year = years[iyear]\n",
    "    icrimes = data[iyear]\n",
    "    icrimes['dayofweek'] = icrimes['date'].dt.dayofweek\n",
    "    icrimes['snow_indicator'] = icrimes['snow'] > 0\n",
    "    data[iyear] = icrimes"
   ]
  },
  {
   "cell_type": "code",
   "execution_count": 236,
   "metadata": {},
   "outputs": [
    {
     "data": {
      "text/html": [
       "<div>\n",
       "<style scoped>\n",
       "    .dataframe tbody tr th:only-of-type {\n",
       "        vertical-align: middle;\n",
       "    }\n",
       "\n",
       "    .dataframe tbody tr th {\n",
       "        vertical-align: top;\n",
       "    }\n",
       "\n",
       "    .dataframe thead th {\n",
       "        text-align: right;\n",
       "    }\n",
       "</style>\n",
       "<table border=\"1\" class=\"dataframe\">\n",
       "  <thead>\n",
       "    <tr style=\"text-align: right;\">\n",
       "      <th></th>\n",
       "      <th>2016</th>\n",
       "      <th>2017</th>\n",
       "      <th>2018</th>\n",
       "    </tr>\n",
       "    <tr>\n",
       "      <th>name</th>\n",
       "      <th></th>\n",
       "      <th></th>\n",
       "      <th></th>\n",
       "    </tr>\n",
       "  </thead>\n",
       "  <tbody>\n",
       "    <tr>\n",
       "      <th>order1</th>\n",
       "      <td>56.863122</td>\n",
       "      <td>59.294431</td>\n",
       "      <td>56.356590</td>\n",
       "    </tr>\n",
       "    <tr>\n",
       "      <th>order2</th>\n",
       "      <td>56.224122</td>\n",
       "      <td>58.949233</td>\n",
       "      <td>57.680577</td>\n",
       "    </tr>\n",
       "    <tr>\n",
       "      <th>order3</th>\n",
       "      <td>56.256826</td>\n",
       "      <td>59.321086</td>\n",
       "      <td>57.431126</td>\n",
       "    </tr>\n",
       "    <tr>\n",
       "      <th>order4</th>\n",
       "      <td>56.204260</td>\n",
       "      <td>59.466972</td>\n",
       "      <td>57.687035</td>\n",
       "    </tr>\n",
       "    <tr>\n",
       "      <th>order5</th>\n",
       "      <td>56.157468</td>\n",
       "      <td>59.571372</td>\n",
       "      <td>57.806359</td>\n",
       "    </tr>\n",
       "    <tr>\n",
       "      <th>order6</th>\n",
       "      <td>56.110769</td>\n",
       "      <td>59.628705</td>\n",
       "      <td>58.002017</td>\n",
       "    </tr>\n",
       "    <tr>\n",
       "      <th>order7</th>\n",
       "      <td>56.073609</td>\n",
       "      <td>59.663224</td>\n",
       "      <td>58.174253</td>\n",
       "    </tr>\n",
       "    <tr>\n",
       "      <th>order8</th>\n",
       "      <td>56.045402</td>\n",
       "      <td>59.679608</td>\n",
       "      <td>58.363834</td>\n",
       "    </tr>\n",
       "    <tr>\n",
       "      <th>order9</th>\n",
       "      <td>56.026310</td>\n",
       "      <td>59.684030</td>\n",
       "      <td>58.540243</td>\n",
       "    </tr>\n",
       "    <tr>\n",
       "      <th>temp+snow</th>\n",
       "      <td>56.142979</td>\n",
       "      <td>57.770558</td>\n",
       "      <td>55.015801</td>\n",
       "    </tr>\n",
       "    <tr>\n",
       "      <th>temp+day</th>\n",
       "      <td>52.632296</td>\n",
       "      <td>56.978551</td>\n",
       "      <td>54.256518</td>\n",
       "    </tr>\n",
       "    <tr>\n",
       "      <th>temp+snow+day</th>\n",
       "      <td>52.105494</td>\n",
       "      <td>55.665090</td>\n",
       "      <td>53.171208</td>\n",
       "    </tr>\n",
       "    <tr>\n",
       "      <th>temp+temp^2+snow+day</th>\n",
       "      <td>51.876542</td>\n",
       "      <td>55.665535</td>\n",
       "      <td>54.403009</td>\n",
       "    </tr>\n",
       "    <tr>\n",
       "      <th>temp+temp^2+snow*day</th>\n",
       "      <td>50.212803</td>\n",
       "      <td>55.825715</td>\n",
       "      <td>54.206647</td>\n",
       "    </tr>\n",
       "  </tbody>\n",
       "</table>\n",
       "</div>"
      ],
      "text/plain": [
       "                           2016       2017       2018\n",
       "name                                                 \n",
       "order1                56.863122  59.294431  56.356590\n",
       "order2                56.224122  58.949233  57.680577\n",
       "order3                56.256826  59.321086  57.431126\n",
       "order4                56.204260  59.466972  57.687035\n",
       "order5                56.157468  59.571372  57.806359\n",
       "order6                56.110769  59.628705  58.002017\n",
       "order7                56.073609  59.663224  58.174253\n",
       "order8                56.045402  59.679608  58.363834\n",
       "order9                56.026310  59.684030  58.540243\n",
       "temp+snow             56.142979  57.770558  55.015801\n",
       "temp+day              52.632296  56.978551  54.256518\n",
       "temp+snow+day         52.105494  55.665090  53.171208\n",
       "temp+temp^2+snow+day  51.876542  55.665535  54.403009\n",
       "temp+temp^2+snow*day  50.212803  55.825715  54.206647"
      ]
     },
     "execution_count": 236,
     "metadata": {},
     "output_type": "execute_result"
    }
   ],
   "source": [
    "rmses = {}\n",
    "for iyear in range(len(years)):\n",
    "    year = years[iyear]\n",
    "    icrimes = data[iyear]\n",
    "    rmses[year] = [rmse(model.predict(icrimes), icrimes['count']) for model in models.values()]\n",
    "rmses['name'] = models.keys()\n",
    "rmses = pd.DataFrame(rmses)\n",
    "rmses.set_index('name', inplace=True)\n",
    "rmses"
   ]
  },
  {
   "cell_type": "code",
   "execution_count": 237,
   "metadata": {},
   "outputs": [
    {
     "data": {
      "text/plain": [
       "([0, 1, 2, 3, 4, 5, 6, 7, 8, 9, 10, 11, 12, 13],\n",
       " [Text(0, 0, ''),\n",
       "  Text(0, 0, ''),\n",
       "  Text(0, 0, ''),\n",
       "  Text(0, 0, ''),\n",
       "  Text(0, 0, ''),\n",
       "  Text(0, 0, ''),\n",
       "  Text(0, 0, ''),\n",
       "  Text(0, 0, ''),\n",
       "  Text(0, 0, ''),\n",
       "  Text(0, 0, ''),\n",
       "  Text(0, 0, ''),\n",
       "  Text(0, 0, ''),\n",
       "  Text(0, 0, ''),\n",
       "  Text(0, 0, '')])"
      ]
     },
     "execution_count": 237,
     "metadata": {},
     "output_type": "execute_result"
    },
    {
     "data": {
      "image/png": "[encoded data removed]",
      "text/plain": [
       "<Figure size 432x288 with 1 Axes>"
      ]
     },
     "metadata": {
      "needs_background": "light"
     },
     "output_type": "display_data"
    }
   ],
   "source": [
    "sns.lineplot(data=rmses)\n",
    "# rotate the xtick labels\n",
    "plt.xticks(rotation=45)"
   ]
  },
  {
   "cell_type": "markdown",
   "metadata": {},
   "source": [
    "* while adding more polynomial features overfits, the extra binary and categorical features help the model generalize better"
   ]
  },
  {
   "cell_type": "markdown",
   "metadata": {},
   "source": [
    "# Create a random train test split"
   ]
  },
  {
   "cell_type": "code",
   "execution_count": 233,
   "metadata": {},
   "outputs": [
    {
     "data": {
      "image/png": "[encoded data removed]",
      "text/plain": [
       "<Figure size 432x288 with 1 Axes>"
      ]
     },
     "metadata": {
      "needs_background": "light"
     },
     "output_type": "display_data"
    }
   ],
   "source": [
    "# subsample from the data to split a training and test set\n",
    "crimes_train = crimes_2018.sample(frac=0.1, random_state=10)\n",
    "crimes_test = crimes_2018.drop(crimes_train.index)\n",
    "sns.scatterplot(x='tmax', y='count', data=crimes_train)\n",
    "train = crimes_train"
   ]
  },
  {
   "cell_type": "code",
   "execution_count": null,
   "metadata": {},
   "outputs": [],
   "source": [
    "# could go back up to train just on this random sample\n",
    "crimes = crimes_train"
   ]
  },
  {
   "cell_type": "markdown",
   "metadata": {},
   "source": []
  }
 ],
 "metadata": {
  "kernelspec": {
   "display_name": "base",
   "language": "python",
   "name": "python3"
  },
  "language_info": {
   "codemirror_mode": {
    "name": "ipython",
    "version": 3
   },
   "file_extension": ".py",
   "mimetype": "text/x-python",
   "name": "python",
   "nbconvert_exporter": "python",
   "pygments_lexer": "ipython3",
   "version": "3.9.12"
  },
  "orig_nbformat": 4,
  "vscode": {
   "interpreter": {
    "hash": "2e8b7f62927fe0753cae67d9a5877941773e0f948637a4bc940202eeb3c19f2e"
   }
  }
 },
 "nbformat": 4,
 "nbformat_minor": 2
}
